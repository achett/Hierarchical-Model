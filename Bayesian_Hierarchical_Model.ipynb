{
  "cells": [
    {
      "cell_type": "markdown",
      "metadata": {
        "id": "view-in-github",
        "colab_type": "text"
      },
      "source": [
        "<a href=\"https://colab.research.google.com/github/achett/Hierarchical-Model/blob/main/Bayesian_Hierarchical_Model.ipynb\" target=\"_parent\"><img src=\"https://colab.research.google.com/assets/colab-badge.svg\" alt=\"Open In Colab\"/></a>"
      ]
    },
    {
      "cell_type": "code",
      "execution_count": 1,
      "metadata": {
        "colab": {
          "base_uri": "https://localhost:8080/",
          "height": 1000
        },
        "id": "WPJgqdPdNT1D",
        "outputId": "54e7f7c2-d132-4d70-d427-a2a1317607d7"
      },
      "outputs": [
        {
          "output_type": "stream",
          "name": "stdout",
          "text": [
            "Collecting hierarchicalforecast\n",
            "  Downloading hierarchicalforecast-0.4.1-py3-none-any.whl (45 kB)\n",
            "\u001b[2K     \u001b[90m━━━━━━━━━━━━━━━━━━━━━━━━━━━━━━━━━━━━━━━━\u001b[0m \u001b[32m45.1/45.1 kB\u001b[0m \u001b[31m1.7 MB/s\u001b[0m eta \u001b[36m0:00:00\u001b[0m\n",
            "\u001b[?25hCollecting numpy<1.24 (from hierarchicalforecast)\n",
            "  Downloading numpy-1.23.5-cp310-cp310-manylinux_2_17_x86_64.manylinux2014_x86_64.whl (17.1 MB)\n",
            "\u001b[2K     \u001b[90m━━━━━━━━━━━━━━━━━━━━━━━━━━━━━━━━━━━━━━━━\u001b[0m \u001b[32m17.1/17.1 MB\u001b[0m \u001b[31m24.9 MB/s\u001b[0m eta \u001b[36m0:00:00\u001b[0m\n",
            "\u001b[?25hRequirement already satisfied: numba in /usr/local/lib/python3.10/dist-packages (from hierarchicalforecast) (0.58.1)\n",
            "Requirement already satisfied: pandas in /usr/local/lib/python3.10/dist-packages (from hierarchicalforecast) (1.5.3)\n",
            "Requirement already satisfied: scikit-learn in /usr/local/lib/python3.10/dist-packages (from hierarchicalforecast) (1.2.2)\n",
            "Collecting quadprog (from hierarchicalforecast)\n",
            "  Downloading quadprog-0.1.12-cp310-cp310-manylinux_2_17_x86_64.manylinux2014_x86_64.whl (508 kB)\n",
            "\u001b[2K     \u001b[90m━━━━━━━━━━━━━━━━━━━━━━━━━━━━━━━━━━━━━━━━\u001b[0m \u001b[32m508.2/508.2 kB\u001b[0m \u001b[31m33.9 MB/s\u001b[0m eta \u001b[36m0:00:00\u001b[0m\n",
            "\u001b[?25hRequirement already satisfied: matplotlib in /usr/local/lib/python3.10/dist-packages (from hierarchicalforecast) (3.7.1)\n",
            "Requirement already satisfied: tqdm in /usr/local/lib/python3.10/dist-packages (from hierarchicalforecast) (4.66.2)\n",
            "Requirement already satisfied: contourpy>=1.0.1 in /usr/local/lib/python3.10/dist-packages (from matplotlib->hierarchicalforecast) (1.2.0)\n",
            "Requirement already satisfied: cycler>=0.10 in /usr/local/lib/python3.10/dist-packages (from matplotlib->hierarchicalforecast) (0.12.1)\n",
            "Requirement already satisfied: fonttools>=4.22.0 in /usr/local/lib/python3.10/dist-packages (from matplotlib->hierarchicalforecast) (4.49.0)\n",
            "Requirement already satisfied: kiwisolver>=1.0.1 in /usr/local/lib/python3.10/dist-packages (from matplotlib->hierarchicalforecast) (1.4.5)\n",
            "Requirement already satisfied: packaging>=20.0 in /usr/local/lib/python3.10/dist-packages (from matplotlib->hierarchicalforecast) (23.2)\n",
            "Requirement already satisfied: pillow>=6.2.0 in /usr/local/lib/python3.10/dist-packages (from matplotlib->hierarchicalforecast) (9.4.0)\n",
            "Requirement already satisfied: pyparsing>=2.3.1 in /usr/local/lib/python3.10/dist-packages (from matplotlib->hierarchicalforecast) (3.1.1)\n",
            "Requirement already satisfied: python-dateutil>=2.7 in /usr/local/lib/python3.10/dist-packages (from matplotlib->hierarchicalforecast) (2.8.2)\n",
            "Requirement already satisfied: llvmlite<0.42,>=0.41.0dev0 in /usr/local/lib/python3.10/dist-packages (from numba->hierarchicalforecast) (0.41.1)\n",
            "Requirement already satisfied: pytz>=2020.1 in /usr/local/lib/python3.10/dist-packages (from pandas->hierarchicalforecast) (2023.4)\n",
            "Requirement already satisfied: scipy>=1.3.2 in /usr/local/lib/python3.10/dist-packages (from scikit-learn->hierarchicalforecast) (1.11.4)\n",
            "Requirement already satisfied: joblib>=1.1.1 in /usr/local/lib/python3.10/dist-packages (from scikit-learn->hierarchicalforecast) (1.3.2)\n",
            "Requirement already satisfied: threadpoolctl>=2.0.0 in /usr/local/lib/python3.10/dist-packages (from scikit-learn->hierarchicalforecast) (3.3.0)\n",
            "Requirement already satisfied: six>=1.5 in /usr/local/lib/python3.10/dist-packages (from python-dateutil>=2.7->matplotlib->hierarchicalforecast) (1.16.0)\n",
            "Installing collected packages: numpy, quadprog, hierarchicalforecast\n",
            "  Attempting uninstall: numpy\n",
            "    Found existing installation: numpy 1.25.2\n",
            "    Uninstalling numpy-1.25.2:\n",
            "      Successfully uninstalled numpy-1.25.2\n",
            "\u001b[31mERROR: pip's dependency resolver does not currently take into account all the packages that are installed. This behaviour is the source of the following dependency conflicts.\n",
            "chex 0.1.85 requires numpy>=1.24.1, but you have numpy 1.23.5 which is incompatible.\u001b[0m\u001b[31m\n",
            "\u001b[0mSuccessfully installed hierarchicalforecast-0.4.1 numpy-1.23.5 quadprog-0.1.12\n"
          ]
        },
        {
          "output_type": "display_data",
          "data": {
            "application/vnd.colab-display-data+json": {
              "pip_warning": {
                "packages": [
                  "numpy"
                ]
              },
              "id": "4ca1714166944ec5880e121eebf97535"
            }
          },
          "metadata": {}
        },
        {
          "output_type": "stream",
          "name": "stdout",
          "text": [
            "Collecting statsforecast\n",
            "  Downloading statsforecast-1.7.3-py3-none-any.whl (120 kB)\n",
            "\u001b[2K     \u001b[90m━━━━━━━━━━━━━━━━━━━━━━━━━━━━━━━━━━━━━━━━\u001b[0m \u001b[32m120.7/120.7 kB\u001b[0m \u001b[31m1.6 MB/s\u001b[0m eta \u001b[36m0:00:00\u001b[0m\n",
            "\u001b[?25hRequirement already satisfied: cloudpickle in /usr/local/lib/python3.10/dist-packages (from statsforecast) (2.2.1)\n",
            "Requirement already satisfied: numba>=0.55.0 in /usr/local/lib/python3.10/dist-packages (from statsforecast) (0.58.1)\n",
            "Requirement already satisfied: numpy>=1.21.6 in /usr/local/lib/python3.10/dist-packages (from statsforecast) (1.23.5)\n",
            "Requirement already satisfied: pandas>=1.3.5 in /usr/local/lib/python3.10/dist-packages (from statsforecast) (1.5.3)\n",
            "Requirement already satisfied: scipy>=1.7.3 in /usr/local/lib/python3.10/dist-packages (from statsforecast) (1.11.4)\n",
            "Requirement already satisfied: statsmodels>=0.13.2 in /usr/local/lib/python3.10/dist-packages (from statsforecast) (0.14.1)\n",
            "Requirement already satisfied: tqdm in /usr/local/lib/python3.10/dist-packages (from statsforecast) (4.66.2)\n",
            "Collecting fugue>=0.8.1 (from statsforecast)\n",
            "  Downloading fugue-0.8.7-py3-none-any.whl (279 kB)\n",
            "\u001b[2K     \u001b[90m━━━━━━━━━━━━━━━━━━━━━━━━━━━━━━━━━━━━━━━━\u001b[0m \u001b[32m279.8/279.8 kB\u001b[0m \u001b[31m5.5 MB/s\u001b[0m eta \u001b[36m0:00:00\u001b[0m\n",
            "\u001b[?25hCollecting utilsforecast>=0.0.24 (from statsforecast)\n",
            "  Downloading utilsforecast-0.1.0-py3-none-any.whl (39 kB)\n",
            "Requirement already satisfied: threadpoolctl in /usr/local/lib/python3.10/dist-packages (from statsforecast) (3.3.0)\n",
            "Collecting triad>=0.9.3 (from fugue>=0.8.1->statsforecast)\n",
            "  Downloading triad-0.9.5-py3-none-any.whl (61 kB)\n",
            "\u001b[2K     \u001b[90m━━━━━━━━━━━━━━━━━━━━━━━━━━━━━━━━━━━━━━━━\u001b[0m \u001b[32m61.1/61.1 kB\u001b[0m \u001b[31m2.8 MB/s\u001b[0m eta \u001b[36m0:00:00\u001b[0m\n",
            "\u001b[?25hCollecting adagio>=0.2.4 (from fugue>=0.8.1->statsforecast)\n",
            "  Downloading adagio-0.2.4-py3-none-any.whl (26 kB)\n",
            "Collecting qpd>=0.4.4 (from fugue>=0.8.1->statsforecast)\n",
            "  Downloading qpd-0.4.4-py3-none-any.whl (169 kB)\n",
            "\u001b[2K     \u001b[90m━━━━━━━━━━━━━━━━━━━━━━━━━━━━━━━━━━━━━━━━\u001b[0m \u001b[32m169.2/169.2 kB\u001b[0m \u001b[31m5.0 MB/s\u001b[0m eta \u001b[36m0:00:00\u001b[0m\n",
            "\u001b[?25hCollecting fugue-sql-antlr>=0.1.6 (from fugue>=0.8.1->statsforecast)\n",
            "  Downloading fugue-sql-antlr-0.2.0.tar.gz (154 kB)\n",
            "\u001b[2K     \u001b[90m━━━━━━━━━━━━━━━━━━━━━━━━━━━━━━━━━━━━━━━━\u001b[0m \u001b[32m154.7/154.7 kB\u001b[0m \u001b[31m14.2 MB/s\u001b[0m eta \u001b[36m0:00:00\u001b[0m\n",
            "\u001b[?25h  Preparing metadata (setup.py) ... \u001b[?25l\u001b[?25hdone\n",
            "Requirement already satisfied: sqlglot in /usr/local/lib/python3.10/dist-packages (from fugue>=0.8.1->statsforecast) (19.9.0)\n",
            "Requirement already satisfied: jinja2 in /usr/local/lib/python3.10/dist-packages (from fugue>=0.8.1->statsforecast) (3.1.3)\n",
            "Requirement already satisfied: llvmlite<0.42,>=0.41.0dev0 in /usr/local/lib/python3.10/dist-packages (from numba>=0.55.0->statsforecast) (0.41.1)\n",
            "Requirement already satisfied: python-dateutil>=2.8.1 in /usr/local/lib/python3.10/dist-packages (from pandas>=1.3.5->statsforecast) (2.8.2)\n",
            "Requirement already satisfied: pytz>=2020.1 in /usr/local/lib/python3.10/dist-packages (from pandas>=1.3.5->statsforecast) (2023.4)\n",
            "Requirement already satisfied: patsy>=0.5.4 in /usr/local/lib/python3.10/dist-packages (from statsmodels>=0.13.2->statsforecast) (0.5.6)\n",
            "Requirement already satisfied: packaging>=21.3 in /usr/local/lib/python3.10/dist-packages (from statsmodels>=0.13.2->statsforecast) (23.2)\n",
            "Collecting antlr4-python3-runtime<4.12 (from fugue-sql-antlr>=0.1.6->fugue>=0.8.1->statsforecast)\n",
            "  Downloading antlr4_python3_runtime-4.11.1-py3-none-any.whl (144 kB)\n",
            "\u001b[2K     \u001b[90m━━━━━━━━━━━━━━━━━━━━━━━━━━━━━━━━━━━━━━━━\u001b[0m \u001b[32m144.2/144.2 kB\u001b[0m \u001b[31m4.9 MB/s\u001b[0m eta \u001b[36m0:00:00\u001b[0m\n",
            "\u001b[?25hRequirement already satisfied: six in /usr/local/lib/python3.10/dist-packages (from patsy>=0.5.4->statsmodels>=0.13.2->statsforecast) (1.16.0)\n",
            "Requirement already satisfied: pyarrow>=6.0.1 in /usr/local/lib/python3.10/dist-packages (from triad>=0.9.3->fugue>=0.8.1->statsforecast) (14.0.2)\n",
            "Requirement already satisfied: fsspec>=2022.5.0 in /usr/local/lib/python3.10/dist-packages (from triad>=0.9.3->fugue>=0.8.1->statsforecast) (2023.6.0)\n",
            "Collecting fs (from triad>=0.9.3->fugue>=0.8.1->statsforecast)\n",
            "  Downloading fs-2.4.16-py2.py3-none-any.whl (135 kB)\n",
            "\u001b[2K     \u001b[90m━━━━━━━━━━━━━━━━━━━━━━━━━━━━━━━━━━━━━━━━\u001b[0m \u001b[32m135.3/135.3 kB\u001b[0m \u001b[31m3.7 MB/s\u001b[0m eta \u001b[36m0:00:00\u001b[0m\n",
            "\u001b[?25hRequirement already satisfied: MarkupSafe>=2.0 in /usr/local/lib/python3.10/dist-packages (from jinja2->fugue>=0.8.1->statsforecast) (2.1.5)\n",
            "Requirement already satisfied: appdirs~=1.4.3 in /usr/local/lib/python3.10/dist-packages (from fs->triad>=0.9.3->fugue>=0.8.1->statsforecast) (1.4.4)\n",
            "Requirement already satisfied: setuptools in /usr/local/lib/python3.10/dist-packages (from fs->triad>=0.9.3->fugue>=0.8.1->statsforecast) (67.7.2)\n",
            "Building wheels for collected packages: fugue-sql-antlr\n",
            "  Building wheel for fugue-sql-antlr (setup.py) ... \u001b[?25l\u001b[?25hdone\n",
            "  Created wheel for fugue-sql-antlr: filename=fugue_sql_antlr-0.2.0-py3-none-any.whl size=158196 sha256=4b178ff9d7f0e3f29f9a192ea6cacc3843b82ba1eb5838e1eea626213d1d6ac8\n",
            "  Stored in directory: /root/.cache/pip/wheels/5a/b5/4e/216953a1c711da55de29ed7ecf158b4a5bf32ef93d69ad66dd\n",
            "Successfully built fugue-sql-antlr\n",
            "Installing collected packages: antlr4-python3-runtime, fs, utilsforecast, triad, fugue-sql-antlr, adagio, qpd, fugue, statsforecast\n",
            "Successfully installed adagio-0.2.4 antlr4-python3-runtime-4.11.1 fs-2.4.16 fugue-0.8.7 fugue-sql-antlr-0.2.0 qpd-0.4.4 statsforecast-1.7.3 triad-0.9.5 utilsforecast-0.1.0\n",
            "Collecting datasetsforecast\n",
            "  Downloading datasetsforecast-0.0.8-py3-none-any.whl (27 kB)\n",
            "Requirement already satisfied: aiohttp in /usr/local/lib/python3.10/dist-packages (from datasetsforecast) (3.9.3)\n",
            "Requirement already satisfied: fugue>=0.8.1 in /usr/local/lib/python3.10/dist-packages (from datasetsforecast) (0.8.7)\n",
            "Requirement already satisfied: numba in /usr/local/lib/python3.10/dist-packages (from datasetsforecast) (0.58.1)\n",
            "Requirement already satisfied: numpy in /usr/local/lib/python3.10/dist-packages (from datasetsforecast) (1.23.5)\n",
            "Requirement already satisfied: pandas in /usr/local/lib/python3.10/dist-packages (from datasetsforecast) (1.5.3)\n",
            "Requirement already satisfied: requests in /usr/local/lib/python3.10/dist-packages (from datasetsforecast) (2.31.0)\n",
            "Requirement already satisfied: tqdm in /usr/local/lib/python3.10/dist-packages (from datasetsforecast) (4.66.2)\n",
            "Requirement already satisfied: xlrd>=1.0.0 in /usr/local/lib/python3.10/dist-packages (from datasetsforecast) (2.0.1)\n",
            "Requirement already satisfied: triad>=0.9.3 in /usr/local/lib/python3.10/dist-packages (from fugue>=0.8.1->datasetsforecast) (0.9.5)\n",
            "Requirement already satisfied: adagio>=0.2.4 in /usr/local/lib/python3.10/dist-packages (from fugue>=0.8.1->datasetsforecast) (0.2.4)\n",
            "Requirement already satisfied: qpd>=0.4.4 in /usr/local/lib/python3.10/dist-packages (from fugue>=0.8.1->datasetsforecast) (0.4.4)\n",
            "Requirement already satisfied: fugue-sql-antlr>=0.1.6 in /usr/local/lib/python3.10/dist-packages (from fugue>=0.8.1->datasetsforecast) (0.2.0)\n",
            "Requirement already satisfied: sqlglot in /usr/local/lib/python3.10/dist-packages (from fugue>=0.8.1->datasetsforecast) (19.9.0)\n",
            "Requirement already satisfied: jinja2 in /usr/local/lib/python3.10/dist-packages (from fugue>=0.8.1->datasetsforecast) (3.1.3)\n",
            "Requirement already satisfied: aiosignal>=1.1.2 in /usr/local/lib/python3.10/dist-packages (from aiohttp->datasetsforecast) (1.3.1)\n",
            "Requirement already satisfied: attrs>=17.3.0 in /usr/local/lib/python3.10/dist-packages (from aiohttp->datasetsforecast) (23.2.0)\n",
            "Requirement already satisfied: frozenlist>=1.1.1 in /usr/local/lib/python3.10/dist-packages (from aiohttp->datasetsforecast) (1.4.1)\n",
            "Requirement already satisfied: multidict<7.0,>=4.5 in /usr/local/lib/python3.10/dist-packages (from aiohttp->datasetsforecast) (6.0.5)\n",
            "Requirement already satisfied: yarl<2.0,>=1.0 in /usr/local/lib/python3.10/dist-packages (from aiohttp->datasetsforecast) (1.9.4)\n",
            "Requirement already satisfied: async-timeout<5.0,>=4.0 in /usr/local/lib/python3.10/dist-packages (from aiohttp->datasetsforecast) (4.0.3)\n",
            "Requirement already satisfied: llvmlite<0.42,>=0.41.0dev0 in /usr/local/lib/python3.10/dist-packages (from numba->datasetsforecast) (0.41.1)\n",
            "Requirement already satisfied: python-dateutil>=2.8.1 in /usr/local/lib/python3.10/dist-packages (from pandas->datasetsforecast) (2.8.2)\n",
            "Requirement already satisfied: pytz>=2020.1 in /usr/local/lib/python3.10/dist-packages (from pandas->datasetsforecast) (2023.4)\n",
            "Requirement already satisfied: charset-normalizer<4,>=2 in /usr/local/lib/python3.10/dist-packages (from requests->datasetsforecast) (3.3.2)\n",
            "Requirement already satisfied: idna<4,>=2.5 in /usr/local/lib/python3.10/dist-packages (from requests->datasetsforecast) (3.6)\n",
            "Requirement already satisfied: urllib3<3,>=1.21.1 in /usr/local/lib/python3.10/dist-packages (from requests->datasetsforecast) (2.0.7)\n",
            "Requirement already satisfied: certifi>=2017.4.17 in /usr/local/lib/python3.10/dist-packages (from requests->datasetsforecast) (2024.2.2)\n",
            "Requirement already satisfied: antlr4-python3-runtime<4.12 in /usr/local/lib/python3.10/dist-packages (from fugue-sql-antlr>=0.1.6->fugue>=0.8.1->datasetsforecast) (4.11.1)\n",
            "Requirement already satisfied: packaging in /usr/local/lib/python3.10/dist-packages (from fugue-sql-antlr>=0.1.6->fugue>=0.8.1->datasetsforecast) (23.2)\n",
            "Requirement already satisfied: six>=1.5 in /usr/local/lib/python3.10/dist-packages (from python-dateutil>=2.8.1->pandas->datasetsforecast) (1.16.0)\n",
            "Requirement already satisfied: pyarrow>=6.0.1 in /usr/local/lib/python3.10/dist-packages (from triad>=0.9.3->fugue>=0.8.1->datasetsforecast) (14.0.2)\n",
            "Requirement already satisfied: fsspec>=2022.5.0 in /usr/local/lib/python3.10/dist-packages (from triad>=0.9.3->fugue>=0.8.1->datasetsforecast) (2023.6.0)\n",
            "Requirement already satisfied: fs in /usr/local/lib/python3.10/dist-packages (from triad>=0.9.3->fugue>=0.8.1->datasetsforecast) (2.4.16)\n",
            "Requirement already satisfied: MarkupSafe>=2.0 in /usr/local/lib/python3.10/dist-packages (from jinja2->fugue>=0.8.1->datasetsforecast) (2.1.5)\n",
            "Requirement already satisfied: appdirs~=1.4.3 in /usr/local/lib/python3.10/dist-packages (from fs->triad>=0.9.3->fugue>=0.8.1->datasetsforecast) (1.4.4)\n",
            "Requirement already satisfied: setuptools in /usr/local/lib/python3.10/dist-packages (from fs->triad>=0.9.3->fugue>=0.8.1->datasetsforecast) (67.7.2)\n",
            "Installing collected packages: datasetsforecast\n",
            "Successfully installed datasetsforecast-0.0.8\n",
            "Collecting darts\n",
            "  Downloading darts-0.28.0-py3-none-any.whl (846 kB)\n",
            "\u001b[2K     \u001b[90m━━━━━━━━━━━━━━━━━━━━━━━━━━━━━━━━━━━━━━━━\u001b[0m \u001b[32m846.9/846.9 kB\u001b[0m \u001b[31m8.4 MB/s\u001b[0m eta \u001b[36m0:00:00\u001b[0m\n",
            "\u001b[?25hRequirement already satisfied: holidays>=0.11.1 in /usr/local/lib/python3.10/dist-packages (from darts) (0.43)\n",
            "Requirement already satisfied: joblib>=0.16.0 in /usr/local/lib/python3.10/dist-packages (from darts) (1.3.2)\n",
            "Requirement already satisfied: matplotlib>=3.3.0 in /usr/local/lib/python3.10/dist-packages (from darts) (3.7.1)\n",
            "Collecting nfoursid>=1.0.0 (from darts)\n",
            "  Downloading nfoursid-1.0.1-py3-none-any.whl (16 kB)\n",
            "Requirement already satisfied: numpy>=1.19.0 in /usr/local/lib/python3.10/dist-packages (from darts) (1.23.5)\n",
            "Collecting pmdarima>=1.8.0 (from darts)\n",
            "  Downloading pmdarima-2.0.4-cp310-cp310-manylinux_2_17_x86_64.manylinux2014_x86_64.manylinux_2_28_x86_64.whl (2.1 MB)\n",
            "\u001b[2K     \u001b[90m━━━━━━━━━━━━━━━━━━━━━━━━━━━━━━━━━━━━━━━━\u001b[0m \u001b[32m2.1/2.1 MB\u001b[0m \u001b[31m14.9 MB/s\u001b[0m eta \u001b[36m0:00:00\u001b[0m\n",
            "\u001b[?25hCollecting pyod>=0.9.5 (from darts)\n",
            "  Downloading pyod-1.1.3.tar.gz (160 kB)\n",
            "\u001b[2K     \u001b[90m━━━━━━━━━━━━━━━━━━━━━━━━━━━━━━━━━━━━━━━━\u001b[0m \u001b[32m160.5/160.5 kB\u001b[0m \u001b[31m15.9 MB/s\u001b[0m eta \u001b[36m0:00:00\u001b[0m\n",
            "\u001b[?25h  Preparing metadata (setup.py) ... \u001b[?25l\u001b[?25hdone\n",
            "Requirement already satisfied: requests>=2.22.0 in /usr/local/lib/python3.10/dist-packages (from darts) (2.31.0)\n",
            "Requirement already satisfied: scikit-learn>=1.0.1 in /usr/local/lib/python3.10/dist-packages (from darts) (1.2.2)\n",
            "Requirement already satisfied: scipy>=1.3.2 in /usr/local/lib/python3.10/dist-packages (from darts) (1.11.4)\n",
            "Collecting shap>=0.40.0 (from darts)\n",
            "  Downloading shap-0.44.1-cp310-cp310-manylinux_2_12_x86_64.manylinux2010_x86_64.manylinux_2_17_x86_64.manylinux2014_x86_64.whl (535 kB)\n",
            "\u001b[2K     \u001b[90m━━━━━━━━━━━━━━━━━━━━━━━━━━━━━━━━━━━━━━━━\u001b[0m \u001b[32m535.7/535.7 kB\u001b[0m \u001b[31m17.5 MB/s\u001b[0m eta \u001b[36m0:00:00\u001b[0m\n",
            "\u001b[?25hRequirement already satisfied: statsforecast>=1.4 in /usr/local/lib/python3.10/dist-packages (from darts) (1.7.3)\n",
            "Requirement already satisfied: statsmodels>=0.14.0 in /usr/local/lib/python3.10/dist-packages (from darts) (0.14.1)\n",
            "Collecting tbats>=1.1.0 (from darts)\n",
            "  Downloading tbats-1.1.3-py3-none-any.whl (44 kB)\n",
            "\u001b[2K     \u001b[90m━━━━━━━━━━━━━━━━━━━━━━━━━━━━━━━━━━━━━━━━\u001b[0m \u001b[32m44.0/44.0 kB\u001b[0m \u001b[31m4.9 MB/s\u001b[0m eta \u001b[36m0:00:00\u001b[0m\n",
            "\u001b[?25hRequirement already satisfied: tqdm>=4.60.0 in /usr/local/lib/python3.10/dist-packages (from darts) (4.66.2)\n",
            "Requirement already satisfied: typing-extensions in /usr/local/lib/python3.10/dist-packages (from darts) (4.10.0)\n",
            "Requirement already satisfied: xarray>=0.17.0 in /usr/local/lib/python3.10/dist-packages (from darts) (2023.7.0)\n",
            "Requirement already satisfied: xgboost>=1.6.0 in /usr/local/lib/python3.10/dist-packages (from darts) (2.0.3)\n",
            "Collecting pytorch-lightning>=1.5.0 (from darts)\n",
            "  Downloading pytorch_lightning-2.2.1-py3-none-any.whl (801 kB)\n",
            "\u001b[2K     \u001b[90m━━━━━━━━━━━━━━━━━━━━━━━━━━━━━━━━━━━━━━━━\u001b[0m \u001b[32m801.6/801.6 kB\u001b[0m \u001b[31m21.6 MB/s\u001b[0m eta \u001b[36m0:00:00\u001b[0m\n",
            "\u001b[?25hCollecting tensorboardX>=2.1 (from darts)\n",
            "  Downloading tensorboardX-2.6.2.2-py2.py3-none-any.whl (101 kB)\n",
            "\u001b[2K     \u001b[90m━━━━━━━━━━━━━━━━━━━━━━━━━━━━━━━━━━━━━━━━\u001b[0m \u001b[32m101.7/101.7 kB\u001b[0m \u001b[31m9.8 MB/s\u001b[0m eta \u001b[36m0:00:00\u001b[0m\n",
            "\u001b[?25hRequirement already satisfied: torch>=1.8.0 in /usr/local/lib/python3.10/dist-packages (from darts) (2.1.0+cu121)\n",
            "Requirement already satisfied: pandas>=1.0.5 in /usr/local/lib/python3.10/dist-packages (from darts) (1.5.3)\n",
            "Requirement already satisfied: python-dateutil in /usr/local/lib/python3.10/dist-packages (from holidays>=0.11.1->darts) (2.8.2)\n",
            "Requirement already satisfied: contourpy>=1.0.1 in /usr/local/lib/python3.10/dist-packages (from matplotlib>=3.3.0->darts) (1.2.0)\n",
            "Requirement already satisfied: cycler>=0.10 in /usr/local/lib/python3.10/dist-packages (from matplotlib>=3.3.0->darts) (0.12.1)\n",
            "Requirement already satisfied: fonttools>=4.22.0 in /usr/local/lib/python3.10/dist-packages (from matplotlib>=3.3.0->darts) (4.49.0)\n",
            "Requirement already satisfied: kiwisolver>=1.0.1 in /usr/local/lib/python3.10/dist-packages (from matplotlib>=3.3.0->darts) (1.4.5)\n",
            "Requirement already satisfied: packaging>=20.0 in /usr/local/lib/python3.10/dist-packages (from matplotlib>=3.3.0->darts) (23.2)\n",
            "Requirement already satisfied: pillow>=6.2.0 in /usr/local/lib/python3.10/dist-packages (from matplotlib>=3.3.0->darts) (9.4.0)\n",
            "Requirement already satisfied: pyparsing>=2.3.1 in /usr/local/lib/python3.10/dist-packages (from matplotlib>=3.3.0->darts) (3.1.1)\n",
            "Requirement already satisfied: pytz>=2020.1 in /usr/local/lib/python3.10/dist-packages (from pandas>=1.0.5->darts) (2023.4)\n",
            "Requirement already satisfied: Cython!=0.29.18,!=0.29.31,>=0.29 in /usr/local/lib/python3.10/dist-packages (from pmdarima>=1.8.0->darts) (3.0.8)\n",
            "Requirement already satisfied: urllib3 in /usr/local/lib/python3.10/dist-packages (from pmdarima>=1.8.0->darts) (2.0.7)\n",
            "Requirement already satisfied: setuptools!=50.0.0,>=38.6.0 in /usr/local/lib/python3.10/dist-packages (from pmdarima>=1.8.0->darts) (67.7.2)\n",
            "Requirement already satisfied: numba>=0.51 in /usr/local/lib/python3.10/dist-packages (from pyod>=0.9.5->darts) (0.58.1)\n",
            "Requirement already satisfied: six in /usr/local/lib/python3.10/dist-packages (from pyod>=0.9.5->darts) (1.16.0)\n",
            "Requirement already satisfied: PyYAML>=5.4 in /usr/local/lib/python3.10/dist-packages (from pytorch-lightning>=1.5.0->darts) (6.0.1)\n",
            "Requirement already satisfied: fsspec[http]>=2022.5.0 in /usr/local/lib/python3.10/dist-packages (from pytorch-lightning>=1.5.0->darts) (2023.6.0)\n",
            "Collecting torchmetrics>=0.7.0 (from pytorch-lightning>=1.5.0->darts)\n",
            "  Downloading torchmetrics-1.3.1-py3-none-any.whl (840 kB)\n",
            "\u001b[2K     \u001b[90m━━━━━━━━━━━━━━━━━━━━━━━━━━━━━━━━━━━━━━━━\u001b[0m \u001b[32m840.4/840.4 kB\u001b[0m \u001b[31m22.9 MB/s\u001b[0m eta \u001b[36m0:00:00\u001b[0m\n",
            "\u001b[?25hCollecting lightning-utilities>=0.8.0 (from pytorch-lightning>=1.5.0->darts)\n",
            "  Downloading lightning_utilities-0.10.1-py3-none-any.whl (24 kB)\n",
            "Requirement already satisfied: charset-normalizer<4,>=2 in /usr/local/lib/python3.10/dist-packages (from requests>=2.22.0->darts) (3.3.2)\n",
            "Requirement already satisfied: idna<4,>=2.5 in /usr/local/lib/python3.10/dist-packages (from requests>=2.22.0->darts) (3.6)\n",
            "Requirement already satisfied: certifi>=2017.4.17 in /usr/local/lib/python3.10/dist-packages (from requests>=2.22.0->darts) (2024.2.2)\n",
            "Requirement already satisfied: threadpoolctl>=2.0.0 in /usr/local/lib/python3.10/dist-packages (from scikit-learn>=1.0.1->darts) (3.3.0)\n",
            "Collecting slicer==0.0.7 (from shap>=0.40.0->darts)\n",
            "  Downloading slicer-0.0.7-py3-none-any.whl (14 kB)\n",
            "Requirement already satisfied: cloudpickle in /usr/local/lib/python3.10/dist-packages (from shap>=0.40.0->darts) (2.2.1)\n",
            "Requirement already satisfied: fugue>=0.8.1 in /usr/local/lib/python3.10/dist-packages (from statsforecast>=1.4->darts) (0.8.7)\n",
            "Requirement already satisfied: utilsforecast>=0.0.24 in /usr/local/lib/python3.10/dist-packages (from statsforecast>=1.4->darts) (0.1.0)\n",
            "Requirement already satisfied: patsy>=0.5.4 in /usr/local/lib/python3.10/dist-packages (from statsmodels>=0.14.0->darts) (0.5.6)\n",
            "Requirement already satisfied: protobuf>=3.20 in /usr/local/lib/python3.10/dist-packages (from tensorboardX>=2.1->darts) (3.20.3)\n",
            "Requirement already satisfied: filelock in /usr/local/lib/python3.10/dist-packages (from torch>=1.8.0->darts) (3.13.1)\n",
            "Requirement already satisfied: sympy in /usr/local/lib/python3.10/dist-packages (from torch>=1.8.0->darts) (1.12)\n",
            "Requirement already satisfied: networkx in /usr/local/lib/python3.10/dist-packages (from torch>=1.8.0->darts) (3.2.1)\n",
            "Requirement already satisfied: jinja2 in /usr/local/lib/python3.10/dist-packages (from torch>=1.8.0->darts) (3.1.3)\n",
            "Requirement already satisfied: triton==2.1.0 in /usr/local/lib/python3.10/dist-packages (from torch>=1.8.0->darts) (2.1.0)\n",
            "Requirement already satisfied: aiohttp!=4.0.0a0,!=4.0.0a1 in /usr/local/lib/python3.10/dist-packages (from fsspec[http]>=2022.5.0->pytorch-lightning>=1.5.0->darts) (3.9.3)\n",
            "Requirement already satisfied: triad>=0.9.3 in /usr/local/lib/python3.10/dist-packages (from fugue>=0.8.1->statsforecast>=1.4->darts) (0.9.5)\n",
            "Requirement already satisfied: adagio>=0.2.4 in /usr/local/lib/python3.10/dist-packages (from fugue>=0.8.1->statsforecast>=1.4->darts) (0.2.4)\n",
            "Requirement already satisfied: qpd>=0.4.4 in /usr/local/lib/python3.10/dist-packages (from fugue>=0.8.1->statsforecast>=1.4->darts) (0.4.4)\n",
            "Requirement already satisfied: fugue-sql-antlr>=0.1.6 in /usr/local/lib/python3.10/dist-packages (from fugue>=0.8.1->statsforecast>=1.4->darts) (0.2.0)\n",
            "Requirement already satisfied: sqlglot in /usr/local/lib/python3.10/dist-packages (from fugue>=0.8.1->statsforecast>=1.4->darts) (19.9.0)\n",
            "Requirement already satisfied: llvmlite<0.42,>=0.41.0dev0 in /usr/local/lib/python3.10/dist-packages (from numba>=0.51->pyod>=0.9.5->darts) (0.41.1)\n",
            "Requirement already satisfied: MarkupSafe>=2.0 in /usr/local/lib/python3.10/dist-packages (from jinja2->torch>=1.8.0->darts) (2.1.5)\n",
            "Requirement already satisfied: mpmath>=0.19 in /usr/local/lib/python3.10/dist-packages (from sympy->torch>=1.8.0->darts) (1.3.0)\n",
            "Requirement already satisfied: aiosignal>=1.1.2 in /usr/local/lib/python3.10/dist-packages (from aiohttp!=4.0.0a0,!=4.0.0a1->fsspec[http]>=2022.5.0->pytorch-lightning>=1.5.0->darts) (1.3.1)\n",
            "Requirement already satisfied: attrs>=17.3.0 in /usr/local/lib/python3.10/dist-packages (from aiohttp!=4.0.0a0,!=4.0.0a1->fsspec[http]>=2022.5.0->pytorch-lightning>=1.5.0->darts) (23.2.0)\n",
            "Requirement already satisfied: frozenlist>=1.1.1 in /usr/local/lib/python3.10/dist-packages (from aiohttp!=4.0.0a0,!=4.0.0a1->fsspec[http]>=2022.5.0->pytorch-lightning>=1.5.0->darts) (1.4.1)\n",
            "Requirement already satisfied: multidict<7.0,>=4.5 in /usr/local/lib/python3.10/dist-packages (from aiohttp!=4.0.0a0,!=4.0.0a1->fsspec[http]>=2022.5.0->pytorch-lightning>=1.5.0->darts) (6.0.5)\n",
            "Requirement already satisfied: yarl<2.0,>=1.0 in /usr/local/lib/python3.10/dist-packages (from aiohttp!=4.0.0a0,!=4.0.0a1->fsspec[http]>=2022.5.0->pytorch-lightning>=1.5.0->darts) (1.9.4)\n",
            "Requirement already satisfied: async-timeout<5.0,>=4.0 in /usr/local/lib/python3.10/dist-packages (from aiohttp!=4.0.0a0,!=4.0.0a1->fsspec[http]>=2022.5.0->pytorch-lightning>=1.5.0->darts) (4.0.3)\n",
            "Requirement already satisfied: antlr4-python3-runtime<4.12 in /usr/local/lib/python3.10/dist-packages (from fugue-sql-antlr>=0.1.6->fugue>=0.8.1->statsforecast>=1.4->darts) (4.11.1)\n",
            "Requirement already satisfied: pyarrow>=6.0.1 in /usr/local/lib/python3.10/dist-packages (from triad>=0.9.3->fugue>=0.8.1->statsforecast>=1.4->darts) (14.0.2)\n",
            "Requirement already satisfied: fs in /usr/local/lib/python3.10/dist-packages (from triad>=0.9.3->fugue>=0.8.1->statsforecast>=1.4->darts) (2.4.16)\n",
            "Requirement already satisfied: appdirs~=1.4.3 in /usr/local/lib/python3.10/dist-packages (from fs->triad>=0.9.3->fugue>=0.8.1->statsforecast>=1.4->darts) (1.4.4)\n",
            "Building wheels for collected packages: pyod\n",
            "  Building wheel for pyod (setup.py) ... \u001b[?25l\u001b[?25hdone\n",
            "  Created wheel for pyod: filename=pyod-1.1.3-py3-none-any.whl size=190251 sha256=acb77671a7974260a6d7fc5da1874b8deeaf2687964a602da49eefe4c16a4277\n",
            "  Stored in directory: /root/.cache/pip/wheels/05/f8/db/124d43bec122d6ec0ab3713fadfe25ebed8af52ec561682b4e\n",
            "Successfully built pyod\n",
            "Installing collected packages: tensorboardX, slicer, lightning-utilities, torchmetrics, shap, pyod, nfoursid, pytorch-lightning, pmdarima, tbats, darts\n",
            "Successfully installed darts-0.28.0 lightning-utilities-0.10.1 nfoursid-1.0.1 pmdarima-2.0.4 pyod-1.1.3 pytorch-lightning-2.2.1 shap-0.44.1 slicer-0.0.7 tbats-1.1.3 tensorboardX-2.6.2.2 torchmetrics-1.3.1\n",
            "Collecting mlforecast\n",
            "  Downloading mlforecast-0.12.0-py3-none-any.whl (57 kB)\n",
            "\u001b[2K     \u001b[90m━━━━━━━━━━━━━━━━━━━━━━━━━━━━━━━━━━━━━━━━\u001b[0m \u001b[32m57.9/57.9 kB\u001b[0m \u001b[31m1.3 MB/s\u001b[0m eta \u001b[36m0:00:00\u001b[0m\n",
            "\u001b[?25hRequirement already satisfied: cloudpickle in /usr/local/lib/python3.10/dist-packages (from mlforecast) (2.2.1)\n",
            "Collecting coreforecast>=0.0.7 (from mlforecast)\n",
            "  Downloading coreforecast-0.0.7-py3-none-manylinux_2_17_x86_64.manylinux2014_x86_64.whl (193 kB)\n",
            "\u001b[2K     \u001b[90m━━━━━━━━━━━━━━━━━━━━━━━━━━━━━━━━━━━━━━━━\u001b[0m \u001b[32m193.5/193.5 kB\u001b[0m \u001b[31m7.2 MB/s\u001b[0m eta \u001b[36m0:00:00\u001b[0m\n",
            "\u001b[?25hRequirement already satisfied: fsspec in /usr/local/lib/python3.10/dist-packages (from mlforecast) (2023.6.0)\n",
            "Requirement already satisfied: numba in /usr/local/lib/python3.10/dist-packages (from mlforecast) (0.58.1)\n",
            "Requirement already satisfied: packaging in /usr/local/lib/python3.10/dist-packages (from mlforecast) (23.2)\n",
            "Requirement already satisfied: pandas in /usr/local/lib/python3.10/dist-packages (from mlforecast) (1.5.3)\n",
            "Requirement already satisfied: scikit-learn in /usr/local/lib/python3.10/dist-packages (from mlforecast) (1.2.2)\n",
            "Requirement already satisfied: utilsforecast>=0.0.27 in /usr/local/lib/python3.10/dist-packages (from mlforecast) (0.1.0)\n",
            "Collecting window-ops (from mlforecast)\n",
            "  Downloading window_ops-0.0.15-py3-none-any.whl (15 kB)\n",
            "Requirement already satisfied: numpy>=1.20.0 in /usr/local/lib/python3.10/dist-packages (from coreforecast>=0.0.7->mlforecast) (1.23.5)\n",
            "Requirement already satisfied: python-dateutil>=2.8.1 in /usr/local/lib/python3.10/dist-packages (from pandas->mlforecast) (2.8.2)\n",
            "Requirement already satisfied: pytz>=2020.1 in /usr/local/lib/python3.10/dist-packages (from pandas->mlforecast) (2023.4)\n",
            "Requirement already satisfied: llvmlite<0.42,>=0.41.0dev0 in /usr/local/lib/python3.10/dist-packages (from numba->mlforecast) (0.41.1)\n",
            "Requirement already satisfied: scipy>=1.3.2 in /usr/local/lib/python3.10/dist-packages (from scikit-learn->mlforecast) (1.11.4)\n",
            "Requirement already satisfied: joblib>=1.1.1 in /usr/local/lib/python3.10/dist-packages (from scikit-learn->mlforecast) (1.3.2)\n",
            "Requirement already satisfied: threadpoolctl>=2.0.0 in /usr/local/lib/python3.10/dist-packages (from scikit-learn->mlforecast) (3.3.0)\n",
            "Requirement already satisfied: six>=1.5 in /usr/local/lib/python3.10/dist-packages (from python-dateutil>=2.8.1->pandas->mlforecast) (1.16.0)\n",
            "Installing collected packages: coreforecast, window-ops, mlforecast\n",
            "Successfully installed coreforecast-0.0.7 mlforecast-0.12.0 window-ops-0.0.15\n"
          ]
        }
      ],
      "source": [
        "!pip install hierarchicalforecast\n",
        "!pip install statsforecast\n",
        "!pip install datasetsforecast\n",
        "!pip install nixtlats>=0.1.0\n",
        "!pip install darts\n",
        "!pip install mlforecast"
      ]
    },
    {
      "cell_type": "code",
      "execution_count": 2,
      "metadata": {
        "id": "uUqzb8wbrU_d",
        "colab": {
          "base_uri": "https://localhost:8080/"
        },
        "outputId": "730c2318-0a8d-48e4-b272-1bf3dd9e9c2a"
      },
      "outputs": [
        {
          "output_type": "stream",
          "name": "stderr",
          "text": [
            "/usr/local/lib/python3.10/dist-packages/statsforecast/core.py:26: TqdmExperimentalWarning: Using `tqdm.autonotebook.tqdm` in notebook mode. Use `tqdm.tqdm` instead to force console mode (e.g. in jupyter console)\n",
            "  from tqdm.autonotebook import tqdm\n"
          ]
        }
      ],
      "source": [
        "########################\n",
        "# PACKAGES\n",
        "########################\n",
        "# !pip install -U numba statsforecast datasetsforecast\n",
        "import numpy as np\n",
        "import pandas as pd\n",
        "import matplotlib.pyplot as plt\n",
        "import openpyxl\n",
        "from datetime import datetime\n",
        "import pymc as pm\n",
        "\n",
        "# compute base forecast no coherent\n",
        "from statsforecast.core import StatsForecast\n",
        "from statsforecast.models import AutoARIMA, Naive, AutoETS, AutoCES, AutoTheta\n",
        "\n",
        "#obtain hierarchical reconciliation methods and evaluation\n",
        "from hierarchicalforecast.core import HierarchicalReconciliation\n",
        "from hierarchicalforecast.evaluation import HierarchicalEvaluation\n",
        "from hierarchicalforecast.methods import BottomUp, TopDown, MiddleOut, MinTrace, OptimalCombination, ERM\n",
        "from hierarchicalforecast.utils import aggregate\n",
        "\n",
        "# #obtain hierarchical dataset\n",
        "# from datasetsforecast.hierarchical import HierarchicalData\n",
        "from nixtlats import TimeGPT\n",
        "import os\n",
        "os.environ['NIXTLA_ID_AS_COL'] = '1'\n",
        "\n",
        "import pandas as pd\n",
        "from darts import TimeSeries\n",
        "from darts.models import RegressionModel\n",
        "from darts.dataprocessing.transformers import Scaler\n",
        "from lightgbm import LGBMRegressor\n",
        "from darts.metrics import mae, rmse\n",
        "from darts.models import LightGBMModel\n",
        "from darts import concatenate\n",
        "pd.options.display.float_format = '{:,.2f}'.format"
      ]
    },
    {
      "cell_type": "code",
      "execution_count": 3,
      "metadata": {
        "id": "6iyKhHrjGb0t"
      },
      "outputs": [],
      "source": [
        "##############\n",
        "# PARAMS\n",
        "##############\n",
        "fct_periods = 12\n",
        "fct_st_date = '2023-04-01'\n",
        "fct_end_date = '2023-12-01'\n",
        "\n",
        "# Create hierarchical structure and constraints\n",
        "hierarchy_levels = [['top_level'],\n",
        "                    ['top_level', 'level2'],\n",
        "                    ['top_level', 'level2', 'level3'],\n",
        "                    ['top_level', 'level2', 'level3', 'bottom_level']]\n",
        "\n",
        "inputFile = '/content/drive/MyDrive/Colab Notebooks/Revenue Prediction/data/regional_hierarchy.csv'\n",
        "r_hier = pd.read_csv(inputFile)\n"
      ]
    },
    {
      "cell_type": "code",
      "source": [
        "def prepare_data(data, r_hier):\n",
        "    # Merge hierarchy\n",
        "    data = data.merge(r_hier, how='left', left_on='cost_object', right_on='cost_object')\n",
        "\n",
        "    # Transform date and y\n",
        "    data['ds'] = pd.to_datetime(data['ds'])\n",
        "    data['y'] = data['y'].astype(float)\n",
        "\n",
        "    # Address NA values\n",
        "    data['volume'] = data['y'].fillna(0)\n",
        "    data['region'] = data['region'].fillna('')\n",
        "    data['cost_object'] = data['cost_object'].fillna('')\n",
        "    data['product'] = data['product'].fillna('')\n",
        "\n",
        "    # Create hierarchical dataframe\n",
        "    data['top_level'] = 'global'  # Assuming 'top_level' does not contain '/', otherwise add a replace line for it too.\n",
        "    data.rename(columns={'region': 'level2', 'cost_object': 'level3', 'product': 'bottom_level'}, inplace=True)\n",
        "    data = data[['level2', 'level3', 'bottom_level', 'top_level', 'ds', 'y']]\n",
        "\n",
        "    # Replace '/' with '_' in the four columns\n",
        "    data['level2'] = data['level2'].str.replace('/', '_')\n",
        "    data['level3'] = data['level3'].str.replace('/', '_')\n",
        "    data['bottom_level'] = data['bottom_level'].str.replace('/', '_')\n",
        "\n",
        "    data['unique_id'] = data['top_level'] + '/' + data['level2'] + '/' + data['level3'] + '/' + data['bottom_level']\n",
        "\n",
        "    return data\n",
        "\n",
        "def convert_fct2df(forecasts):\n",
        "    forecast_dfs = []\n",
        "    for unique_id, forecast_ts in forecasts.items():\n",
        "        df = forecast_ts.pd_dataframe()\n",
        "        df['unique_id'] = unique_id\n",
        "        forecast_dfs.append(df)\n",
        "\n",
        "    # Concatenate all forecast DataFrames into a single DataFrame\n",
        "    all_forecasts_df = pd.concat(forecast_dfs, axis=0)\n",
        "    all_forecasts_df.reset_index(inplace=True)\n",
        "\n",
        "    # Reorder and rename columns as needed\n",
        "    all_forecasts_df = all_forecasts_df[['unique_id', 'ds', 'y']]\n",
        "    all_forecasts_df.columns.name = None\n",
        "\n",
        "    return all_forecasts_df"
      ],
      "metadata": {
        "id": "-0tzZ-xnIBTt"
      },
      "execution_count": 17,
      "outputs": []
    },
    {
      "cell_type": "code",
      "source": [
        "##############\n",
        "# DATA LOAD\n",
        "##############\n",
        "inputFile = '/content/drive/MyDrive/Colab Notebooks/Revenue Prediction/data/budgetFY23.csv'\n",
        "budget = pd.read_csv(inputFile)\n",
        "budget = budget[budget['category']=='EQUIV_UNIT - Equivalent Units']\n",
        "budget.rename(columns={'country': 'cost_object'}, inplace=True)\n",
        "budget = prepare_data(budget, r_hier)\n",
        "\n",
        "inputFile = '/content/drive/MyDrive/Colab Notebooks/Revenue Prediction/data/volume_output.csv'\n",
        "volume_act = pd.read_csv(inputFile)\n",
        "volume_act.rename(columns={'value': 'y'}, inplace=True)\n",
        "volume_act = prepare_data(volume_act, r_hier)\n",
        "\n",
        "inputFile = '/content/drive/MyDrive/Colab Notebooks/Revenue Prediction/data/ids2smooth.csv'\n",
        "ids2smooth = pd.read_csv(inputFile)"
      ],
      "metadata": {
        "id": "u3E-oM38IFVP"
      },
      "execution_count": 5,
      "outputs": []
    },
    {
      "cell_type": "code",
      "source": [
        "# Subset\n",
        "# regs2include = ['US10 - Astellas Pharma US, Inc.', 'US21 - Agensys, Inc.', 'JP10 - Astellas Pharma Inc']\n",
        "# volume_act = volume_act[volume_act['level3'].isin(regs2include)]\n",
        "\n",
        "level2include = ['Japan', 'West Europe', 'North America']\n",
        "volume_act = volume_act[volume_act['level2'].isin(level2include)]"
      ],
      "metadata": {
        "id": "vvMW8Aj7jmRz"
      },
      "execution_count": 7,
      "outputs": []
    },
    {
      "cell_type": "code",
      "source": [
        "########################\n",
        "# IDENTIFY UNIVERSE\n",
        "########################\n",
        "tested_ts = set(budget['unique_id'].unique()).intersection(volume_act['unique_id'].unique())\n",
        "\n",
        "# Find unique IDs present in budget_h but not in rev\n",
        "unique_ids_in_budget_not_in_rev = set(budget['unique_id'].unique()).difference(volume_act['unique_id'].unique())\n",
        "\n",
        "# Find unique IDs present in rev but not in budget_h\n",
        "unique_ids_in_rev_not_in_budget = set(volume_act['unique_id'].unique()).difference(budget['unique_id'].unique())\n",
        "\n",
        "# Filter volume\n",
        "volume_act = volume_act[volume_act['unique_id'].isin(tested_ts)]"
      ],
      "metadata": {
        "id": "JTjLsBc6ATQQ"
      },
      "execution_count": 8,
      "outputs": []
    },
    {
      "cell_type": "code",
      "source": [
        "########################\n",
        "# TIME SERIES TYPES\n",
        "########################\n",
        "# new_products = ['ENFORTUMAB - Enforumab Vedotin', 'ROXADUSTNT - Roxadustant', 'GILTERITNB - Gilteritinib']\n",
        "# loe_products = ['MICAFUNGIN - Micafungin Sodium']\n",
        "\n",
        "# volume_np_act = volume_act[volume_act['bottom_level'].isin(new_products)]\n",
        "# volume_loe_act = volume_act[volume_act['bottom_level'].isin(loe_products)]\n",
        "\n",
        "# # Remove from original\n",
        "# volume_act = volume_act[~(volume_act['bottom_level'].isin(new_products + loe_products))]"
      ],
      "metadata": {
        "id": "ZRihb3U7wy1B"
      },
      "execution_count": 9,
      "outputs": []
    },
    {
      "cell_type": "code",
      "source": [
        "########################\n",
        "# INTERMITTENT DEMAND\n",
        "########################\n",
        "\n",
        "# Function to calculate the percentage of zeros after the first non-zero\n",
        "def calculate_percentage_zeros(df):\n",
        "    # Find the index of the first non-zero entry in 'y'\n",
        "    first_non_zero_index = df.loc[df['y'] != 0].index.min()\n",
        "    # If there are no non-zero values, return None or 0 based on your preference\n",
        "    if pd.isna(first_non_zero_index):\n",
        "        return None  # Or return 0 if you want to treat this as 0% zeros following non-zero\n",
        "    # Select the subset of 'y' after the first non-zero\n",
        "    post_non_zero_series = df.loc[first_non_zero_index:, 'y']\n",
        "    # Count the number of zeros in this subset\n",
        "    num_zeros = (post_non_zero_series == 0).sum()\n",
        "    # Calculate the percentage of zeros\n",
        "    percentage_zeros = num_zeros / len(post_non_zero_series) * 100\n",
        "    return percentage_zeros\n",
        "\n",
        "# Apply the function to each group and reset index to make unique_id a column\n",
        "percentage_zeros_df = volume_act.groupby('unique_id').apply(calculate_percentage_zeros).reset_index(name='percentage_zeros')\n",
        "\n",
        "percentage_zeros_df\n"
      ],
      "metadata": {
        "colab": {
          "base_uri": "https://localhost:8080/",
          "height": 424
        },
        "id": "Aw-07I-33MIr",
        "outputId": "4fa9d308-c0b5-40a7-dc88-c487a43d1f6a"
      },
      "execution_count": 10,
      "outputs": [
        {
          "output_type": "execute_result",
          "data": {
            "text/plain": [
              "                                             unique_id  percentage_zeros\n",
              "0    global/Japan/JP10 - Astellas Pharma Inc/ACLARB...               0.0\n",
              "1    global/Japan/JP10 - Astellas Pharma Inc/BELZER...               0.0\n",
              "2    global/Japan/JP10 - Astellas Pharma Inc/BIXALO...               0.0\n",
              "3    global/Japan/JP10 - Astellas Pharma Inc/BLINAT...               0.0\n",
              "4    global/Japan/JP10 - Astellas Pharma Inc/CERTOL...               0.0\n",
              "..                                                 ...               ...\n",
              "136  global/West Europe/D_E_SWITZ - Switzerland/ROX...               NaN\n",
              "137  global/West Europe/D_E_SWITZ - Switzerland/SOL...               0.0\n",
              "138  global/West Europe/D_E_SWITZ - Switzerland/TAC...               0.0\n",
              "139  global/West Europe/D_E_SWITZ - Switzerland/TAC...               0.0\n",
              "140  global/West Europe/D_E_SWITZ - Switzerland/TAM...               0.0\n",
              "\n",
              "[141 rows x 2 columns]"
            ],
            "text/html": [
              "\n",
              "  <div id=\"df-6d70c7fb-a46f-4208-9aee-50aaf27ef06b\" class=\"colab-df-container\">\n",
              "    <div>\n",
              "<style scoped>\n",
              "    .dataframe tbody tr th:only-of-type {\n",
              "        vertical-align: middle;\n",
              "    }\n",
              "\n",
              "    .dataframe tbody tr th {\n",
              "        vertical-align: top;\n",
              "    }\n",
              "\n",
              "    .dataframe thead th {\n",
              "        text-align: right;\n",
              "    }\n",
              "</style>\n",
              "<table border=\"1\" class=\"dataframe\">\n",
              "  <thead>\n",
              "    <tr style=\"text-align: right;\">\n",
              "      <th></th>\n",
              "      <th>unique_id</th>\n",
              "      <th>percentage_zeros</th>\n",
              "    </tr>\n",
              "  </thead>\n",
              "  <tbody>\n",
              "    <tr>\n",
              "      <th>0</th>\n",
              "      <td>global/Japan/JP10 - Astellas Pharma Inc/ACLARB...</td>\n",
              "      <td>0.0</td>\n",
              "    </tr>\n",
              "    <tr>\n",
              "      <th>1</th>\n",
              "      <td>global/Japan/JP10 - Astellas Pharma Inc/BELZER...</td>\n",
              "      <td>0.0</td>\n",
              "    </tr>\n",
              "    <tr>\n",
              "      <th>2</th>\n",
              "      <td>global/Japan/JP10 - Astellas Pharma Inc/BIXALO...</td>\n",
              "      <td>0.0</td>\n",
              "    </tr>\n",
              "    <tr>\n",
              "      <th>3</th>\n",
              "      <td>global/Japan/JP10 - Astellas Pharma Inc/BLINAT...</td>\n",
              "      <td>0.0</td>\n",
              "    </tr>\n",
              "    <tr>\n",
              "      <th>4</th>\n",
              "      <td>global/Japan/JP10 - Astellas Pharma Inc/CERTOL...</td>\n",
              "      <td>0.0</td>\n",
              "    </tr>\n",
              "    <tr>\n",
              "      <th>...</th>\n",
              "      <td>...</td>\n",
              "      <td>...</td>\n",
              "    </tr>\n",
              "    <tr>\n",
              "      <th>136</th>\n",
              "      <td>global/West Europe/D_E_SWITZ - Switzerland/ROX...</td>\n",
              "      <td>NaN</td>\n",
              "    </tr>\n",
              "    <tr>\n",
              "      <th>137</th>\n",
              "      <td>global/West Europe/D_E_SWITZ - Switzerland/SOL...</td>\n",
              "      <td>0.0</td>\n",
              "    </tr>\n",
              "    <tr>\n",
              "      <th>138</th>\n",
              "      <td>global/West Europe/D_E_SWITZ - Switzerland/TAC...</td>\n",
              "      <td>0.0</td>\n",
              "    </tr>\n",
              "    <tr>\n",
              "      <th>139</th>\n",
              "      <td>global/West Europe/D_E_SWITZ - Switzerland/TAC...</td>\n",
              "      <td>0.0</td>\n",
              "    </tr>\n",
              "    <tr>\n",
              "      <th>140</th>\n",
              "      <td>global/West Europe/D_E_SWITZ - Switzerland/TAM...</td>\n",
              "      <td>0.0</td>\n",
              "    </tr>\n",
              "  </tbody>\n",
              "</table>\n",
              "<p>141 rows × 2 columns</p>\n",
              "</div>\n",
              "    <div class=\"colab-df-buttons\">\n",
              "\n",
              "  <div class=\"colab-df-container\">\n",
              "    <button class=\"colab-df-convert\" onclick=\"convertToInteractive('df-6d70c7fb-a46f-4208-9aee-50aaf27ef06b')\"\n",
              "            title=\"Convert this dataframe to an interactive table.\"\n",
              "            style=\"display:none;\">\n",
              "\n",
              "  <svg xmlns=\"http://www.w3.org/2000/svg\" height=\"24px\" viewBox=\"0 -960 960 960\">\n",
              "    <path d=\"M120-120v-720h720v720H120Zm60-500h600v-160H180v160Zm220 220h160v-160H400v160Zm0 220h160v-160H400v160ZM180-400h160v-160H180v160Zm440 0h160v-160H620v160ZM180-180h160v-160H180v160Zm440 0h160v-160H620v160Z\"/>\n",
              "  </svg>\n",
              "    </button>\n",
              "\n",
              "  <style>\n",
              "    .colab-df-container {\n",
              "      display:flex;\n",
              "      gap: 12px;\n",
              "    }\n",
              "\n",
              "    .colab-df-convert {\n",
              "      background-color: #E8F0FE;\n",
              "      border: none;\n",
              "      border-radius: 50%;\n",
              "      cursor: pointer;\n",
              "      display: none;\n",
              "      fill: #1967D2;\n",
              "      height: 32px;\n",
              "      padding: 0 0 0 0;\n",
              "      width: 32px;\n",
              "    }\n",
              "\n",
              "    .colab-df-convert:hover {\n",
              "      background-color: #E2EBFA;\n",
              "      box-shadow: 0px 1px 2px rgba(60, 64, 67, 0.3), 0px 1px 3px 1px rgba(60, 64, 67, 0.15);\n",
              "      fill: #174EA6;\n",
              "    }\n",
              "\n",
              "    .colab-df-buttons div {\n",
              "      margin-bottom: 4px;\n",
              "    }\n",
              "\n",
              "    [theme=dark] .colab-df-convert {\n",
              "      background-color: #3B4455;\n",
              "      fill: #D2E3FC;\n",
              "    }\n",
              "\n",
              "    [theme=dark] .colab-df-convert:hover {\n",
              "      background-color: #434B5C;\n",
              "      box-shadow: 0px 1px 3px 1px rgba(0, 0, 0, 0.15);\n",
              "      filter: drop-shadow(0px 1px 2px rgba(0, 0, 0, 0.3));\n",
              "      fill: #FFFFFF;\n",
              "    }\n",
              "  </style>\n",
              "\n",
              "    <script>\n",
              "      const buttonEl =\n",
              "        document.querySelector('#df-6d70c7fb-a46f-4208-9aee-50aaf27ef06b button.colab-df-convert');\n",
              "      buttonEl.style.display =\n",
              "        google.colab.kernel.accessAllowed ? 'block' : 'none';\n",
              "\n",
              "      async function convertToInteractive(key) {\n",
              "        const element = document.querySelector('#df-6d70c7fb-a46f-4208-9aee-50aaf27ef06b');\n",
              "        const dataTable =\n",
              "          await google.colab.kernel.invokeFunction('convertToInteractive',\n",
              "                                                    [key], {});\n",
              "        if (!dataTable) return;\n",
              "\n",
              "        const docLinkHtml = 'Like what you see? Visit the ' +\n",
              "          '<a target=\"_blank\" href=https://colab.research.google.com/notebooks/data_table.ipynb>data table notebook</a>'\n",
              "          + ' to learn more about interactive tables.';\n",
              "        element.innerHTML = '';\n",
              "        dataTable['output_type'] = 'display_data';\n",
              "        await google.colab.output.renderOutput(dataTable, element);\n",
              "        const docLink = document.createElement('div');\n",
              "        docLink.innerHTML = docLinkHtml;\n",
              "        element.appendChild(docLink);\n",
              "      }\n",
              "    </script>\n",
              "  </div>\n",
              "\n",
              "\n",
              "<div id=\"df-f9aee9a6-1c70-4d03-9f76-a6d497e8f6d3\">\n",
              "  <button class=\"colab-df-quickchart\" onclick=\"quickchart('df-f9aee9a6-1c70-4d03-9f76-a6d497e8f6d3')\"\n",
              "            title=\"Suggest charts\"\n",
              "            style=\"display:none;\">\n",
              "\n",
              "<svg xmlns=\"http://www.w3.org/2000/svg\" height=\"24px\"viewBox=\"0 0 24 24\"\n",
              "     width=\"24px\">\n",
              "    <g>\n",
              "        <path d=\"M19 3H5c-1.1 0-2 .9-2 2v14c0 1.1.9 2 2 2h14c1.1 0 2-.9 2-2V5c0-1.1-.9-2-2-2zM9 17H7v-7h2v7zm4 0h-2V7h2v10zm4 0h-2v-4h2v4z\"/>\n",
              "    </g>\n",
              "</svg>\n",
              "  </button>\n",
              "\n",
              "<style>\n",
              "  .colab-df-quickchart {\n",
              "      --bg-color: #E8F0FE;\n",
              "      --fill-color: #1967D2;\n",
              "      --hover-bg-color: #E2EBFA;\n",
              "      --hover-fill-color: #174EA6;\n",
              "      --disabled-fill-color: #AAA;\n",
              "      --disabled-bg-color: #DDD;\n",
              "  }\n",
              "\n",
              "  [theme=dark] .colab-df-quickchart {\n",
              "      --bg-color: #3B4455;\n",
              "      --fill-color: #D2E3FC;\n",
              "      --hover-bg-color: #434B5C;\n",
              "      --hover-fill-color: #FFFFFF;\n",
              "      --disabled-bg-color: #3B4455;\n",
              "      --disabled-fill-color: #666;\n",
              "  }\n",
              "\n",
              "  .colab-df-quickchart {\n",
              "    background-color: var(--bg-color);\n",
              "    border: none;\n",
              "    border-radius: 50%;\n",
              "    cursor: pointer;\n",
              "    display: none;\n",
              "    fill: var(--fill-color);\n",
              "    height: 32px;\n",
              "    padding: 0;\n",
              "    width: 32px;\n",
              "  }\n",
              "\n",
              "  .colab-df-quickchart:hover {\n",
              "    background-color: var(--hover-bg-color);\n",
              "    box-shadow: 0 1px 2px rgba(60, 64, 67, 0.3), 0 1px 3px 1px rgba(60, 64, 67, 0.15);\n",
              "    fill: var(--button-hover-fill-color);\n",
              "  }\n",
              "\n",
              "  .colab-df-quickchart-complete:disabled,\n",
              "  .colab-df-quickchart-complete:disabled:hover {\n",
              "    background-color: var(--disabled-bg-color);\n",
              "    fill: var(--disabled-fill-color);\n",
              "    box-shadow: none;\n",
              "  }\n",
              "\n",
              "  .colab-df-spinner {\n",
              "    border: 2px solid var(--fill-color);\n",
              "    border-color: transparent;\n",
              "    border-bottom-color: var(--fill-color);\n",
              "    animation:\n",
              "      spin 1s steps(1) infinite;\n",
              "  }\n",
              "\n",
              "  @keyframes spin {\n",
              "    0% {\n",
              "      border-color: transparent;\n",
              "      border-bottom-color: var(--fill-color);\n",
              "      border-left-color: var(--fill-color);\n",
              "    }\n",
              "    20% {\n",
              "      border-color: transparent;\n",
              "      border-left-color: var(--fill-color);\n",
              "      border-top-color: var(--fill-color);\n",
              "    }\n",
              "    30% {\n",
              "      border-color: transparent;\n",
              "      border-left-color: var(--fill-color);\n",
              "      border-top-color: var(--fill-color);\n",
              "      border-right-color: var(--fill-color);\n",
              "    }\n",
              "    40% {\n",
              "      border-color: transparent;\n",
              "      border-right-color: var(--fill-color);\n",
              "      border-top-color: var(--fill-color);\n",
              "    }\n",
              "    60% {\n",
              "      border-color: transparent;\n",
              "      border-right-color: var(--fill-color);\n",
              "    }\n",
              "    80% {\n",
              "      border-color: transparent;\n",
              "      border-right-color: var(--fill-color);\n",
              "      border-bottom-color: var(--fill-color);\n",
              "    }\n",
              "    90% {\n",
              "      border-color: transparent;\n",
              "      border-bottom-color: var(--fill-color);\n",
              "    }\n",
              "  }\n",
              "</style>\n",
              "\n",
              "  <script>\n",
              "    async function quickchart(key) {\n",
              "      const quickchartButtonEl =\n",
              "        document.querySelector('#' + key + ' button');\n",
              "      quickchartButtonEl.disabled = true;  // To prevent multiple clicks.\n",
              "      quickchartButtonEl.classList.add('colab-df-spinner');\n",
              "      try {\n",
              "        const charts = await google.colab.kernel.invokeFunction(\n",
              "            'suggestCharts', [key], {});\n",
              "      } catch (error) {\n",
              "        console.error('Error during call to suggestCharts:', error);\n",
              "      }\n",
              "      quickchartButtonEl.classList.remove('colab-df-spinner');\n",
              "      quickchartButtonEl.classList.add('colab-df-quickchart-complete');\n",
              "    }\n",
              "    (() => {\n",
              "      let quickchartButtonEl =\n",
              "        document.querySelector('#df-f9aee9a6-1c70-4d03-9f76-a6d497e8f6d3 button');\n",
              "      quickchartButtonEl.style.display =\n",
              "        google.colab.kernel.accessAllowed ? 'block' : 'none';\n",
              "    })();\n",
              "  </script>\n",
              "</div>\n",
              "\n",
              "  <div id=\"id_b0f8c286-0c75-40aa-8e60-f610e4504256\">\n",
              "    <style>\n",
              "      .colab-df-generate {\n",
              "        background-color: #E8F0FE;\n",
              "        border: none;\n",
              "        border-radius: 50%;\n",
              "        cursor: pointer;\n",
              "        display: none;\n",
              "        fill: #1967D2;\n",
              "        height: 32px;\n",
              "        padding: 0 0 0 0;\n",
              "        width: 32px;\n",
              "      }\n",
              "\n",
              "      .colab-df-generate:hover {\n",
              "        background-color: #E2EBFA;\n",
              "        box-shadow: 0px 1px 2px rgba(60, 64, 67, 0.3), 0px 1px 3px 1px rgba(60, 64, 67, 0.15);\n",
              "        fill: #174EA6;\n",
              "      }\n",
              "\n",
              "      [theme=dark] .colab-df-generate {\n",
              "        background-color: #3B4455;\n",
              "        fill: #D2E3FC;\n",
              "      }\n",
              "\n",
              "      [theme=dark] .colab-df-generate:hover {\n",
              "        background-color: #434B5C;\n",
              "        box-shadow: 0px 1px 3px 1px rgba(0, 0, 0, 0.15);\n",
              "        filter: drop-shadow(0px 1px 2px rgba(0, 0, 0, 0.3));\n",
              "        fill: #FFFFFF;\n",
              "      }\n",
              "    </style>\n",
              "    <button class=\"colab-df-generate\" onclick=\"generateWithVariable('percentage_zeros_df')\"\n",
              "            title=\"Generate code using this dataframe.\"\n",
              "            style=\"display:none;\">\n",
              "\n",
              "  <svg xmlns=\"http://www.w3.org/2000/svg\" height=\"24px\"viewBox=\"0 0 24 24\"\n",
              "       width=\"24px\">\n",
              "    <path d=\"M7,19H8.4L18.45,9,17,7.55,7,17.6ZM5,21V16.75L18.45,3.32a2,2,0,0,1,2.83,0l1.4,1.43a1.91,1.91,0,0,1,.58,1.4,1.91,1.91,0,0,1-.58,1.4L9.25,21ZM18.45,9,17,7.55Zm-12,3A5.31,5.31,0,0,0,4.9,8.1,5.31,5.31,0,0,0,1,6.5,5.31,5.31,0,0,0,4.9,4.9,5.31,5.31,0,0,0,6.5,1,5.31,5.31,0,0,0,8.1,4.9,5.31,5.31,0,0,0,12,6.5,5.46,5.46,0,0,0,6.5,12Z\"/>\n",
              "  </svg>\n",
              "    </button>\n",
              "    <script>\n",
              "      (() => {\n",
              "      const buttonEl =\n",
              "        document.querySelector('#id_b0f8c286-0c75-40aa-8e60-f610e4504256 button.colab-df-generate');\n",
              "      buttonEl.style.display =\n",
              "        google.colab.kernel.accessAllowed ? 'block' : 'none';\n",
              "\n",
              "      buttonEl.onclick = () => {\n",
              "        google.colab.notebook.generateWithVariable('percentage_zeros_df');\n",
              "      }\n",
              "      })();\n",
              "    </script>\n",
              "  </div>\n",
              "\n",
              "    </div>\n",
              "  </div>\n"
            ],
            "application/vnd.google.colaboratory.intrinsic+json": {
              "type": "dataframe",
              "variable_name": "percentage_zeros_df",
              "summary": "{\n  \"name\": \"percentage_zeros_df\",\n  \"rows\": 141,\n  \"fields\": [\n    {\n      \"column\": \"unique_id\",\n      \"properties\": {\n        \"dtype\": \"string\",\n        \"num_unique_values\": 141,\n        \"samples\": [\n          \"global/West Europe/D_E_FRANCE - France/TACROLIMUS - Tacrolimus\",\n          \"global/West Europe/D_E_PORTUGAL - Portugal/ENFORTUMAB - Enforumab Vedotin\",\n          \"global/Japan/JP10 - Astellas Pharma Inc/TAMSULOSIN - Tamsulosin HCl\"\n        ],\n        \"semantic_type\": \"\",\n        \"description\": \"\"\n      }\n    },\n    {\n      \"column\": \"percentage_zeros\",\n      \"properties\": {\n        \"dtype\": \"number\",\n        \"std\": 16.311615377163886,\n        \"min\": 0.0,\n        \"max\": 81.81818181818183,\n        \"num_unique_values\": 19,\n        \"samples\": [\n          0.0,\n          54.166666666666664,\n          60.60606060606061\n        ],\n        \"semantic_type\": \"\",\n        \"description\": \"\"\n      }\n    }\n  ]\n}"
            }
          },
          "metadata": {},
          "execution_count": 10
        }
      ]
    },
    {
      "cell_type": "code",
      "source": [
        "########################\n",
        "# CANDIDATES FOR AUTO-ARIMA\n",
        "########################\n",
        "import pandas as pd\n",
        "from statsmodels.tsa.stattools import adfuller\n",
        "\n",
        "# Function to test stationarity with handling for constant series\n",
        "def test_stationarity(timeseries):\n",
        "    # Check if the series is constant\n",
        "    if np.all(timeseries == timeseries.iloc[0]):\n",
        "        return 'constant'  # Return 'constant' if all values in the series are the same\n",
        "\n",
        "    # Perform Dickey-Fuller test otherwise:\n",
        "    dftest = adfuller(timeseries, autolag='AIC')\n",
        "    # Return True if series is stationary, False otherwise\n",
        "    return dftest[1] <= 0.05\n",
        "\n",
        "# Function to difference the series\n",
        "def difference_series(timeseries):\n",
        "    return timeseries.diff().dropna()\n",
        "\n",
        "# Your original dataframe\n",
        "df = volume_act\n",
        "\n",
        "# Prepare a DataFrame to store the results\n",
        "results_df = pd.DataFrame(columns=['unique_id', 'original_stationary', 'differenced_stationary'])\n",
        "\n",
        "# Loop through each unique_id\n",
        "for unique_id in df['unique_id'].unique():\n",
        "    # Extract the time series for the current unique_id\n",
        "    sub_series = df[df['unique_id'] == unique_id].set_index('ds')['y']\n",
        "\n",
        "    # Test for stationarity on the original series\n",
        "    original_stationary = test_stationarity(sub_series)\n",
        "\n",
        "    # Initialize differenced_stationary as None (it will stay None if differencing is not needed)\n",
        "    differenced_stationary = None\n",
        "\n",
        "    # If the original series is not stationary, difference the series and test again\n",
        "    if not original_stationary:\n",
        "        differenced_series = difference_series(sub_series)\n",
        "        differenced_stationary = test_stationarity(differenced_series)\n",
        "\n",
        "    # Append the results to the results DataFrame\n",
        "    results_df = results_df.append({'unique_id': unique_id,\n",
        "                                    'original_stationary': original_stationary,\n",
        "                                    'differenced_stationary': differenced_stationary},\n",
        "                                   ignore_index=True)\n"
      ],
      "metadata": {
        "colab": {
          "base_uri": "https://localhost:8080/"
        },
        "id": "zkI86Sa5hOiV",
        "outputId": "f26698a3-99ef-4938-b0df-7e21a6021819"
      },
      "execution_count": 11,
      "outputs": [
        {
          "output_type": "stream",
          "name": "stderr",
          "text": [
            "<ipython-input-11-86ea403fa3c9>:45: FutureWarning: The frame.append method is deprecated and will be removed from pandas in a future version. Use pandas.concat instead.\n",
            "  results_df = results_df.append({'unique_id': unique_id,\n",
            "<ipython-input-11-86ea403fa3c9>:45: FutureWarning: The frame.append method is deprecated and will be removed from pandas in a future version. Use pandas.concat instead.\n",
            "  results_df = results_df.append({'unique_id': unique_id,\n",
            "<ipython-input-11-86ea403fa3c9>:45: FutureWarning: In a future version, object-dtype columns with all-bool values will not be included in reductions with bool_only=True. Explicitly cast to bool dtype instead.\n",
            "  results_df = results_df.append({'unique_id': unique_id,\n",
            "<ipython-input-11-86ea403fa3c9>:45: FutureWarning: The frame.append method is deprecated and will be removed from pandas in a future version. Use pandas.concat instead.\n",
            "  results_df = results_df.append({'unique_id': unique_id,\n",
            "<ipython-input-11-86ea403fa3c9>:45: FutureWarning: In a future version, object-dtype columns with all-bool values will not be included in reductions with bool_only=True. Explicitly cast to bool dtype instead.\n",
            "  results_df = results_df.append({'unique_id': unique_id,\n",
            "<ipython-input-11-86ea403fa3c9>:45: FutureWarning: The frame.append method is deprecated and will be removed from pandas in a future version. Use pandas.concat instead.\n",
            "  results_df = results_df.append({'unique_id': unique_id,\n",
            "<ipython-input-11-86ea403fa3c9>:45: FutureWarning: In a future version, object-dtype columns with all-bool values will not be included in reductions with bool_only=True. Explicitly cast to bool dtype instead.\n",
            "  results_df = results_df.append({'unique_id': unique_id,\n",
            "<ipython-input-11-86ea403fa3c9>:45: FutureWarning: The frame.append method is deprecated and will be removed from pandas in a future version. Use pandas.concat instead.\n",
            "  results_df = results_df.append({'unique_id': unique_id,\n",
            "<ipython-input-11-86ea403fa3c9>:45: FutureWarning: In a future version, object-dtype columns with all-bool values will not be included in reductions with bool_only=True. Explicitly cast to bool dtype instead.\n",
            "  results_df = results_df.append({'unique_id': unique_id,\n",
            "<ipython-input-11-86ea403fa3c9>:45: FutureWarning: The frame.append method is deprecated and will be removed from pandas in a future version. Use pandas.concat instead.\n",
            "  results_df = results_df.append({'unique_id': unique_id,\n",
            "<ipython-input-11-86ea403fa3c9>:45: FutureWarning: In a future version, object-dtype columns with all-bool values will not be included in reductions with bool_only=True. Explicitly cast to bool dtype instead.\n",
            "  results_df = results_df.append({'unique_id': unique_id,\n",
            "<ipython-input-11-86ea403fa3c9>:45: FutureWarning: The frame.append method is deprecated and will be removed from pandas in a future version. Use pandas.concat instead.\n",
            "  results_df = results_df.append({'unique_id': unique_id,\n",
            "<ipython-input-11-86ea403fa3c9>:45: FutureWarning: In a future version, object-dtype columns with all-bool values will not be included in reductions with bool_only=True. Explicitly cast to bool dtype instead.\n",
            "  results_df = results_df.append({'unique_id': unique_id,\n",
            "<ipython-input-11-86ea403fa3c9>:45: FutureWarning: The frame.append method is deprecated and will be removed from pandas in a future version. Use pandas.concat instead.\n",
            "  results_df = results_df.append({'unique_id': unique_id,\n",
            "<ipython-input-11-86ea403fa3c9>:45: FutureWarning: In a future version, object-dtype columns with all-bool values will not be included in reductions with bool_only=True. Explicitly cast to bool dtype instead.\n",
            "  results_df = results_df.append({'unique_id': unique_id,\n",
            "<ipython-input-11-86ea403fa3c9>:45: FutureWarning: The frame.append method is deprecated and will be removed from pandas in a future version. Use pandas.concat instead.\n",
            "  results_df = results_df.append({'unique_id': unique_id,\n",
            "<ipython-input-11-86ea403fa3c9>:45: FutureWarning: In a future version, object-dtype columns with all-bool values will not be included in reductions with bool_only=True. Explicitly cast to bool dtype instead.\n",
            "  results_df = results_df.append({'unique_id': unique_id,\n",
            "<ipython-input-11-86ea403fa3c9>:45: FutureWarning: The frame.append method is deprecated and will be removed from pandas in a future version. Use pandas.concat instead.\n",
            "  results_df = results_df.append({'unique_id': unique_id,\n",
            "<ipython-input-11-86ea403fa3c9>:45: FutureWarning: In a future version, object-dtype columns with all-bool values will not be included in reductions with bool_only=True. Explicitly cast to bool dtype instead.\n",
            "  results_df = results_df.append({'unique_id': unique_id,\n",
            "<ipython-input-11-86ea403fa3c9>:45: FutureWarning: The frame.append method is deprecated and will be removed from pandas in a future version. Use pandas.concat instead.\n",
            "  results_df = results_df.append({'unique_id': unique_id,\n",
            "<ipython-input-11-86ea403fa3c9>:45: FutureWarning: In a future version, object-dtype columns with all-bool values will not be included in reductions with bool_only=True. Explicitly cast to bool dtype instead.\n",
            "  results_df = results_df.append({'unique_id': unique_id,\n",
            "<ipython-input-11-86ea403fa3c9>:45: FutureWarning: The frame.append method is deprecated and will be removed from pandas in a future version. Use pandas.concat instead.\n",
            "  results_df = results_df.append({'unique_id': unique_id,\n",
            "<ipython-input-11-86ea403fa3c9>:45: FutureWarning: In a future version, object-dtype columns with all-bool values will not be included in reductions with bool_only=True. Explicitly cast to bool dtype instead.\n",
            "  results_df = results_df.append({'unique_id': unique_id,\n",
            "<ipython-input-11-86ea403fa3c9>:45: FutureWarning: The frame.append method is deprecated and will be removed from pandas in a future version. Use pandas.concat instead.\n",
            "  results_df = results_df.append({'unique_id': unique_id,\n",
            "<ipython-input-11-86ea403fa3c9>:45: FutureWarning: In a future version, object-dtype columns with all-bool values will not be included in reductions with bool_only=True. Explicitly cast to bool dtype instead.\n",
            "  results_df = results_df.append({'unique_id': unique_id,\n",
            "<ipython-input-11-86ea403fa3c9>:45: FutureWarning: The frame.append method is deprecated and will be removed from pandas in a future version. Use pandas.concat instead.\n",
            "  results_df = results_df.append({'unique_id': unique_id,\n",
            "<ipython-input-11-86ea403fa3c9>:45: FutureWarning: In a future version, object-dtype columns with all-bool values will not be included in reductions with bool_only=True. Explicitly cast to bool dtype instead.\n",
            "  results_df = results_df.append({'unique_id': unique_id,\n",
            "<ipython-input-11-86ea403fa3c9>:45: FutureWarning: The frame.append method is deprecated and will be removed from pandas in a future version. Use pandas.concat instead.\n",
            "  results_df = results_df.append({'unique_id': unique_id,\n",
            "<ipython-input-11-86ea403fa3c9>:45: FutureWarning: In a future version, object-dtype columns with all-bool values will not be included in reductions with bool_only=True. Explicitly cast to bool dtype instead.\n",
            "  results_df = results_df.append({'unique_id': unique_id,\n",
            "<ipython-input-11-86ea403fa3c9>:45: FutureWarning: The frame.append method is deprecated and will be removed from pandas in a future version. Use pandas.concat instead.\n",
            "  results_df = results_df.append({'unique_id': unique_id,\n",
            "<ipython-input-11-86ea403fa3c9>:45: FutureWarning: In a future version, object-dtype columns with all-bool values will not be included in reductions with bool_only=True. Explicitly cast to bool dtype instead.\n",
            "  results_df = results_df.append({'unique_id': unique_id,\n",
            "<ipython-input-11-86ea403fa3c9>:45: FutureWarning: The frame.append method is deprecated and will be removed from pandas in a future version. Use pandas.concat instead.\n",
            "  results_df = results_df.append({'unique_id': unique_id,\n",
            "<ipython-input-11-86ea403fa3c9>:45: FutureWarning: In a future version, object-dtype columns with all-bool values will not be included in reductions with bool_only=True. Explicitly cast to bool dtype instead.\n",
            "  results_df = results_df.append({'unique_id': unique_id,\n",
            "<ipython-input-11-86ea403fa3c9>:45: FutureWarning: The frame.append method is deprecated and will be removed from pandas in a future version. Use pandas.concat instead.\n",
            "  results_df = results_df.append({'unique_id': unique_id,\n",
            "<ipython-input-11-86ea403fa3c9>:45: FutureWarning: In a future version, object-dtype columns with all-bool values will not be included in reductions with bool_only=True. Explicitly cast to bool dtype instead.\n",
            "  results_df = results_df.append({'unique_id': unique_id,\n",
            "<ipython-input-11-86ea403fa3c9>:45: FutureWarning: The frame.append method is deprecated and will be removed from pandas in a future version. Use pandas.concat instead.\n",
            "  results_df = results_df.append({'unique_id': unique_id,\n",
            "<ipython-input-11-86ea403fa3c9>:45: FutureWarning: In a future version, object-dtype columns with all-bool values will not be included in reductions with bool_only=True. Explicitly cast to bool dtype instead.\n",
            "  results_df = results_df.append({'unique_id': unique_id,\n",
            "<ipython-input-11-86ea403fa3c9>:45: FutureWarning: The frame.append method is deprecated and will be removed from pandas in a future version. Use pandas.concat instead.\n",
            "  results_df = results_df.append({'unique_id': unique_id,\n",
            "<ipython-input-11-86ea403fa3c9>:45: FutureWarning: In a future version, object-dtype columns with all-bool values will not be included in reductions with bool_only=True. Explicitly cast to bool dtype instead.\n",
            "  results_df = results_df.append({'unique_id': unique_id,\n",
            "<ipython-input-11-86ea403fa3c9>:45: FutureWarning: The frame.append method is deprecated and will be removed from pandas in a future version. Use pandas.concat instead.\n",
            "  results_df = results_df.append({'unique_id': unique_id,\n",
            "<ipython-input-11-86ea403fa3c9>:45: FutureWarning: In a future version, object-dtype columns with all-bool values will not be included in reductions with bool_only=True. Explicitly cast to bool dtype instead.\n",
            "  results_df = results_df.append({'unique_id': unique_id,\n",
            "<ipython-input-11-86ea403fa3c9>:45: FutureWarning: The frame.append method is deprecated and will be removed from pandas in a future version. Use pandas.concat instead.\n",
            "  results_df = results_df.append({'unique_id': unique_id,\n",
            "<ipython-input-11-86ea403fa3c9>:45: FutureWarning: In a future version, object-dtype columns with all-bool values will not be included in reductions with bool_only=True. Explicitly cast to bool dtype instead.\n",
            "  results_df = results_df.append({'unique_id': unique_id,\n",
            "<ipython-input-11-86ea403fa3c9>:45: FutureWarning: The frame.append method is deprecated and will be removed from pandas in a future version. Use pandas.concat instead.\n",
            "  results_df = results_df.append({'unique_id': unique_id,\n",
            "<ipython-input-11-86ea403fa3c9>:45: FutureWarning: In a future version, object-dtype columns with all-bool values will not be included in reductions with bool_only=True. Explicitly cast to bool dtype instead.\n",
            "  results_df = results_df.append({'unique_id': unique_id,\n",
            "<ipython-input-11-86ea403fa3c9>:45: FutureWarning: The frame.append method is deprecated and will be removed from pandas in a future version. Use pandas.concat instead.\n",
            "  results_df = results_df.append({'unique_id': unique_id,\n",
            "<ipython-input-11-86ea403fa3c9>:45: FutureWarning: In a future version, object-dtype columns with all-bool values will not be included in reductions with bool_only=True. Explicitly cast to bool dtype instead.\n",
            "  results_df = results_df.append({'unique_id': unique_id,\n",
            "<ipython-input-11-86ea403fa3c9>:45: FutureWarning: The frame.append method is deprecated and will be removed from pandas in a future version. Use pandas.concat instead.\n",
            "  results_df = results_df.append({'unique_id': unique_id,\n",
            "<ipython-input-11-86ea403fa3c9>:45: FutureWarning: In a future version, object-dtype columns with all-bool values will not be included in reductions with bool_only=True. Explicitly cast to bool dtype instead.\n",
            "  results_df = results_df.append({'unique_id': unique_id,\n",
            "<ipython-input-11-86ea403fa3c9>:45: FutureWarning: The frame.append method is deprecated and will be removed from pandas in a future version. Use pandas.concat instead.\n",
            "  results_df = results_df.append({'unique_id': unique_id,\n",
            "<ipython-input-11-86ea403fa3c9>:45: FutureWarning: In a future version, object-dtype columns with all-bool values will not be included in reductions with bool_only=True. Explicitly cast to bool dtype instead.\n",
            "  results_df = results_df.append({'unique_id': unique_id,\n",
            "<ipython-input-11-86ea403fa3c9>:45: FutureWarning: The frame.append method is deprecated and will be removed from pandas in a future version. Use pandas.concat instead.\n",
            "  results_df = results_df.append({'unique_id': unique_id,\n",
            "<ipython-input-11-86ea403fa3c9>:45: FutureWarning: In a future version, object-dtype columns with all-bool values will not be included in reductions with bool_only=True. Explicitly cast to bool dtype instead.\n",
            "  results_df = results_df.append({'unique_id': unique_id,\n",
            "<ipython-input-11-86ea403fa3c9>:45: FutureWarning: The frame.append method is deprecated and will be removed from pandas in a future version. Use pandas.concat instead.\n",
            "  results_df = results_df.append({'unique_id': unique_id,\n",
            "<ipython-input-11-86ea403fa3c9>:45: FutureWarning: In a future version, object-dtype columns with all-bool values will not be included in reductions with bool_only=True. Explicitly cast to bool dtype instead.\n",
            "  results_df = results_df.append({'unique_id': unique_id,\n",
            "<ipython-input-11-86ea403fa3c9>:45: FutureWarning: The frame.append method is deprecated and will be removed from pandas in a future version. Use pandas.concat instead.\n",
            "  results_df = results_df.append({'unique_id': unique_id,\n",
            "<ipython-input-11-86ea403fa3c9>:45: FutureWarning: In a future version, object-dtype columns with all-bool values will not be included in reductions with bool_only=True. Explicitly cast to bool dtype instead.\n",
            "  results_df = results_df.append({'unique_id': unique_id,\n",
            "<ipython-input-11-86ea403fa3c9>:45: FutureWarning: The frame.append method is deprecated and will be removed from pandas in a future version. Use pandas.concat instead.\n",
            "  results_df = results_df.append({'unique_id': unique_id,\n",
            "<ipython-input-11-86ea403fa3c9>:45: FutureWarning: In a future version, object-dtype columns with all-bool values will not be included in reductions with bool_only=True. Explicitly cast to bool dtype instead.\n",
            "  results_df = results_df.append({'unique_id': unique_id,\n",
            "<ipython-input-11-86ea403fa3c9>:45: FutureWarning: The frame.append method is deprecated and will be removed from pandas in a future version. Use pandas.concat instead.\n",
            "  results_df = results_df.append({'unique_id': unique_id,\n",
            "<ipython-input-11-86ea403fa3c9>:45: FutureWarning: In a future version, object-dtype columns with all-bool values will not be included in reductions with bool_only=True. Explicitly cast to bool dtype instead.\n",
            "  results_df = results_df.append({'unique_id': unique_id,\n",
            "<ipython-input-11-86ea403fa3c9>:45: FutureWarning: The frame.append method is deprecated and will be removed from pandas in a future version. Use pandas.concat instead.\n",
            "  results_df = results_df.append({'unique_id': unique_id,\n",
            "<ipython-input-11-86ea403fa3c9>:45: FutureWarning: In a future version, object-dtype columns with all-bool values will not be included in reductions with bool_only=True. Explicitly cast to bool dtype instead.\n",
            "  results_df = results_df.append({'unique_id': unique_id,\n",
            "<ipython-input-11-86ea403fa3c9>:45: FutureWarning: The frame.append method is deprecated and will be removed from pandas in a future version. Use pandas.concat instead.\n",
            "  results_df = results_df.append({'unique_id': unique_id,\n",
            "<ipython-input-11-86ea403fa3c9>:45: FutureWarning: In a future version, object-dtype columns with all-bool values will not be included in reductions with bool_only=True. Explicitly cast to bool dtype instead.\n",
            "  results_df = results_df.append({'unique_id': unique_id,\n",
            "<ipython-input-11-86ea403fa3c9>:45: FutureWarning: The frame.append method is deprecated and will be removed from pandas in a future version. Use pandas.concat instead.\n",
            "  results_df = results_df.append({'unique_id': unique_id,\n",
            "<ipython-input-11-86ea403fa3c9>:45: FutureWarning: In a future version, object-dtype columns with all-bool values will not be included in reductions with bool_only=True. Explicitly cast to bool dtype instead.\n",
            "  results_df = results_df.append({'unique_id': unique_id,\n",
            "<ipython-input-11-86ea403fa3c9>:45: FutureWarning: The frame.append method is deprecated and will be removed from pandas in a future version. Use pandas.concat instead.\n",
            "  results_df = results_df.append({'unique_id': unique_id,\n",
            "<ipython-input-11-86ea403fa3c9>:45: FutureWarning: In a future version, object-dtype columns with all-bool values will not be included in reductions with bool_only=True. Explicitly cast to bool dtype instead.\n",
            "  results_df = results_df.append({'unique_id': unique_id,\n",
            "<ipython-input-11-86ea403fa3c9>:45: FutureWarning: The frame.append method is deprecated and will be removed from pandas in a future version. Use pandas.concat instead.\n",
            "  results_df = results_df.append({'unique_id': unique_id,\n",
            "<ipython-input-11-86ea403fa3c9>:45: FutureWarning: In a future version, object-dtype columns with all-bool values will not be included in reductions with bool_only=True. Explicitly cast to bool dtype instead.\n",
            "  results_df = results_df.append({'unique_id': unique_id,\n",
            "<ipython-input-11-86ea403fa3c9>:45: FutureWarning: The frame.append method is deprecated and will be removed from pandas in a future version. Use pandas.concat instead.\n",
            "  results_df = results_df.append({'unique_id': unique_id,\n",
            "<ipython-input-11-86ea403fa3c9>:45: FutureWarning: In a future version, object-dtype columns with all-bool values will not be included in reductions with bool_only=True. Explicitly cast to bool dtype instead.\n",
            "  results_df = results_df.append({'unique_id': unique_id,\n",
            "<ipython-input-11-86ea403fa3c9>:45: FutureWarning: The frame.append method is deprecated and will be removed from pandas in a future version. Use pandas.concat instead.\n",
            "  results_df = results_df.append({'unique_id': unique_id,\n",
            "<ipython-input-11-86ea403fa3c9>:45: FutureWarning: In a future version, object-dtype columns with all-bool values will not be included in reductions with bool_only=True. Explicitly cast to bool dtype instead.\n",
            "  results_df = results_df.append({'unique_id': unique_id,\n",
            "<ipython-input-11-86ea403fa3c9>:45: FutureWarning: The frame.append method is deprecated and will be removed from pandas in a future version. Use pandas.concat instead.\n",
            "  results_df = results_df.append({'unique_id': unique_id,\n",
            "<ipython-input-11-86ea403fa3c9>:45: FutureWarning: In a future version, object-dtype columns with all-bool values will not be included in reductions with bool_only=True. Explicitly cast to bool dtype instead.\n",
            "  results_df = results_df.append({'unique_id': unique_id,\n",
            "<ipython-input-11-86ea403fa3c9>:45: FutureWarning: The frame.append method is deprecated and will be removed from pandas in a future version. Use pandas.concat instead.\n",
            "  results_df = results_df.append({'unique_id': unique_id,\n",
            "<ipython-input-11-86ea403fa3c9>:45: FutureWarning: In a future version, object-dtype columns with all-bool values will not be included in reductions with bool_only=True. Explicitly cast to bool dtype instead.\n",
            "  results_df = results_df.append({'unique_id': unique_id,\n",
            "<ipython-input-11-86ea403fa3c9>:45: FutureWarning: The frame.append method is deprecated and will be removed from pandas in a future version. Use pandas.concat instead.\n",
            "  results_df = results_df.append({'unique_id': unique_id,\n",
            "<ipython-input-11-86ea403fa3c9>:45: FutureWarning: In a future version, object-dtype columns with all-bool values will not be included in reductions with bool_only=True. Explicitly cast to bool dtype instead.\n",
            "  results_df = results_df.append({'unique_id': unique_id,\n",
            "<ipython-input-11-86ea403fa3c9>:45: FutureWarning: The frame.append method is deprecated and will be removed from pandas in a future version. Use pandas.concat instead.\n",
            "  results_df = results_df.append({'unique_id': unique_id,\n",
            "<ipython-input-11-86ea403fa3c9>:45: FutureWarning: In a future version, object-dtype columns with all-bool values will not be included in reductions with bool_only=True. Explicitly cast to bool dtype instead.\n",
            "  results_df = results_df.append({'unique_id': unique_id,\n",
            "<ipython-input-11-86ea403fa3c9>:45: FutureWarning: The frame.append method is deprecated and will be removed from pandas in a future version. Use pandas.concat instead.\n",
            "  results_df = results_df.append({'unique_id': unique_id,\n",
            "<ipython-input-11-86ea403fa3c9>:45: FutureWarning: In a future version, object-dtype columns with all-bool values will not be included in reductions with bool_only=True. Explicitly cast to bool dtype instead.\n",
            "  results_df = results_df.append({'unique_id': unique_id,\n",
            "<ipython-input-11-86ea403fa3c9>:45: FutureWarning: The frame.append method is deprecated and will be removed from pandas in a future version. Use pandas.concat instead.\n",
            "  results_df = results_df.append({'unique_id': unique_id,\n",
            "<ipython-input-11-86ea403fa3c9>:45: FutureWarning: In a future version, object-dtype columns with all-bool values will not be included in reductions with bool_only=True. Explicitly cast to bool dtype instead.\n",
            "  results_df = results_df.append({'unique_id': unique_id,\n",
            "<ipython-input-11-86ea403fa3c9>:45: FutureWarning: The frame.append method is deprecated and will be removed from pandas in a future version. Use pandas.concat instead.\n",
            "  results_df = results_df.append({'unique_id': unique_id,\n",
            "<ipython-input-11-86ea403fa3c9>:45: FutureWarning: In a future version, object-dtype columns with all-bool values will not be included in reductions with bool_only=True. Explicitly cast to bool dtype instead.\n",
            "  results_df = results_df.append({'unique_id': unique_id,\n",
            "<ipython-input-11-86ea403fa3c9>:45: FutureWarning: The frame.append method is deprecated and will be removed from pandas in a future version. Use pandas.concat instead.\n",
            "  results_df = results_df.append({'unique_id': unique_id,\n",
            "<ipython-input-11-86ea403fa3c9>:45: FutureWarning: In a future version, object-dtype columns with all-bool values will not be included in reductions with bool_only=True. Explicitly cast to bool dtype instead.\n",
            "  results_df = results_df.append({'unique_id': unique_id,\n",
            "<ipython-input-11-86ea403fa3c9>:45: FutureWarning: The frame.append method is deprecated and will be removed from pandas in a future version. Use pandas.concat instead.\n",
            "  results_df = results_df.append({'unique_id': unique_id,\n",
            "<ipython-input-11-86ea403fa3c9>:45: FutureWarning: In a future version, object-dtype columns with all-bool values will not be included in reductions with bool_only=True. Explicitly cast to bool dtype instead.\n",
            "  results_df = results_df.append({'unique_id': unique_id,\n",
            "<ipython-input-11-86ea403fa3c9>:45: FutureWarning: The frame.append method is deprecated and will be removed from pandas in a future version. Use pandas.concat instead.\n",
            "  results_df = results_df.append({'unique_id': unique_id,\n",
            "<ipython-input-11-86ea403fa3c9>:45: FutureWarning: In a future version, object-dtype columns with all-bool values will not be included in reductions with bool_only=True. Explicitly cast to bool dtype instead.\n",
            "  results_df = results_df.append({'unique_id': unique_id,\n",
            "<ipython-input-11-86ea403fa3c9>:45: FutureWarning: The frame.append method is deprecated and will be removed from pandas in a future version. Use pandas.concat instead.\n",
            "  results_df = results_df.append({'unique_id': unique_id,\n",
            "<ipython-input-11-86ea403fa3c9>:45: FutureWarning: In a future version, object-dtype columns with all-bool values will not be included in reductions with bool_only=True. Explicitly cast to bool dtype instead.\n",
            "  results_df = results_df.append({'unique_id': unique_id,\n",
            "<ipython-input-11-86ea403fa3c9>:45: FutureWarning: The frame.append method is deprecated and will be removed from pandas in a future version. Use pandas.concat instead.\n",
            "  results_df = results_df.append({'unique_id': unique_id,\n",
            "<ipython-input-11-86ea403fa3c9>:45: FutureWarning: In a future version, object-dtype columns with all-bool values will not be included in reductions with bool_only=True. Explicitly cast to bool dtype instead.\n",
            "  results_df = results_df.append({'unique_id': unique_id,\n",
            "<ipython-input-11-86ea403fa3c9>:45: FutureWarning: The frame.append method is deprecated and will be removed from pandas in a future version. Use pandas.concat instead.\n",
            "  results_df = results_df.append({'unique_id': unique_id,\n",
            "<ipython-input-11-86ea403fa3c9>:45: FutureWarning: In a future version, object-dtype columns with all-bool values will not be included in reductions with bool_only=True. Explicitly cast to bool dtype instead.\n",
            "  results_df = results_df.append({'unique_id': unique_id,\n",
            "<ipython-input-11-86ea403fa3c9>:45: FutureWarning: The frame.append method is deprecated and will be removed from pandas in a future version. Use pandas.concat instead.\n",
            "  results_df = results_df.append({'unique_id': unique_id,\n",
            "<ipython-input-11-86ea403fa3c9>:45: FutureWarning: In a future version, object-dtype columns with all-bool values will not be included in reductions with bool_only=True. Explicitly cast to bool dtype instead.\n",
            "  results_df = results_df.append({'unique_id': unique_id,\n",
            "<ipython-input-11-86ea403fa3c9>:45: FutureWarning: The frame.append method is deprecated and will be removed from pandas in a future version. Use pandas.concat instead.\n",
            "  results_df = results_df.append({'unique_id': unique_id,\n",
            "<ipython-input-11-86ea403fa3c9>:45: FutureWarning: In a future version, object-dtype columns with all-bool values will not be included in reductions with bool_only=True. Explicitly cast to bool dtype instead.\n",
            "  results_df = results_df.append({'unique_id': unique_id,\n",
            "<ipython-input-11-86ea403fa3c9>:45: FutureWarning: The frame.append method is deprecated and will be removed from pandas in a future version. Use pandas.concat instead.\n",
            "  results_df = results_df.append({'unique_id': unique_id,\n",
            "<ipython-input-11-86ea403fa3c9>:45: FutureWarning: In a future version, object-dtype columns with all-bool values will not be included in reductions with bool_only=True. Explicitly cast to bool dtype instead.\n",
            "  results_df = results_df.append({'unique_id': unique_id,\n",
            "<ipython-input-11-86ea403fa3c9>:45: FutureWarning: The frame.append method is deprecated and will be removed from pandas in a future version. Use pandas.concat instead.\n",
            "  results_df = results_df.append({'unique_id': unique_id,\n",
            "<ipython-input-11-86ea403fa3c9>:45: FutureWarning: In a future version, object-dtype columns with all-bool values will not be included in reductions with bool_only=True. Explicitly cast to bool dtype instead.\n",
            "  results_df = results_df.append({'unique_id': unique_id,\n",
            "<ipython-input-11-86ea403fa3c9>:45: FutureWarning: The frame.append method is deprecated and will be removed from pandas in a future version. Use pandas.concat instead.\n",
            "  results_df = results_df.append({'unique_id': unique_id,\n",
            "<ipython-input-11-86ea403fa3c9>:45: FutureWarning: In a future version, object-dtype columns with all-bool values will not be included in reductions with bool_only=True. Explicitly cast to bool dtype instead.\n",
            "  results_df = results_df.append({'unique_id': unique_id,\n",
            "<ipython-input-11-86ea403fa3c9>:45: FutureWarning: The frame.append method is deprecated and will be removed from pandas in a future version. Use pandas.concat instead.\n",
            "  results_df = results_df.append({'unique_id': unique_id,\n",
            "<ipython-input-11-86ea403fa3c9>:45: FutureWarning: In a future version, object-dtype columns with all-bool values will not be included in reductions with bool_only=True. Explicitly cast to bool dtype instead.\n",
            "  results_df = results_df.append({'unique_id': unique_id,\n",
            "<ipython-input-11-86ea403fa3c9>:45: FutureWarning: The frame.append method is deprecated and will be removed from pandas in a future version. Use pandas.concat instead.\n",
            "  results_df = results_df.append({'unique_id': unique_id,\n",
            "<ipython-input-11-86ea403fa3c9>:45: FutureWarning: In a future version, object-dtype columns with all-bool values will not be included in reductions with bool_only=True. Explicitly cast to bool dtype instead.\n",
            "  results_df = results_df.append({'unique_id': unique_id,\n",
            "<ipython-input-11-86ea403fa3c9>:45: FutureWarning: The frame.append method is deprecated and will be removed from pandas in a future version. Use pandas.concat instead.\n",
            "  results_df = results_df.append({'unique_id': unique_id,\n",
            "<ipython-input-11-86ea403fa3c9>:45: FutureWarning: In a future version, object-dtype columns with all-bool values will not be included in reductions with bool_only=True. Explicitly cast to bool dtype instead.\n",
            "  results_df = results_df.append({'unique_id': unique_id,\n",
            "<ipython-input-11-86ea403fa3c9>:45: FutureWarning: The frame.append method is deprecated and will be removed from pandas in a future version. Use pandas.concat instead.\n",
            "  results_df = results_df.append({'unique_id': unique_id,\n",
            "<ipython-input-11-86ea403fa3c9>:45: FutureWarning: In a future version, object-dtype columns with all-bool values will not be included in reductions with bool_only=True. Explicitly cast to bool dtype instead.\n",
            "  results_df = results_df.append({'unique_id': unique_id,\n",
            "<ipython-input-11-86ea403fa3c9>:45: FutureWarning: The frame.append method is deprecated and will be removed from pandas in a future version. Use pandas.concat instead.\n",
            "  results_df = results_df.append({'unique_id': unique_id,\n",
            "<ipython-input-11-86ea403fa3c9>:45: FutureWarning: In a future version, object-dtype columns with all-bool values will not be included in reductions with bool_only=True. Explicitly cast to bool dtype instead.\n",
            "  results_df = results_df.append({'unique_id': unique_id,\n",
            "<ipython-input-11-86ea403fa3c9>:45: FutureWarning: The frame.append method is deprecated and will be removed from pandas in a future version. Use pandas.concat instead.\n",
            "  results_df = results_df.append({'unique_id': unique_id,\n",
            "<ipython-input-11-86ea403fa3c9>:45: FutureWarning: In a future version, object-dtype columns with all-bool values will not be included in reductions with bool_only=True. Explicitly cast to bool dtype instead.\n",
            "  results_df = results_df.append({'unique_id': unique_id,\n",
            "<ipython-input-11-86ea403fa3c9>:45: FutureWarning: The frame.append method is deprecated and will be removed from pandas in a future version. Use pandas.concat instead.\n",
            "  results_df = results_df.append({'unique_id': unique_id,\n",
            "<ipython-input-11-86ea403fa3c9>:45: FutureWarning: In a future version, object-dtype columns with all-bool values will not be included in reductions with bool_only=True. Explicitly cast to bool dtype instead.\n",
            "  results_df = results_df.append({'unique_id': unique_id,\n",
            "<ipython-input-11-86ea403fa3c9>:45: FutureWarning: The frame.append method is deprecated and will be removed from pandas in a future version. Use pandas.concat instead.\n",
            "  results_df = results_df.append({'unique_id': unique_id,\n",
            "<ipython-input-11-86ea403fa3c9>:45: FutureWarning: In a future version, object-dtype columns with all-bool values will not be included in reductions with bool_only=True. Explicitly cast to bool dtype instead.\n",
            "  results_df = results_df.append({'unique_id': unique_id,\n",
            "<ipython-input-11-86ea403fa3c9>:45: FutureWarning: The frame.append method is deprecated and will be removed from pandas in a future version. Use pandas.concat instead.\n",
            "  results_df = results_df.append({'unique_id': unique_id,\n",
            "<ipython-input-11-86ea403fa3c9>:45: FutureWarning: In a future version, object-dtype columns with all-bool values will not be included in reductions with bool_only=True. Explicitly cast to bool dtype instead.\n",
            "  results_df = results_df.append({'unique_id': unique_id,\n",
            "<ipython-input-11-86ea403fa3c9>:45: FutureWarning: The frame.append method is deprecated and will be removed from pandas in a future version. Use pandas.concat instead.\n",
            "  results_df = results_df.append({'unique_id': unique_id,\n",
            "<ipython-input-11-86ea403fa3c9>:45: FutureWarning: In a future version, object-dtype columns with all-bool values will not be included in reductions with bool_only=True. Explicitly cast to bool dtype instead.\n",
            "  results_df = results_df.append({'unique_id': unique_id,\n",
            "<ipython-input-11-86ea403fa3c9>:45: FutureWarning: The frame.append method is deprecated and will be removed from pandas in a future version. Use pandas.concat instead.\n",
            "  results_df = results_df.append({'unique_id': unique_id,\n",
            "<ipython-input-11-86ea403fa3c9>:45: FutureWarning: In a future version, object-dtype columns with all-bool values will not be included in reductions with bool_only=True. Explicitly cast to bool dtype instead.\n",
            "  results_df = results_df.append({'unique_id': unique_id,\n",
            "<ipython-input-11-86ea403fa3c9>:45: FutureWarning: The frame.append method is deprecated and will be removed from pandas in a future version. Use pandas.concat instead.\n",
            "  results_df = results_df.append({'unique_id': unique_id,\n",
            "<ipython-input-11-86ea403fa3c9>:45: FutureWarning: In a future version, object-dtype columns with all-bool values will not be included in reductions with bool_only=True. Explicitly cast to bool dtype instead.\n",
            "  results_df = results_df.append({'unique_id': unique_id,\n",
            "<ipython-input-11-86ea403fa3c9>:45: FutureWarning: The frame.append method is deprecated and will be removed from pandas in a future version. Use pandas.concat instead.\n",
            "  results_df = results_df.append({'unique_id': unique_id,\n",
            "<ipython-input-11-86ea403fa3c9>:45: FutureWarning: In a future version, object-dtype columns with all-bool values will not be included in reductions with bool_only=True. Explicitly cast to bool dtype instead.\n",
            "  results_df = results_df.append({'unique_id': unique_id,\n",
            "<ipython-input-11-86ea403fa3c9>:45: FutureWarning: The frame.append method is deprecated and will be removed from pandas in a future version. Use pandas.concat instead.\n",
            "  results_df = results_df.append({'unique_id': unique_id,\n",
            "<ipython-input-11-86ea403fa3c9>:45: FutureWarning: In a future version, object-dtype columns with all-bool values will not be included in reductions with bool_only=True. Explicitly cast to bool dtype instead.\n",
            "  results_df = results_df.append({'unique_id': unique_id,\n",
            "<ipython-input-11-86ea403fa3c9>:45: FutureWarning: The frame.append method is deprecated and will be removed from pandas in a future version. Use pandas.concat instead.\n",
            "  results_df = results_df.append({'unique_id': unique_id,\n",
            "<ipython-input-11-86ea403fa3c9>:45: FutureWarning: In a future version, object-dtype columns with all-bool values will not be included in reductions with bool_only=True. Explicitly cast to bool dtype instead.\n",
            "  results_df = results_df.append({'unique_id': unique_id,\n",
            "<ipython-input-11-86ea403fa3c9>:45: FutureWarning: The frame.append method is deprecated and will be removed from pandas in a future version. Use pandas.concat instead.\n",
            "  results_df = results_df.append({'unique_id': unique_id,\n",
            "<ipython-input-11-86ea403fa3c9>:45: FutureWarning: In a future version, object-dtype columns with all-bool values will not be included in reductions with bool_only=True. Explicitly cast to bool dtype instead.\n",
            "  results_df = results_df.append({'unique_id': unique_id,\n",
            "<ipython-input-11-86ea403fa3c9>:45: FutureWarning: The frame.append method is deprecated and will be removed from pandas in a future version. Use pandas.concat instead.\n",
            "  results_df = results_df.append({'unique_id': unique_id,\n",
            "<ipython-input-11-86ea403fa3c9>:45: FutureWarning: In a future version, object-dtype columns with all-bool values will not be included in reductions with bool_only=True. Explicitly cast to bool dtype instead.\n",
            "  results_df = results_df.append({'unique_id': unique_id,\n",
            "<ipython-input-11-86ea403fa3c9>:45: FutureWarning: The frame.append method is deprecated and will be removed from pandas in a future version. Use pandas.concat instead.\n",
            "  results_df = results_df.append({'unique_id': unique_id,\n",
            "<ipython-input-11-86ea403fa3c9>:45: FutureWarning: In a future version, object-dtype columns with all-bool values will not be included in reductions with bool_only=True. Explicitly cast to bool dtype instead.\n",
            "  results_df = results_df.append({'unique_id': unique_id,\n",
            "<ipython-input-11-86ea403fa3c9>:45: FutureWarning: The frame.append method is deprecated and will be removed from pandas in a future version. Use pandas.concat instead.\n",
            "  results_df = results_df.append({'unique_id': unique_id,\n",
            "<ipython-input-11-86ea403fa3c9>:45: FutureWarning: In a future version, object-dtype columns with all-bool values will not be included in reductions with bool_only=True. Explicitly cast to bool dtype instead.\n",
            "  results_df = results_df.append({'unique_id': unique_id,\n",
            "<ipython-input-11-86ea403fa3c9>:45: FutureWarning: The frame.append method is deprecated and will be removed from pandas in a future version. Use pandas.concat instead.\n",
            "  results_df = results_df.append({'unique_id': unique_id,\n",
            "<ipython-input-11-86ea403fa3c9>:45: FutureWarning: In a future version, object-dtype columns with all-bool values will not be included in reductions with bool_only=True. Explicitly cast to bool dtype instead.\n",
            "  results_df = results_df.append({'unique_id': unique_id,\n",
            "<ipython-input-11-86ea403fa3c9>:45: FutureWarning: The frame.append method is deprecated and will be removed from pandas in a future version. Use pandas.concat instead.\n",
            "  results_df = results_df.append({'unique_id': unique_id,\n",
            "<ipython-input-11-86ea403fa3c9>:45: FutureWarning: In a future version, object-dtype columns with all-bool values will not be included in reductions with bool_only=True. Explicitly cast to bool dtype instead.\n",
            "  results_df = results_df.append({'unique_id': unique_id,\n",
            "<ipython-input-11-86ea403fa3c9>:45: FutureWarning: The frame.append method is deprecated and will be removed from pandas in a future version. Use pandas.concat instead.\n",
            "  results_df = results_df.append({'unique_id': unique_id,\n",
            "<ipython-input-11-86ea403fa3c9>:45: FutureWarning: In a future version, object-dtype columns with all-bool values will not be included in reductions with bool_only=True. Explicitly cast to bool dtype instead.\n",
            "  results_df = results_df.append({'unique_id': unique_id,\n",
            "<ipython-input-11-86ea403fa3c9>:45: FutureWarning: The frame.append method is deprecated and will be removed from pandas in a future version. Use pandas.concat instead.\n",
            "  results_df = results_df.append({'unique_id': unique_id,\n",
            "<ipython-input-11-86ea403fa3c9>:45: FutureWarning: In a future version, object-dtype columns with all-bool values will not be included in reductions with bool_only=True. Explicitly cast to bool dtype instead.\n",
            "  results_df = results_df.append({'unique_id': unique_id,\n",
            "<ipython-input-11-86ea403fa3c9>:45: FutureWarning: The frame.append method is deprecated and will be removed from pandas in a future version. Use pandas.concat instead.\n",
            "  results_df = results_df.append({'unique_id': unique_id,\n",
            "<ipython-input-11-86ea403fa3c9>:45: FutureWarning: In a future version, object-dtype columns with all-bool values will not be included in reductions with bool_only=True. Explicitly cast to bool dtype instead.\n",
            "  results_df = results_df.append({'unique_id': unique_id,\n",
            "<ipython-input-11-86ea403fa3c9>:45: FutureWarning: The frame.append method is deprecated and will be removed from pandas in a future version. Use pandas.concat instead.\n",
            "  results_df = results_df.append({'unique_id': unique_id,\n",
            "<ipython-input-11-86ea403fa3c9>:45: FutureWarning: In a future version, object-dtype columns with all-bool values will not be included in reductions with bool_only=True. Explicitly cast to bool dtype instead.\n",
            "  results_df = results_df.append({'unique_id': unique_id,\n",
            "<ipython-input-11-86ea403fa3c9>:45: FutureWarning: The frame.append method is deprecated and will be removed from pandas in a future version. Use pandas.concat instead.\n",
            "  results_df = results_df.append({'unique_id': unique_id,\n",
            "<ipython-input-11-86ea403fa3c9>:45: FutureWarning: In a future version, object-dtype columns with all-bool values will not be included in reductions with bool_only=True. Explicitly cast to bool dtype instead.\n",
            "  results_df = results_df.append({'unique_id': unique_id,\n",
            "<ipython-input-11-86ea403fa3c9>:45: FutureWarning: The frame.append method is deprecated and will be removed from pandas in a future version. Use pandas.concat instead.\n",
            "  results_df = results_df.append({'unique_id': unique_id,\n",
            "<ipython-input-11-86ea403fa3c9>:45: FutureWarning: In a future version, object-dtype columns with all-bool values will not be included in reductions with bool_only=True. Explicitly cast to bool dtype instead.\n",
            "  results_df = results_df.append({'unique_id': unique_id,\n",
            "<ipython-input-11-86ea403fa3c9>:45: FutureWarning: The frame.append method is deprecated and will be removed from pandas in a future version. Use pandas.concat instead.\n",
            "  results_df = results_df.append({'unique_id': unique_id,\n",
            "<ipython-input-11-86ea403fa3c9>:45: FutureWarning: In a future version, object-dtype columns with all-bool values will not be included in reductions with bool_only=True. Explicitly cast to bool dtype instead.\n",
            "  results_df = results_df.append({'unique_id': unique_id,\n",
            "<ipython-input-11-86ea403fa3c9>:45: FutureWarning: The frame.append method is deprecated and will be removed from pandas in a future version. Use pandas.concat instead.\n",
            "  results_df = results_df.append({'unique_id': unique_id,\n",
            "<ipython-input-11-86ea403fa3c9>:45: FutureWarning: In a future version, object-dtype columns with all-bool values will not be included in reductions with bool_only=True. Explicitly cast to bool dtype instead.\n",
            "  results_df = results_df.append({'unique_id': unique_id,\n",
            "<ipython-input-11-86ea403fa3c9>:45: FutureWarning: The frame.append method is deprecated and will be removed from pandas in a future version. Use pandas.concat instead.\n",
            "  results_df = results_df.append({'unique_id': unique_id,\n",
            "<ipython-input-11-86ea403fa3c9>:45: FutureWarning: In a future version, object-dtype columns with all-bool values will not be included in reductions with bool_only=True. Explicitly cast to bool dtype instead.\n",
            "  results_df = results_df.append({'unique_id': unique_id,\n",
            "<ipython-input-11-86ea403fa3c9>:45: FutureWarning: The frame.append method is deprecated and will be removed from pandas in a future version. Use pandas.concat instead.\n",
            "  results_df = results_df.append({'unique_id': unique_id,\n",
            "<ipython-input-11-86ea403fa3c9>:45: FutureWarning: In a future version, object-dtype columns with all-bool values will not be included in reductions with bool_only=True. Explicitly cast to bool dtype instead.\n",
            "  results_df = results_df.append({'unique_id': unique_id,\n",
            "<ipython-input-11-86ea403fa3c9>:45: FutureWarning: The frame.append method is deprecated and will be removed from pandas in a future version. Use pandas.concat instead.\n",
            "  results_df = results_df.append({'unique_id': unique_id,\n",
            "<ipython-input-11-86ea403fa3c9>:45: FutureWarning: In a future version, object-dtype columns with all-bool values will not be included in reductions with bool_only=True. Explicitly cast to bool dtype instead.\n",
            "  results_df = results_df.append({'unique_id': unique_id,\n",
            "<ipython-input-11-86ea403fa3c9>:45: FutureWarning: The frame.append method is deprecated and will be removed from pandas in a future version. Use pandas.concat instead.\n",
            "  results_df = results_df.append({'unique_id': unique_id,\n",
            "<ipython-input-11-86ea403fa3c9>:45: FutureWarning: In a future version, object-dtype columns with all-bool values will not be included in reductions with bool_only=True. Explicitly cast to bool dtype instead.\n",
            "  results_df = results_df.append({'unique_id': unique_id,\n",
            "<ipython-input-11-86ea403fa3c9>:45: FutureWarning: The frame.append method is deprecated and will be removed from pandas in a future version. Use pandas.concat instead.\n",
            "  results_df = results_df.append({'unique_id': unique_id,\n",
            "<ipython-input-11-86ea403fa3c9>:45: FutureWarning: In a future version, object-dtype columns with all-bool values will not be included in reductions with bool_only=True. Explicitly cast to bool dtype instead.\n",
            "  results_df = results_df.append({'unique_id': unique_id,\n",
            "<ipython-input-11-86ea403fa3c9>:45: FutureWarning: The frame.append method is deprecated and will be removed from pandas in a future version. Use pandas.concat instead.\n",
            "  results_df = results_df.append({'unique_id': unique_id,\n",
            "<ipython-input-11-86ea403fa3c9>:45: FutureWarning: In a future version, object-dtype columns with all-bool values will not be included in reductions with bool_only=True. Explicitly cast to bool dtype instead.\n",
            "  results_df = results_df.append({'unique_id': unique_id,\n",
            "<ipython-input-11-86ea403fa3c9>:45: FutureWarning: The frame.append method is deprecated and will be removed from pandas in a future version. Use pandas.concat instead.\n",
            "  results_df = results_df.append({'unique_id': unique_id,\n",
            "<ipython-input-11-86ea403fa3c9>:45: FutureWarning: In a future version, object-dtype columns with all-bool values will not be included in reductions with bool_only=True. Explicitly cast to bool dtype instead.\n",
            "  results_df = results_df.append({'unique_id': unique_id,\n",
            "<ipython-input-11-86ea403fa3c9>:45: FutureWarning: The frame.append method is deprecated and will be removed from pandas in a future version. Use pandas.concat instead.\n",
            "  results_df = results_df.append({'unique_id': unique_id,\n",
            "<ipython-input-11-86ea403fa3c9>:45: FutureWarning: The frame.append method is deprecated and will be removed from pandas in a future version. Use pandas.concat instead.\n",
            "  results_df = results_df.append({'unique_id': unique_id,\n",
            "<ipython-input-11-86ea403fa3c9>:45: FutureWarning: The frame.append method is deprecated and will be removed from pandas in a future version. Use pandas.concat instead.\n",
            "  results_df = results_df.append({'unique_id': unique_id,\n",
            "<ipython-input-11-86ea403fa3c9>:45: FutureWarning: The frame.append method is deprecated and will be removed from pandas in a future version. Use pandas.concat instead.\n",
            "  results_df = results_df.append({'unique_id': unique_id,\n",
            "<ipython-input-11-86ea403fa3c9>:45: FutureWarning: The frame.append method is deprecated and will be removed from pandas in a future version. Use pandas.concat instead.\n",
            "  results_df = results_df.append({'unique_id': unique_id,\n",
            "<ipython-input-11-86ea403fa3c9>:45: FutureWarning: The frame.append method is deprecated and will be removed from pandas in a future version. Use pandas.concat instead.\n",
            "  results_df = results_df.append({'unique_id': unique_id,\n",
            "<ipython-input-11-86ea403fa3c9>:45: FutureWarning: The frame.append method is deprecated and will be removed from pandas in a future version. Use pandas.concat instead.\n",
            "  results_df = results_df.append({'unique_id': unique_id,\n",
            "<ipython-input-11-86ea403fa3c9>:45: FutureWarning: The frame.append method is deprecated and will be removed from pandas in a future version. Use pandas.concat instead.\n",
            "  results_df = results_df.append({'unique_id': unique_id,\n",
            "<ipython-input-11-86ea403fa3c9>:45: FutureWarning: The frame.append method is deprecated and will be removed from pandas in a future version. Use pandas.concat instead.\n",
            "  results_df = results_df.append({'unique_id': unique_id,\n",
            "<ipython-input-11-86ea403fa3c9>:45: FutureWarning: The frame.append method is deprecated and will be removed from pandas in a future version. Use pandas.concat instead.\n",
            "  results_df = results_df.append({'unique_id': unique_id,\n",
            "<ipython-input-11-86ea403fa3c9>:45: FutureWarning: The frame.append method is deprecated and will be removed from pandas in a future version. Use pandas.concat instead.\n",
            "  results_df = results_df.append({'unique_id': unique_id,\n",
            "<ipython-input-11-86ea403fa3c9>:45: FutureWarning: The frame.append method is deprecated and will be removed from pandas in a future version. Use pandas.concat instead.\n",
            "  results_df = results_df.append({'unique_id': unique_id,\n",
            "<ipython-input-11-86ea403fa3c9>:45: FutureWarning: The frame.append method is deprecated and will be removed from pandas in a future version. Use pandas.concat instead.\n",
            "  results_df = results_df.append({'unique_id': unique_id,\n",
            "<ipython-input-11-86ea403fa3c9>:45: FutureWarning: The frame.append method is deprecated and will be removed from pandas in a future version. Use pandas.concat instead.\n",
            "  results_df = results_df.append({'unique_id': unique_id,\n",
            "<ipython-input-11-86ea403fa3c9>:45: FutureWarning: The frame.append method is deprecated and will be removed from pandas in a future version. Use pandas.concat instead.\n",
            "  results_df = results_df.append({'unique_id': unique_id,\n",
            "<ipython-input-11-86ea403fa3c9>:45: FutureWarning: The frame.append method is deprecated and will be removed from pandas in a future version. Use pandas.concat instead.\n",
            "  results_df = results_df.append({'unique_id': unique_id,\n",
            "<ipython-input-11-86ea403fa3c9>:45: FutureWarning: The frame.append method is deprecated and will be removed from pandas in a future version. Use pandas.concat instead.\n",
            "  results_df = results_df.append({'unique_id': unique_id,\n",
            "<ipython-input-11-86ea403fa3c9>:45: FutureWarning: The frame.append method is deprecated and will be removed from pandas in a future version. Use pandas.concat instead.\n",
            "  results_df = results_df.append({'unique_id': unique_id,\n",
            "<ipython-input-11-86ea403fa3c9>:45: FutureWarning: The frame.append method is deprecated and will be removed from pandas in a future version. Use pandas.concat instead.\n",
            "  results_df = results_df.append({'unique_id': unique_id,\n",
            "<ipython-input-11-86ea403fa3c9>:45: FutureWarning: The frame.append method is deprecated and will be removed from pandas in a future version. Use pandas.concat instead.\n",
            "  results_df = results_df.append({'unique_id': unique_id,\n",
            "<ipython-input-11-86ea403fa3c9>:45: FutureWarning: The frame.append method is deprecated and will be removed from pandas in a future version. Use pandas.concat instead.\n",
            "  results_df = results_df.append({'unique_id': unique_id,\n",
            "<ipython-input-11-86ea403fa3c9>:45: FutureWarning: The frame.append method is deprecated and will be removed from pandas in a future version. Use pandas.concat instead.\n",
            "  results_df = results_df.append({'unique_id': unique_id,\n",
            "<ipython-input-11-86ea403fa3c9>:45: FutureWarning: The frame.append method is deprecated and will be removed from pandas in a future version. Use pandas.concat instead.\n",
            "  results_df = results_df.append({'unique_id': unique_id,\n",
            "<ipython-input-11-86ea403fa3c9>:45: FutureWarning: The frame.append method is deprecated and will be removed from pandas in a future version. Use pandas.concat instead.\n",
            "  results_df = results_df.append({'unique_id': unique_id,\n",
            "<ipython-input-11-86ea403fa3c9>:45: FutureWarning: The frame.append method is deprecated and will be removed from pandas in a future version. Use pandas.concat instead.\n",
            "  results_df = results_df.append({'unique_id': unique_id,\n",
            "<ipython-input-11-86ea403fa3c9>:45: FutureWarning: The frame.append method is deprecated and will be removed from pandas in a future version. Use pandas.concat instead.\n",
            "  results_df = results_df.append({'unique_id': unique_id,\n",
            "<ipython-input-11-86ea403fa3c9>:45: FutureWarning: The frame.append method is deprecated and will be removed from pandas in a future version. Use pandas.concat instead.\n",
            "  results_df = results_df.append({'unique_id': unique_id,\n",
            "<ipython-input-11-86ea403fa3c9>:45: FutureWarning: The frame.append method is deprecated and will be removed from pandas in a future version. Use pandas.concat instead.\n",
            "  results_df = results_df.append({'unique_id': unique_id,\n",
            "<ipython-input-11-86ea403fa3c9>:45: FutureWarning: The frame.append method is deprecated and will be removed from pandas in a future version. Use pandas.concat instead.\n",
            "  results_df = results_df.append({'unique_id': unique_id,\n",
            "<ipython-input-11-86ea403fa3c9>:45: FutureWarning: The frame.append method is deprecated and will be removed from pandas in a future version. Use pandas.concat instead.\n",
            "  results_df = results_df.append({'unique_id': unique_id,\n",
            "<ipython-input-11-86ea403fa3c9>:45: FutureWarning: The frame.append method is deprecated and will be removed from pandas in a future version. Use pandas.concat instead.\n",
            "  results_df = results_df.append({'unique_id': unique_id,\n",
            "<ipython-input-11-86ea403fa3c9>:45: FutureWarning: The frame.append method is deprecated and will be removed from pandas in a future version. Use pandas.concat instead.\n",
            "  results_df = results_df.append({'unique_id': unique_id,\n",
            "<ipython-input-11-86ea403fa3c9>:45: FutureWarning: The frame.append method is deprecated and will be removed from pandas in a future version. Use pandas.concat instead.\n",
            "  results_df = results_df.append({'unique_id': unique_id,\n",
            "<ipython-input-11-86ea403fa3c9>:45: FutureWarning: The frame.append method is deprecated and will be removed from pandas in a future version. Use pandas.concat instead.\n",
            "  results_df = results_df.append({'unique_id': unique_id,\n",
            "<ipython-input-11-86ea403fa3c9>:45: FutureWarning: The frame.append method is deprecated and will be removed from pandas in a future version. Use pandas.concat instead.\n",
            "  results_df = results_df.append({'unique_id': unique_id,\n",
            "<ipython-input-11-86ea403fa3c9>:45: FutureWarning: The frame.append method is deprecated and will be removed from pandas in a future version. Use pandas.concat instead.\n",
            "  results_df = results_df.append({'unique_id': unique_id,\n",
            "<ipython-input-11-86ea403fa3c9>:45: FutureWarning: The frame.append method is deprecated and will be removed from pandas in a future version. Use pandas.concat instead.\n",
            "  results_df = results_df.append({'unique_id': unique_id,\n",
            "<ipython-input-11-86ea403fa3c9>:45: FutureWarning: The frame.append method is deprecated and will be removed from pandas in a future version. Use pandas.concat instead.\n",
            "  results_df = results_df.append({'unique_id': unique_id,\n",
            "<ipython-input-11-86ea403fa3c9>:45: FutureWarning: The frame.append method is deprecated and will be removed from pandas in a future version. Use pandas.concat instead.\n",
            "  results_df = results_df.append({'unique_id': unique_id,\n",
            "<ipython-input-11-86ea403fa3c9>:45: FutureWarning: The frame.append method is deprecated and will be removed from pandas in a future version. Use pandas.concat instead.\n",
            "  results_df = results_df.append({'unique_id': unique_id,\n",
            "<ipython-input-11-86ea403fa3c9>:45: FutureWarning: The frame.append method is deprecated and will be removed from pandas in a future version. Use pandas.concat instead.\n",
            "  results_df = results_df.append({'unique_id': unique_id,\n",
            "<ipython-input-11-86ea403fa3c9>:45: FutureWarning: The frame.append method is deprecated and will be removed from pandas in a future version. Use pandas.concat instead.\n",
            "  results_df = results_df.append({'unique_id': unique_id,\n",
            "<ipython-input-11-86ea403fa3c9>:45: FutureWarning: The frame.append method is deprecated and will be removed from pandas in a future version. Use pandas.concat instead.\n",
            "  results_df = results_df.append({'unique_id': unique_id,\n",
            "<ipython-input-11-86ea403fa3c9>:45: FutureWarning: The frame.append method is deprecated and will be removed from pandas in a future version. Use pandas.concat instead.\n",
            "  results_df = results_df.append({'unique_id': unique_id,\n",
            "<ipython-input-11-86ea403fa3c9>:45: FutureWarning: The frame.append method is deprecated and will be removed from pandas in a future version. Use pandas.concat instead.\n",
            "  results_df = results_df.append({'unique_id': unique_id,\n",
            "<ipython-input-11-86ea403fa3c9>:45: FutureWarning: The frame.append method is deprecated and will be removed from pandas in a future version. Use pandas.concat instead.\n",
            "  results_df = results_df.append({'unique_id': unique_id,\n",
            "<ipython-input-11-86ea403fa3c9>:45: FutureWarning: The frame.append method is deprecated and will be removed from pandas in a future version. Use pandas.concat instead.\n",
            "  results_df = results_df.append({'unique_id': unique_id,\n",
            "<ipython-input-11-86ea403fa3c9>:45: FutureWarning: The frame.append method is deprecated and will be removed from pandas in a future version. Use pandas.concat instead.\n",
            "  results_df = results_df.append({'unique_id': unique_id,\n",
            "<ipython-input-11-86ea403fa3c9>:45: FutureWarning: The frame.append method is deprecated and will be removed from pandas in a future version. Use pandas.concat instead.\n",
            "  results_df = results_df.append({'unique_id': unique_id,\n"
          ]
        }
      ]
    },
    {
      "cell_type": "code",
      "source": [
        "########################\n",
        "# SEGMENT TIME SERIES\n",
        "########################\n",
        "inter_demand_list = percentage_zeros_df[percentage_zeros_df['percentage_zeros']>=50]['unique_id'].tolist()\n",
        "\n",
        "original_stationary_list = results_df[results_df['original_stationary']==True]['unique_id'].tolist()\n",
        "differenced_stationary_list = results_df[(results_df['original_stationary']==False) & (results_df['differenced_stationary']==True)]['unique_id'].tolist()\n",
        "\n",
        "auto_arima_list = [item for item in original_stationary_list if item not in inter_demand_list]"
      ],
      "metadata": {
        "id": "xVdkt2ALnYjv"
      },
      "execution_count": 12,
      "outputs": []
    },
    {
      "cell_type": "code",
      "source": [
        "########################\n",
        "# SMOOTH DATA\n",
        "########################\n",
        "# import numpy as np\n",
        "# import pandas as pd\n",
        "# import statsmodels.api as sm\n",
        "\n",
        "# # Filter\n",
        "# volume_act_sm = volume_act[volume_act['unique_id'].isin(ids2smooth['unique_id'])]\n",
        "\n",
        "# # Columns to smooth\n",
        "# columns_to_smooth = ['y']\n",
        "\n",
        "# # New column names for the smoothed data\n",
        "# new_columns = ['Smoothed_y']\n",
        "\n",
        "# # Iterate through each unique ID\n",
        "# for unique_id in volume_act_sm['unique_id'].unique():\n",
        "#     # Filter the DataFrame for the current ID\n",
        "#     temp_df = volume_act_sm[volume_act_sm['unique_id'] == unique_id]\n",
        "\n",
        "#     # Iterate through each column to smooth\n",
        "#     for col, new_col in zip(columns_to_smooth, new_columns):\n",
        "#         # Ensure the time series is a pandas Series (assuming 'ds' is the datetime column)\n",
        "#         time_series = pd.Series(temp_df[col].values, index=pd.to_datetime(temp_df['ds']))\n",
        "\n",
        "#         # Set up and fit the model\n",
        "#         model = sm.tsa.UnobservedComponents(time_series, 'local linear trend')\n",
        "#         print(unique_id)\n",
        "#         results = model.fit()\n",
        "\n",
        "#         # Get the smoothed series\n",
        "#         smoothed_series = results.smoothed_state[0]\n",
        "\n",
        "#         # Ensure smoothed values are non-negative\n",
        "#         smoothed_series = np.maximum(smoothed_series, 0)\n",
        "\n",
        "#         # Adjust the smoothed series to maintain the original sum\n",
        "#         original_sum = time_series.sum()\n",
        "#         smoothed_sum = smoothed_series.sum()\n",
        "#         if smoothed_sum > 0:  # Prevent division by zero\n",
        "#             adjustment_factor = original_sum / smoothed_sum\n",
        "#             adjusted_smoothed_series = smoothed_series * adjustment_factor\n",
        "#         else:\n",
        "#             adjusted_smoothed_series = smoothed_series  # Keep original if smoothed sum is zero\n",
        "\n",
        "#         # Store the adjusted smoothed series back in the DataFrame\n",
        "#         # Note: We're using 'temp_df.index' to ensure the indices match\n",
        "#         volume_act_sm.loc[temp_df.index, new_col] = adjusted_smoothed_series\n",
        "\n",
        "# # After looping, 'sga_output2' will contain the new adjusted smoothed columns\n",
        "# volume_act_sm = volume_act_sm[['unique_id', 'ds', 'Smoothed_y']]\n",
        "# volume_act_sm.columns = ['unique_id', 'ds', 'y']\n",
        "\n",
        "# # Re-add non smoothed\n",
        "# volume_act_smx = volume_act[~(volume_act['unique_id'].isin(ids2smooth['unique_id'])) & (volume_act['unique_id'].isin(budget['unique_id'])) & (volume_act['unique_id'].isin(tested_ts))]\n",
        "\n",
        "# # Concat\n",
        "# volume_act2 = pd.concat([volume_act_smx, volume_act_sm])"
      ],
      "metadata": {
        "id": "B8R8rj5l_7Vq"
      },
      "execution_count": 13,
      "outputs": []
    },
    {
      "cell_type": "code",
      "source": [
        "########################\n",
        "# RUN AUTO ARIMA\n",
        "########################\n",
        "# # volume_act2 = volume_act[volume_act['unique_id'].isin(auto_arima_list)]\n",
        "# volume_act2 = volume_act\n",
        "\n",
        "# #split train/test sets\n",
        "# test  = volume_act2.groupby('unique_id').tail(fct_periods)\n",
        "# train = volume_act2.drop(test.index)\n",
        "\n",
        "# models=[AutoETS(season_length=12), AutoARIMA(season_length = 12), AutoTheta(season_length = 12)]\n",
        "# # models=[AutoARIMA(season_length = 12)]\n",
        "# # models=[AutoETS(season_length=12)]\n",
        "\n",
        "# # Compute base predictions\n",
        "# fcst = StatsForecast(df=train[['unique_id', 'ds', 'y']],\n",
        "#                      models=models,\n",
        "#                      freq='MS', n_jobs=-1)\n",
        "\n",
        "# volume_fct = fcst.forecast(h=fct_periods)\n",
        "\n",
        "# volume_fct['Forecast'] = volume_fct[['AutoETS', 'AutoARIMA', 'AutoTheta']].mean(axis=1)\n",
        "# volume_fct = volume_fct[['unique_id', 'ds', 'Forecast']]"
      ],
      "metadata": {
        "colab": {
          "base_uri": "https://localhost:8080/",
          "height": 326
        },
        "id": "aIeL5RY6AOrO",
        "outputId": "30dc12c3-0c49-4224-fba8-39e411eb726e"
      },
      "execution_count": 14,
      "outputs": [
        {
          "output_type": "stream",
          "name": "stderr",
          "text": [
            "/usr/local/lib/python3.10/dist-packages/statsforecast/core.py:399: FutureWarning: The `df` argument of the StatsForecast constructor as well as reusing stored dfs from other methods is deprecated and will raise an error in a future version. Please provide the `df` argument to the corresponding method instead, e.g. fit/forecast.\n",
            "  warnings.warn(\n",
            "/usr/local/lib/python3.10/dist-packages/statsforecast/core.py:399: FutureWarning: The `df` argument of the StatsForecast constructor as well as reusing stored dfs from other methods is deprecated and will raise an error in a future version. Please provide the `df` argument to the corresponding method instead, e.g. fit/forecast.\n",
            "  warnings.warn(\n",
            "/usr/local/lib/python3.10/dist-packages/statsmodels/tsa/stattools.py:693: RuntimeWarning: divide by zero encountered in divide\n",
            "  acf = avf[: nlags + 1] / avf[0]\n",
            "/usr/local/lib/python3.10/dist-packages/statsmodels/tsa/stattools.py:693: RuntimeWarning: invalid value encountered in divide\n",
            "  acf = avf[: nlags + 1] / avf[0]\n",
            "/usr/local/lib/python3.10/dist-packages/statsmodels/tsa/stattools.py:693: RuntimeWarning: divide by zero encountered in divide\n",
            "  acf = avf[: nlags + 1] / avf[0]\n",
            "/usr/local/lib/python3.10/dist-packages/statsmodels/tsa/stattools.py:693: RuntimeWarning: invalid value encountered in divide\n",
            "  acf = avf[: nlags + 1] / avf[0]\n",
            "/usr/local/lib/python3.10/dist-packages/statsmodels/tsa/stattools.py:693: RuntimeWarning: divide by zero encountered in divide\n",
            "  acf = avf[: nlags + 1] / avf[0]\n",
            "/usr/local/lib/python3.10/dist-packages/statsmodels/tsa/stattools.py:693: RuntimeWarning: invalid value encountered in divide\n",
            "  acf = avf[: nlags + 1] / avf[0]\n"
          ]
        }
      ]
    },
    {
      "cell_type": "code",
      "source": [
        "# Import necessary libraries\n",
        "import pandas as pd\n",
        "from darts import TimeSeries\n",
        "from darts.models import ExponentialSmoothing\n",
        "from darts.metrics import rmse\n",
        "\n",
        "# Assuming 'df' is your DataFrame\n",
        "time_series_dfs = {uid: group for uid, group in train.groupby('unique_id')}\n",
        "\n",
        "# Split into training and testing sets, convert to TimeSeries objects\n",
        "train_series_dict = {}\n",
        "test_series_dict = {}\n",
        "for uid, group in time_series_dfs.items():\n",
        "    # Let's say we use the last N points for testing, the rest for training\n",
        "    N = 12  # Adjust N based on your forecast horizon or test set size\n",
        "    train_df, test_df = group[:-N], group[-N:]\n",
        "    train_series_dict[uid] = TimeSeries.from_dataframe(train_df, 'ds', 'y')\n",
        "    test_series_dict[uid] = TimeSeries.from_dataframe(test_df, 'ds', 'y')\n",
        "\n",
        "# Fit the model and compute RMSE for each series\n",
        "rmse_results = {}\n",
        "for uid, train_series in train_series_dict.items():\n",
        "    model = ExponentialSmoothing()\n",
        "    model.fit(train_series)\n",
        "    forecast = model.predict(len(test_series_dict[uid]))\n",
        "    rmse_results[uid] = rmse(test_series_dict[uid], forecast)\n",
        "\n",
        "# Create a DataFrame from the RMSE results\n",
        "rmse_df = pd.DataFrame(list(rmse_results.items()), columns=['unique_id', 'RMSE'])\n"
      ],
      "metadata": {
        "id": "nFe0xi408PmB",
        "colab": {
          "base_uri": "https://localhost:8080/"
        },
        "outputId": "21f58e0e-33dc-4d1d-854e-1a1b0e65ac1a"
      },
      "execution_count": 15,
      "outputs": [
        {
          "output_type": "stream",
          "name": "stderr",
          "text": [
            "/usr/local/lib/python3.10/dist-packages/statsmodels/tsa/holtwinters/model.py:917: ConvergenceWarning: Optimization failed to converge. Check mle_retvals.\n",
            "  warnings.warn(\n",
            "/usr/local/lib/python3.10/dist-packages/statsmodels/tsa/holtwinters/model.py:917: ConvergenceWarning: Optimization failed to converge. Check mle_retvals.\n",
            "  warnings.warn(\n",
            "/usr/local/lib/python3.10/dist-packages/statsmodels/tsa/holtwinters/model.py:917: ConvergenceWarning: Optimization failed to converge. Check mle_retvals.\n",
            "  warnings.warn(\n",
            "/usr/local/lib/python3.10/dist-packages/statsmodels/tsa/holtwinters/model.py:917: ConvergenceWarning: Optimization failed to converge. Check mle_retvals.\n",
            "  warnings.warn(\n",
            "/usr/local/lib/python3.10/dist-packages/statsmodels/tsa/holtwinters/model.py:917: ConvergenceWarning: Optimization failed to converge. Check mle_retvals.\n",
            "  warnings.warn(\n",
            "/usr/local/lib/python3.10/dist-packages/statsmodels/tsa/holtwinters/model.py:917: ConvergenceWarning: Optimization failed to converge. Check mle_retvals.\n",
            "  warnings.warn(\n",
            "/usr/local/lib/python3.10/dist-packages/statsmodels/tsa/holtwinters/model.py:917: ConvergenceWarning: Optimization failed to converge. Check mle_retvals.\n",
            "  warnings.warn(\n",
            "/usr/local/lib/python3.10/dist-packages/statsmodels/tsa/holtwinters/model.py:917: ConvergenceWarning: Optimization failed to converge. Check mle_retvals.\n",
            "  warnings.warn(\n",
            "/usr/local/lib/python3.10/dist-packages/statsmodels/tsa/holtwinters/model.py:917: ConvergenceWarning: Optimization failed to converge. Check mle_retvals.\n",
            "  warnings.warn(\n",
            "/usr/local/lib/python3.10/dist-packages/statsmodels/tsa/holtwinters/model.py:917: ConvergenceWarning: Optimization failed to converge. Check mle_retvals.\n",
            "  warnings.warn(\n",
            "/usr/local/lib/python3.10/dist-packages/statsmodels/tsa/holtwinters/model.py:917: ConvergenceWarning: Optimization failed to converge. Check mle_retvals.\n",
            "  warnings.warn(\n",
            "/usr/local/lib/python3.10/dist-packages/statsmodels/tsa/holtwinters/model.py:917: ConvergenceWarning: Optimization failed to converge. Check mle_retvals.\n",
            "  warnings.warn(\n",
            "/usr/local/lib/python3.10/dist-packages/statsmodels/tsa/holtwinters/model.py:917: ConvergenceWarning: Optimization failed to converge. Check mle_retvals.\n",
            "  warnings.warn(\n",
            "/usr/local/lib/python3.10/dist-packages/statsmodels/tsa/holtwinters/model.py:917: ConvergenceWarning: Optimization failed to converge. Check mle_retvals.\n",
            "  warnings.warn(\n",
            "/usr/local/lib/python3.10/dist-packages/statsmodels/tsa/holtwinters/model.py:917: ConvergenceWarning: Optimization failed to converge. Check mle_retvals.\n",
            "  warnings.warn(\n",
            "/usr/local/lib/python3.10/dist-packages/statsmodels/tsa/holtwinters/model.py:917: ConvergenceWarning: Optimization failed to converge. Check mle_retvals.\n",
            "  warnings.warn(\n",
            "/usr/local/lib/python3.10/dist-packages/statsmodels/tsa/holtwinters/model.py:917: ConvergenceWarning: Optimization failed to converge. Check mle_retvals.\n",
            "  warnings.warn(\n",
            "/usr/local/lib/python3.10/dist-packages/statsmodels/tsa/holtwinters/model.py:917: ConvergenceWarning: Optimization failed to converge. Check mle_retvals.\n",
            "  warnings.warn(\n",
            "/usr/local/lib/python3.10/dist-packages/statsmodels/tsa/holtwinters/model.py:917: ConvergenceWarning: Optimization failed to converge. Check mle_retvals.\n",
            "  warnings.warn(\n",
            "/usr/local/lib/python3.10/dist-packages/statsmodels/tsa/holtwinters/model.py:917: ConvergenceWarning: Optimization failed to converge. Check mle_retvals.\n",
            "  warnings.warn(\n",
            "/usr/local/lib/python3.10/dist-packages/statsmodels/tsa/holtwinters/model.py:917: ConvergenceWarning: Optimization failed to converge. Check mle_retvals.\n",
            "  warnings.warn(\n",
            "/usr/local/lib/python3.10/dist-packages/statsmodels/tsa/holtwinters/model.py:917: ConvergenceWarning: Optimization failed to converge. Check mle_retvals.\n",
            "  warnings.warn(\n",
            "/usr/local/lib/python3.10/dist-packages/statsmodels/tsa/holtwinters/model.py:917: ConvergenceWarning: Optimization failed to converge. Check mle_retvals.\n",
            "  warnings.warn(\n",
            "/usr/local/lib/python3.10/dist-packages/statsmodels/tsa/holtwinters/model.py:917: ConvergenceWarning: Optimization failed to converge. Check mle_retvals.\n",
            "  warnings.warn(\n",
            "/usr/local/lib/python3.10/dist-packages/statsmodels/tsa/holtwinters/model.py:917: ConvergenceWarning: Optimization failed to converge. Check mle_retvals.\n",
            "  warnings.warn(\n",
            "/usr/local/lib/python3.10/dist-packages/statsmodels/tsa/holtwinters/model.py:917: ConvergenceWarning: Optimization failed to converge. Check mle_retvals.\n",
            "  warnings.warn(\n",
            "/usr/local/lib/python3.10/dist-packages/statsmodels/tsa/holtwinters/model.py:917: ConvergenceWarning: Optimization failed to converge. Check mle_retvals.\n",
            "  warnings.warn(\n",
            "/usr/local/lib/python3.10/dist-packages/statsmodels/tsa/holtwinters/model.py:917: ConvergenceWarning: Optimization failed to converge. Check mle_retvals.\n",
            "  warnings.warn(\n",
            "/usr/local/lib/python3.10/dist-packages/statsmodels/tsa/holtwinters/model.py:917: ConvergenceWarning: Optimization failed to converge. Check mle_retvals.\n",
            "  warnings.warn(\n",
            "/usr/local/lib/python3.10/dist-packages/statsmodels/tsa/holtwinters/model.py:917: ConvergenceWarning: Optimization failed to converge. Check mle_retvals.\n",
            "  warnings.warn(\n",
            "/usr/local/lib/python3.10/dist-packages/statsmodels/tsa/holtwinters/model.py:917: ConvergenceWarning: Optimization failed to converge. Check mle_retvals.\n",
            "  warnings.warn(\n",
            "/usr/local/lib/python3.10/dist-packages/statsmodels/tsa/holtwinters/model.py:917: ConvergenceWarning: Optimization failed to converge. Check mle_retvals.\n",
            "  warnings.warn(\n",
            "/usr/local/lib/python3.10/dist-packages/statsmodels/tsa/holtwinters/model.py:917: ConvergenceWarning: Optimization failed to converge. Check mle_retvals.\n",
            "  warnings.warn(\n",
            "/usr/local/lib/python3.10/dist-packages/statsmodels/tsa/holtwinters/model.py:917: ConvergenceWarning: Optimization failed to converge. Check mle_retvals.\n",
            "  warnings.warn(\n",
            "/usr/local/lib/python3.10/dist-packages/statsmodels/tsa/holtwinters/model.py:917: ConvergenceWarning: Optimization failed to converge. Check mle_retvals.\n",
            "  warnings.warn(\n",
            "/usr/local/lib/python3.10/dist-packages/statsmodels/tsa/holtwinters/model.py:917: ConvergenceWarning: Optimization failed to converge. Check mle_retvals.\n",
            "  warnings.warn(\n",
            "/usr/local/lib/python3.10/dist-packages/statsmodels/tsa/holtwinters/model.py:917: ConvergenceWarning: Optimization failed to converge. Check mle_retvals.\n",
            "  warnings.warn(\n",
            "/usr/local/lib/python3.10/dist-packages/statsmodels/tsa/holtwinters/model.py:917: ConvergenceWarning: Optimization failed to converge. Check mle_retvals.\n",
            "  warnings.warn(\n",
            "/usr/local/lib/python3.10/dist-packages/statsmodels/tsa/holtwinters/model.py:917: ConvergenceWarning: Optimization failed to converge. Check mle_retvals.\n",
            "  warnings.warn(\n",
            "/usr/local/lib/python3.10/dist-packages/statsmodels/tsa/holtwinters/model.py:917: ConvergenceWarning: Optimization failed to converge. Check mle_retvals.\n",
            "  warnings.warn(\n",
            "/usr/local/lib/python3.10/dist-packages/statsmodels/tsa/holtwinters/model.py:917: ConvergenceWarning: Optimization failed to converge. Check mle_retvals.\n",
            "  warnings.warn(\n",
            "/usr/local/lib/python3.10/dist-packages/statsmodels/tsa/holtwinters/model.py:917: ConvergenceWarning: Optimization failed to converge. Check mle_retvals.\n",
            "  warnings.warn(\n",
            "/usr/local/lib/python3.10/dist-packages/statsmodels/tsa/holtwinters/model.py:917: ConvergenceWarning: Optimization failed to converge. Check mle_retvals.\n",
            "  warnings.warn(\n",
            "/usr/local/lib/python3.10/dist-packages/statsmodels/tsa/holtwinters/model.py:917: ConvergenceWarning: Optimization failed to converge. Check mle_retvals.\n",
            "  warnings.warn(\n",
            "/usr/local/lib/python3.10/dist-packages/statsmodels/tsa/holtwinters/model.py:917: ConvergenceWarning: Optimization failed to converge. Check mle_retvals.\n",
            "  warnings.warn(\n",
            "/usr/local/lib/python3.10/dist-packages/statsmodels/tsa/holtwinters/model.py:917: ConvergenceWarning: Optimization failed to converge. Check mle_retvals.\n",
            "  warnings.warn(\n",
            "/usr/local/lib/python3.10/dist-packages/statsmodels/tsa/holtwinters/model.py:917: ConvergenceWarning: Optimization failed to converge. Check mle_retvals.\n",
            "  warnings.warn(\n",
            "/usr/local/lib/python3.10/dist-packages/statsmodels/tsa/holtwinters/model.py:917: ConvergenceWarning: Optimization failed to converge. Check mle_retvals.\n",
            "  warnings.warn(\n",
            "/usr/local/lib/python3.10/dist-packages/statsmodels/tsa/holtwinters/model.py:917: ConvergenceWarning: Optimization failed to converge. Check mle_retvals.\n",
            "  warnings.warn(\n",
            "/usr/local/lib/python3.10/dist-packages/statsmodels/tsa/holtwinters/model.py:917: ConvergenceWarning: Optimization failed to converge. Check mle_retvals.\n",
            "  warnings.warn(\n",
            "/usr/local/lib/python3.10/dist-packages/statsmodels/tsa/holtwinters/model.py:917: ConvergenceWarning: Optimization failed to converge. Check mle_retvals.\n",
            "  warnings.warn(\n",
            "/usr/local/lib/python3.10/dist-packages/statsmodels/tsa/holtwinters/model.py:917: ConvergenceWarning: Optimization failed to converge. Check mle_retvals.\n",
            "  warnings.warn(\n",
            "/usr/local/lib/python3.10/dist-packages/statsmodels/tsa/holtwinters/model.py:917: ConvergenceWarning: Optimization failed to converge. Check mle_retvals.\n",
            "  warnings.warn(\n",
            "/usr/local/lib/python3.10/dist-packages/statsmodels/tsa/holtwinters/model.py:917: ConvergenceWarning: Optimization failed to converge. Check mle_retvals.\n",
            "  warnings.warn(\n",
            "/usr/local/lib/python3.10/dist-packages/statsmodels/tsa/holtwinters/model.py:917: ConvergenceWarning: Optimization failed to converge. Check mle_retvals.\n",
            "  warnings.warn(\n",
            "/usr/local/lib/python3.10/dist-packages/statsmodels/tsa/holtwinters/model.py:917: ConvergenceWarning: Optimization failed to converge. Check mle_retvals.\n",
            "  warnings.warn(\n",
            "/usr/local/lib/python3.10/dist-packages/statsmodels/tsa/holtwinters/model.py:917: ConvergenceWarning: Optimization failed to converge. Check mle_retvals.\n",
            "  warnings.warn(\n",
            "/usr/local/lib/python3.10/dist-packages/statsmodels/tsa/holtwinters/model.py:917: ConvergenceWarning: Optimization failed to converge. Check mle_retvals.\n",
            "  warnings.warn(\n",
            "/usr/local/lib/python3.10/dist-packages/statsmodels/tsa/holtwinters/model.py:917: ConvergenceWarning: Optimization failed to converge. Check mle_retvals.\n",
            "  warnings.warn(\n",
            "/usr/local/lib/python3.10/dist-packages/statsmodels/tsa/holtwinters/model.py:917: ConvergenceWarning: Optimization failed to converge. Check mle_retvals.\n",
            "  warnings.warn(\n",
            "/usr/local/lib/python3.10/dist-packages/statsmodels/tsa/holtwinters/model.py:917: ConvergenceWarning: Optimization failed to converge. Check mle_retvals.\n",
            "  warnings.warn(\n",
            "/usr/local/lib/python3.10/dist-packages/statsmodels/tsa/holtwinters/model.py:917: ConvergenceWarning: Optimization failed to converge. Check mle_retvals.\n",
            "  warnings.warn(\n",
            "/usr/local/lib/python3.10/dist-packages/statsmodels/tsa/holtwinters/model.py:917: ConvergenceWarning: Optimization failed to converge. Check mle_retvals.\n",
            "  warnings.warn(\n",
            "/usr/local/lib/python3.10/dist-packages/statsmodels/tsa/holtwinters/model.py:917: ConvergenceWarning: Optimization failed to converge. Check mle_retvals.\n",
            "  warnings.warn(\n",
            "/usr/local/lib/python3.10/dist-packages/statsmodels/tsa/holtwinters/model.py:917: ConvergenceWarning: Optimization failed to converge. Check mle_retvals.\n",
            "  warnings.warn(\n",
            "/usr/local/lib/python3.10/dist-packages/statsmodels/tsa/holtwinters/model.py:917: ConvergenceWarning: Optimization failed to converge. Check mle_retvals.\n",
            "  warnings.warn(\n",
            "/usr/local/lib/python3.10/dist-packages/statsmodels/tsa/holtwinters/model.py:917: ConvergenceWarning: Optimization failed to converge. Check mle_retvals.\n",
            "  warnings.warn(\n",
            "/usr/local/lib/python3.10/dist-packages/statsmodels/tsa/holtwinters/model.py:917: ConvergenceWarning: Optimization failed to converge. Check mle_retvals.\n",
            "  warnings.warn(\n",
            "/usr/local/lib/python3.10/dist-packages/statsmodels/tsa/holtwinters/model.py:917: ConvergenceWarning: Optimization failed to converge. Check mle_retvals.\n",
            "  warnings.warn(\n",
            "/usr/local/lib/python3.10/dist-packages/statsmodels/tsa/holtwinters/model.py:917: ConvergenceWarning: Optimization failed to converge. Check mle_retvals.\n",
            "  warnings.warn(\n",
            "/usr/local/lib/python3.10/dist-packages/statsmodels/tsa/holtwinters/model.py:917: ConvergenceWarning: Optimization failed to converge. Check mle_retvals.\n",
            "  warnings.warn(\n"
          ]
        }
      ]
    },
    {
      "cell_type": "code",
      "source": [
        "# Import necessary libraries\n",
        "import pandas as pd\n",
        "from darts import TimeSeries\n",
        "from darts.models import ExponentialSmoothing, StatsForecastAutoETS\n",
        "from darts.metrics import mae, mape\n",
        "\n",
        "train2 = train[train['unique_id'].isin(['global/Japan/JP10 - Astellas Pharma Inc/ENZA - Enzalutamide', 'global/North America/US10 - Astellas Pharma US, Inc./ENZA - Enzalutamide', 'global/West Europe/D_E_FRANCE - France/ROXADUSTNT - Roxadustant'])]\n",
        "\n",
        "time_series_dfs = {uid: group for uid, group in train.groupby('unique_id')}\n",
        "\n",
        "filtered_time_series_dfs = {}\n",
        "for uid, group in time_series_dfs.items():\n",
        "    # Find the index of the first non-zero value\n",
        "    non_zero_index = group['y'].ne(0).idxmax()\n",
        "\n",
        "    # Determine the start index for filtering to ensure at least 13 data points\n",
        "    start_index = max(0, non_zero_index - (13 - 1))  # Ensure there are at least 13 data points\n",
        "\n",
        "    if group.loc[non_zero_index:].shape[0] < 13:\n",
        "        filtered_df = group.loc[start_index:]\n",
        "    else:\n",
        "        filtered_df = group.loc[non_zero_index:]\n",
        "\n",
        "    # Check if the resulting dataframe is not empty\n",
        "    if not filtered_df.empty:\n",
        "        filtered_time_series_dfs[uid] = filtered_df\n",
        "\n",
        "\n",
        "\n",
        "# Convert each filtered DataFrame into a Darts TimeSeries object\n",
        "time_series_dict = {uid: TimeSeries.from_dataframe(group, 'ds', 'y') for uid, group in filtered_time_series_dfs.items()}\n",
        "\n",
        "# Create and fit an ETS model for each time series\n",
        "ets_models = {}\n",
        "mape_values = {}\n",
        "\n",
        "for uid, series in time_series_dict.items():\n",
        "    model = StatsForecastAutoETS()\n",
        "    model.fit(series)\n",
        "    ets_models[uid] = model\n",
        "\n",
        "    # Test Model\n",
        "    historical_fcast = model.historical_forecasts(series, train_length=12, forecast_horizon=1, verbose=True, retrain=True, last_points_only=True)\n",
        "    print(uid)\n",
        "    current_mape = round(mape(historical_fcast, series),2)  # Compute MAPE value\n",
        "    mape_values[uid] = current_mape  # Store the MAPE value in the dictionary\n",
        "\n",
        "# Forecasting (assuming you want to forecast the next N steps)\n",
        "N = 12\n",
        "forecasts = {uid: model.predict(N) for uid, model in ets_models.items()}\n",
        "\n",
        "ets_fct = convert_fct2df(forecasts)\n",
        "mape_df = pd.DataFrame(list(mape_values.items()), columns=['unique_id', 'MAPE'])\n",
        "mape_df"
      ],
      "metadata": {
        "id": "hHFkuRx-53nl",
        "colab": {
          "base_uri": "https://localhost:8080/",
          "height": 1000
        },
        "outputId": "aa9b1b62-0bd8-42ea-c0cc-2a28f6ab591e"
      },
      "execution_count": 99,
      "outputs": [
        {
          "output_type": "stream",
          "name": "stderr",
          "text": [
            "100%|██████████| 32/32 [00:01<00:00, 29.56it/s]\n"
          ]
        },
        {
          "output_type": "stream",
          "name": "stdout",
          "text": [
            "global/Japan/JP10 - Astellas Pharma Inc/ACLARBICIN - ACLARBICIN\n"
          ]
        },
        {
          "output_type": "stream",
          "name": "stderr",
          "text": [
            "100%|██████████| 9/9 [00:00<00:00, 54.25it/s]\n"
          ]
        },
        {
          "output_type": "stream",
          "name": "stdout",
          "text": [
            "global/Japan/JP10 - Astellas Pharma Inc/BELZER - BELZER\n"
          ]
        },
        {
          "output_type": "stream",
          "name": "stderr",
          "text": [
            "100%|██████████| 32/32 [00:00<00:00, 37.15it/s]\n"
          ]
        },
        {
          "output_type": "stream",
          "name": "stdout",
          "text": [
            "global/Japan/JP10 - Astellas Pharma Inc/BIXALOMER - BIXALOMER\n"
          ]
        },
        {
          "output_type": "stream",
          "name": "stderr",
          "text": [
            "100%|██████████| 32/32 [00:00<00:00, 38.69it/s]\n"
          ]
        },
        {
          "output_type": "stream",
          "name": "stdout",
          "text": [
            "global/Japan/JP10 - Astellas Pharma Inc/BLINATUMOM - BLINATUMOM\n"
          ]
        },
        {
          "output_type": "stream",
          "name": "stderr",
          "text": [
            "100%|██████████| 32/32 [00:00<00:00, 38.05it/s]\n"
          ]
        },
        {
          "output_type": "stream",
          "name": "stdout",
          "text": [
            "global/Japan/JP10 - Astellas Pharma Inc/CERTOLIZUM - CERTOLIZUM\n"
          ]
        },
        {
          "output_type": "stream",
          "name": "stderr",
          "text": [
            "100%|██████████| 2/2 [00:00<00:00, 41.27it/s]\n"
          ]
        },
        {
          "output_type": "stream",
          "name": "stdout",
          "text": [
            "global/Japan/JP10 - Astellas Pharma Inc/ENFORTUMAB - Enforumab Vedotin\n"
          ]
        },
        {
          "output_type": "stream",
          "name": "stderr",
          "text": [
            "100%|██████████| 43/43 [00:01<00:00, 35.96it/s]\n"
          ]
        },
        {
          "output_type": "stream",
          "name": "stdout",
          "text": [
            "global/Japan/JP10 - Astellas Pharma Inc/ENZA - Enzalutamide\n"
          ]
        },
        {
          "output_type": "stream",
          "name": "stderr",
          "text": [
            "100%|██████████| 32/32 [00:00<00:00, 44.39it/s]\n"
          ]
        },
        {
          "output_type": "stream",
          "name": "stdout",
          "text": [
            "global/Japan/JP10 - Astellas Pharma Inc/EVOLOCUMAB - EVOLOCUMAB\n"
          ]
        },
        {
          "output_type": "stream",
          "name": "stderr",
          "text": [
            "100%|██████████| 32/32 [00:00<00:00, 61.95it/s]\n"
          ]
        },
        {
          "output_type": "stream",
          "name": "stdout",
          "text": [
            "global/Japan/JP10 - Astellas Pharma Inc/GABAPENTIN - GABAPENTIN\n"
          ]
        },
        {
          "output_type": "stream",
          "name": "stderr",
          "text": [
            "100%|██████████| 32/32 [00:00<00:00, 62.58it/s]\n"
          ]
        },
        {
          "output_type": "stream",
          "name": "stdout",
          "text": [
            "global/Japan/JP10 - Astellas Pharma Inc/GARENOXACI - GARENOXACI\n"
          ]
        },
        {
          "output_type": "stream",
          "name": "stderr",
          "text": [
            "100%|██████████| 38/38 [00:00<00:00, 61.80it/s]\n"
          ]
        },
        {
          "output_type": "stream",
          "name": "stdout",
          "text": [
            "global/Japan/JP10 - Astellas Pharma Inc/GILTERITNB - Gilteritinib\n"
          ]
        },
        {
          "output_type": "stream",
          "name": "stderr",
          "text": [
            "100%|██████████| 32/32 [00:00<00:00, 101.47it/s]\n"
          ]
        },
        {
          "output_type": "stream",
          "name": "stdout",
          "text": [
            "global/Japan/JP10 - Astellas Pharma Inc/INFLUENZA - INFLUENZA\n"
          ]
        },
        {
          "output_type": "stream",
          "name": "stderr",
          "text": [
            "100%|██████████| 43/43 [00:00<00:00, 65.96it/s]\n"
          ]
        },
        {
          "output_type": "stream",
          "name": "stdout",
          "text": [
            "global/Japan/JP10 - Astellas Pharma Inc/IPRAGLIF - Ipragliflozin\n"
          ]
        },
        {
          "output_type": "stream",
          "name": "stderr",
          "text": [
            "100%|██████████| 16/16 [00:00<00:00, 69.99it/s]\n"
          ]
        },
        {
          "output_type": "stream",
          "name": "stdout",
          "text": [
            "global/Japan/JP10 - Astellas Pharma Inc/LINACLOTID - LINACLOTID\n"
          ]
        },
        {
          "output_type": "stream",
          "name": "stderr",
          "text": [
            "100%|██████████| 32/32 [00:00<00:00, 63.79it/s]\n"
          ]
        },
        {
          "output_type": "stream",
          "name": "stdout",
          "text": [
            "global/Japan/JP10 - Astellas Pharma Inc/MEPENZOLAT - MEPENZOLAT\n"
          ]
        },
        {
          "output_type": "stream",
          "name": "stderr",
          "text": [
            "100%|██████████| 43/43 [00:00<00:00, 44.06it/s]\n"
          ]
        },
        {
          "output_type": "stream",
          "name": "stdout",
          "text": [
            "global/Japan/JP10 - Astellas Pharma Inc/MICAFUNGIN - Micafungin Sodium\n"
          ]
        },
        {
          "output_type": "stream",
          "name": "stderr",
          "text": [
            "100%|██████████| 16/16 [00:00<00:00, 39.86it/s]\n"
          ]
        },
        {
          "output_type": "stream",
          "name": "stdout",
          "text": [
            "global/Japan/JP10 - Astellas Pharma Inc/MINODRONAT - MINODRONAT\n"
          ]
        },
        {
          "output_type": "stream",
          "name": "stderr",
          "text": [
            "100%|██████████| 43/43 [00:01<00:00, 42.80it/s]\n"
          ]
        },
        {
          "output_type": "stream",
          "name": "stdout",
          "text": [
            "global/Japan/JP10 - Astellas Pharma Inc/MIRABEGRON - Mirabegron\n"
          ]
        },
        {
          "output_type": "stream",
          "name": "stderr",
          "text": [
            "100%|██████████| 9/9 [00:00<00:00, 75.00it/s]\n"
          ]
        },
        {
          "output_type": "stream",
          "name": "stdout",
          "text": [
            "global/Japan/JP10 - Astellas Pharma Inc/NATEGLINID - NATEGLINID\n"
          ]
        },
        {
          "output_type": "stream",
          "name": "stderr",
          "text": [
            "100%|██████████| 32/32 [00:00<00:00, 63.92it/s]\n"
          ]
        },
        {
          "output_type": "stream",
          "name": "stdout",
          "text": [
            "global/Japan/JP10 - Astellas Pharma Inc/NITISINONE - NITISINONE\n"
          ]
        },
        {
          "output_type": "stream",
          "name": "stderr",
          "text": [
            "100%|██████████| 16/16 [00:00<00:00, 42.63it/s]\n"
          ]
        },
        {
          "output_type": "stream",
          "name": "stdout",
          "text": [
            "global/Japan/JP10 - Astellas Pharma Inc/PEFICITINI - PEFICITINI\n"
          ]
        },
        {
          "output_type": "stream",
          "name": "stderr",
          "text": [
            "100%|██████████| 32/32 [00:00<00:00, 51.67it/s]\n"
          ]
        },
        {
          "output_type": "stream",
          "name": "stdout",
          "text": [
            "global/Japan/JP10 - Astellas Pharma Inc/POLYCARBOP - POLYCARBOP\n"
          ]
        },
        {
          "output_type": "stream",
          "name": "stderr",
          "text": [
            "100%|██████████| 32/32 [00:00<00:00, 67.19it/s]\n"
          ]
        },
        {
          "output_type": "stream",
          "name": "stdout",
          "text": [
            "global/Japan/JP10 - Astellas Pharma Inc/QUETIAPINE - QUETIAPINE\n"
          ]
        },
        {
          "output_type": "stream",
          "name": "stderr",
          "text": [
            "100%|██████████| 9/9 [00:00<00:00, 95.47it/s]\n"
          ]
        },
        {
          "output_type": "stream",
          "name": "stdout",
          "text": [
            "global/Japan/JP10 - Astellas Pharma Inc/RAMOS_IRR - RAMOS_IRR\n"
          ]
        },
        {
          "output_type": "stream",
          "name": "stderr",
          "text": [
            "100%|██████████| 32/32 [00:00<00:00, 62.11it/s]\n"
          ]
        },
        {
          "output_type": "stream",
          "name": "stdout",
          "text": [
            "global/Japan/JP10 - Astellas Pharma Inc/ROMOSOZUMA - ROMOSOZUMA\n"
          ]
        },
        {
          "output_type": "stream",
          "name": "stderr",
          "text": [
            "100%|██████████| 16/16 [00:00<00:00, 56.02it/s]\n"
          ]
        },
        {
          "output_type": "stream",
          "name": "stdout",
          "text": [
            "global/Japan/JP10 - Astellas Pharma Inc/ROXADUSTNT - Roxadustant\n"
          ]
        },
        {
          "output_type": "stream",
          "name": "stderr",
          "text": [
            "100%|██████████| 9/9 [00:00<00:00, 83.44it/s]\n"
          ]
        },
        {
          "output_type": "stream",
          "name": "stdout",
          "text": [
            "global/Japan/JP10 - Astellas Pharma Inc/SERESCUE - SERESCUE\n"
          ]
        },
        {
          "output_type": "stream",
          "name": "stderr",
          "text": [
            "100%|██████████| 16/16 [00:00<00:00, 55.26it/s]\n"
          ]
        },
        {
          "output_type": "stream",
          "name": "stdout",
          "text": [
            "global/Japan/JP10 - Astellas Pharma Inc/SITAG_IPRA - SITAG_IPRA\n"
          ]
        },
        {
          "output_type": "stream",
          "name": "stderr",
          "text": [
            "100%|██████████| 43/43 [00:00<00:00, 58.55it/s]\n"
          ]
        },
        {
          "output_type": "stream",
          "name": "stdout",
          "text": [
            "global/Japan/JP10 - Astellas Pharma Inc/SOLIFENACN - Solifenacin Succinate\n"
          ]
        },
        {
          "output_type": "stream",
          "name": "stderr",
          "text": [
            "100%|██████████| 43/43 [00:00<00:00, 60.24it/s]\n"
          ]
        },
        {
          "output_type": "stream",
          "name": "stdout",
          "text": [
            "global/Japan/JP10 - Astellas Pharma Inc/TACROLIMUS - Tacrolimus\n"
          ]
        },
        {
          "output_type": "stream",
          "name": "stderr",
          "text": [
            "100%|██████████| 43/43 [00:00<00:00, 67.11it/s]\n"
          ]
        },
        {
          "output_type": "stream",
          "name": "stdout",
          "text": [
            "global/Japan/JP10 - Astellas Pharma Inc/TACRO_XL - Tacrolimus Extended-Release\n"
          ]
        },
        {
          "output_type": "stream",
          "name": "stderr",
          "text": [
            "100%|██████████| 43/43 [00:00<00:00, 67.16it/s]\n"
          ]
        },
        {
          "output_type": "stream",
          "name": "stdout",
          "text": [
            "global/Japan/JP10 - Astellas Pharma Inc/TAMSULOSIN - Tamsulosin HCl\n"
          ]
        },
        {
          "output_type": "stream",
          "name": "stderr",
          "text": [
            "100%|██████████| 32/32 [00:00<00:00, 63.30it/s]\n"
          ]
        },
        {
          "output_type": "stream",
          "name": "stdout",
          "text": [
            "global/Japan/JP10 - Astellas Pharma Inc/ZOLPIDEM - ZOLPIDEM\n"
          ]
        },
        {
          "output_type": "stream",
          "name": "stderr",
          "text": [
            "100%|██████████| 43/43 [00:00<00:00, 67.61it/s]\n"
          ]
        },
        {
          "output_type": "stream",
          "name": "stdout",
          "text": [
            "global/North America/D_E_CA - Canada/AMPHOTERCN - Amphotericin B\n"
          ]
        },
        {
          "output_type": "stream",
          "name": "stderr",
          "text": [
            "100%|██████████| 43/43 [00:00<00:00, 62.47it/s]\n"
          ]
        },
        {
          "output_type": "stream",
          "name": "stdout",
          "text": [
            "global/North America/D_E_CA - Canada/ENZA - Enzalutamide\n"
          ]
        },
        {
          "output_type": "stream",
          "name": "stderr",
          "text": [
            "100%|██████████| 23/23 [00:00<00:00, 58.09it/s]\n"
          ]
        },
        {
          "output_type": "stream",
          "name": "stdout",
          "text": [
            "global/North America/D_E_CA - Canada/GILTERITNB - Gilteritinib\n"
          ]
        },
        {
          "output_type": "stream",
          "name": "stderr",
          "text": [
            "100%|██████████| 43/43 [00:00<00:00, 64.89it/s]\n"
          ]
        },
        {
          "output_type": "stream",
          "name": "stdout",
          "text": [
            "global/North America/D_E_CA - Canada/MICAFUNGIN - Micafungin Sodium\n"
          ]
        },
        {
          "output_type": "stream",
          "name": "stderr",
          "text": [
            "100%|██████████| 43/43 [00:00<00:00, 63.81it/s]\n"
          ]
        },
        {
          "output_type": "stream",
          "name": "stdout",
          "text": [
            "global/North America/D_E_CA - Canada/MIRABEGRON - Mirabegron\n"
          ]
        },
        {
          "output_type": "stream",
          "name": "stderr",
          "text": [
            "100%|██████████| 43/43 [00:00<00:00, 63.91it/s]\n"
          ]
        },
        {
          "output_type": "stream",
          "name": "stdout",
          "text": [
            "global/North America/D_E_CA - Canada/SOLIFENACN - Solifenacin Succinate\n"
          ]
        },
        {
          "output_type": "stream",
          "name": "stderr",
          "text": [
            "100%|██████████| 43/43 [00:00<00:00, 47.11it/s]\n"
          ]
        },
        {
          "output_type": "stream",
          "name": "stdout",
          "text": [
            "global/North America/D_E_CA - Canada/TACROLIMUS - Tacrolimus\n"
          ]
        },
        {
          "output_type": "stream",
          "name": "stderr",
          "text": [
            "100%|██████████| 43/43 [00:00<00:00, 43.71it/s]\n"
          ]
        },
        {
          "output_type": "stream",
          "name": "stdout",
          "text": [
            "global/North America/D_E_CA - Canada/TACRO_XL - Tacrolimus Extended-Release\n"
          ]
        },
        {
          "output_type": "stream",
          "name": "stderr",
          "text": [
            "100%|██████████| 43/43 [00:00<00:00, 46.00it/s]\n"
          ]
        },
        {
          "output_type": "stream",
          "name": "stdout",
          "text": [
            "global/North America/US10 - Astellas Pharma US, Inc./AMPHOTERCN - Amphotericin B\n"
          ]
        },
        {
          "output_type": "stream",
          "name": "stderr",
          "text": [
            "100%|██████████| 43/43 [00:01<00:00, 41.85it/s]\n"
          ]
        },
        {
          "output_type": "stream",
          "name": "stdout",
          "text": [
            "global/North America/US10 - Astellas Pharma US, Inc./ENZA - Enzalutamide\n"
          ]
        },
        {
          "output_type": "stream",
          "name": "stderr",
          "text": [
            "100%|██████████| 93/93 [00:01<00:00, 83.93it/s]\n"
          ]
        },
        {
          "output_type": "stream",
          "name": "stdout",
          "text": [
            "global/North America/US10 - Astellas Pharma US, Inc./FEZO - Fezolinetant\n"
          ]
        },
        {
          "output_type": "stream",
          "name": "stderr",
          "text": [
            "100%|██████████| 37/37 [00:00<00:00, 55.75it/s]\n"
          ]
        },
        {
          "output_type": "stream",
          "name": "stdout",
          "text": [
            "global/North America/US10 - Astellas Pharma US, Inc./GILTERITNB - Gilteritinib\n"
          ]
        },
        {
          "output_type": "stream",
          "name": "stderr",
          "text": [
            "100%|██████████| 43/43 [00:00<00:00, 55.48it/s]\n"
          ]
        },
        {
          "output_type": "stream",
          "name": "stdout",
          "text": [
            "global/North America/US10 - Astellas Pharma US, Inc./ISA_SULFAT - Isavuconazonium Sulfate\n"
          ]
        },
        {
          "output_type": "stream",
          "name": "stderr",
          "text": [
            "100%|██████████| 43/43 [00:00<00:00, 51.87it/s]\n"
          ]
        },
        {
          "output_type": "stream",
          "name": "stdout",
          "text": [
            "global/North America/US10 - Astellas Pharma US, Inc./MICAFUNGIN - Micafungin Sodium\n"
          ]
        },
        {
          "output_type": "stream",
          "name": "stderr",
          "text": [
            "100%|██████████| 43/43 [00:00<00:00, 56.19it/s]\n"
          ]
        },
        {
          "output_type": "stream",
          "name": "stdout",
          "text": [
            "global/North America/US10 - Astellas Pharma US, Inc./MIRABEGRON - Mirabegron\n"
          ]
        },
        {
          "output_type": "stream",
          "name": "stderr",
          "text": [
            "100%|██████████| 43/43 [00:00<00:00, 63.14it/s]\n"
          ]
        },
        {
          "output_type": "stream",
          "name": "stdout",
          "text": [
            "global/North America/US10 - Astellas Pharma US, Inc./REGADENOSN - Regadenoson\n"
          ]
        },
        {
          "output_type": "stream",
          "name": "stderr",
          "text": [
            "100%|██████████| 43/43 [00:00<00:00, 51.24it/s]\n"
          ]
        },
        {
          "output_type": "stream",
          "name": "stdout",
          "text": [
            "global/North America/US10 - Astellas Pharma US, Inc./SOLIFENACN - Solifenacin Succinate\n"
          ]
        },
        {
          "output_type": "stream",
          "name": "stderr",
          "text": [
            "100%|██████████| 43/43 [00:00<00:00, 58.88it/s]\n"
          ]
        },
        {
          "output_type": "stream",
          "name": "stdout",
          "text": [
            "global/North America/US10 - Astellas Pharma US, Inc./TACROLIMUS - Tacrolimus\n"
          ]
        },
        {
          "output_type": "stream",
          "name": "stderr",
          "text": [
            "100%|██████████| 43/43 [00:00<00:00, 56.66it/s]\n"
          ]
        },
        {
          "output_type": "stream",
          "name": "stdout",
          "text": [
            "global/North America/US10 - Astellas Pharma US, Inc./TACRO_XL - Tacrolimus Extended-Release\n"
          ]
        },
        {
          "output_type": "stream",
          "name": "stderr",
          "text": [
            "100%|██████████| 8/8 [00:00<00:00, 92.98it/s]\n"
          ]
        },
        {
          "output_type": "stream",
          "name": "stdout",
          "text": [
            "global/West Europe/D_E_DE - Germany/ENFORTUMAB - Enforumab Vedotin\n"
          ]
        },
        {
          "output_type": "stream",
          "name": "stderr",
          "text": [
            "100%|██████████| 42/42 [00:00<00:00, 58.85it/s]\n"
          ]
        },
        {
          "output_type": "stream",
          "name": "stdout",
          "text": [
            "global/West Europe/D_E_DE - Germany/ENZA - Enzalutamide\n"
          ]
        },
        {
          "output_type": "stream",
          "name": "stderr",
          "text": [
            "100%|██████████| 26/26 [00:00<00:00, 51.60it/s]\n"
          ]
        },
        {
          "output_type": "stream",
          "name": "stdout",
          "text": [
            "global/West Europe/D_E_DE - Germany/GILTERITNB - Gilteritinib\n"
          ]
        },
        {
          "output_type": "stream",
          "name": "stderr",
          "text": [
            "100%|██████████| 15/15 [00:00<00:00, 46.59it/s]\n"
          ]
        },
        {
          "output_type": "stream",
          "name": "stdout",
          "text": [
            "global/West Europe/D_E_DE - Germany/MICAFUNGIN - Micafungin Sodium\n"
          ]
        },
        {
          "output_type": "stream",
          "name": "stderr",
          "text": [
            "100%|██████████| 43/43 [00:00<00:00, 47.24it/s]\n"
          ]
        },
        {
          "output_type": "stream",
          "name": "stdout",
          "text": [
            "global/West Europe/D_E_DE - Germany/MIRABEGRON - Mirabegron\n"
          ]
        },
        {
          "output_type": "stream",
          "name": "stderr",
          "text": [
            "100%|██████████| 4/4 [00:00<00:00, 61.27it/s]\n"
          ]
        },
        {
          "output_type": "stream",
          "name": "stdout",
          "text": [
            "global/West Europe/D_E_DE - Germany/ROXADUSTNT - Roxadustant\n"
          ]
        },
        {
          "output_type": "stream",
          "name": "stderr",
          "text": [
            "100%|██████████| 37/37 [00:01<00:00, 36.86it/s]\n"
          ]
        },
        {
          "output_type": "stream",
          "name": "stdout",
          "text": [
            "global/West Europe/D_E_DE - Germany/SOLIFENACN - Solifenacin Succinate\n"
          ]
        },
        {
          "output_type": "stream",
          "name": "stderr",
          "text": [
            "100%|██████████| 43/43 [00:01<00:00, 35.95it/s]\n"
          ]
        },
        {
          "output_type": "stream",
          "name": "stdout",
          "text": [
            "global/West Europe/D_E_DE - Germany/TACROLIMUS - Tacrolimus\n"
          ]
        },
        {
          "output_type": "stream",
          "name": "stderr",
          "text": [
            "100%|██████████| 43/43 [00:01<00:00, 39.10it/s]\n"
          ]
        },
        {
          "output_type": "stream",
          "name": "stdout",
          "text": [
            "global/West Europe/D_E_DE - Germany/TACRO_XL - Tacrolimus Extended-Release\n"
          ]
        },
        {
          "output_type": "stream",
          "name": "stderr",
          "text": [
            "100%|██████████| 43/43 [00:00<00:00, 49.05it/s]\n"
          ]
        },
        {
          "output_type": "stream",
          "name": "stdout",
          "text": [
            "global/West Europe/D_E_DE - Germany/TAMSUL_TAB - Tamsulosin tab\n"
          ]
        },
        {
          "output_type": "stream",
          "name": "stderr",
          "text": [
            "100%|██████████| 6/6 [00:00<00:00, 72.59it/s]\n"
          ]
        },
        {
          "output_type": "stream",
          "name": "stdout",
          "text": [
            "global/West Europe/D_E_FRANCE - France/ENFORTUMAB - Enforumab Vedotin\n"
          ]
        },
        {
          "output_type": "stream",
          "name": "stderr",
          "text": [
            "100%|██████████| 43/43 [00:00<00:00, 57.28it/s]\n"
          ]
        },
        {
          "output_type": "stream",
          "name": "stdout",
          "text": [
            "global/West Europe/D_E_FRANCE - France/ENZA - Enzalutamide\n"
          ]
        },
        {
          "output_type": "stream",
          "name": "stderr",
          "text": [
            "100%|██████████| 24/24 [00:00<00:00, 52.08it/s]\n"
          ]
        },
        {
          "output_type": "stream",
          "name": "stdout",
          "text": [
            "global/West Europe/D_E_FRANCE - France/GILTERITNB - Gilteritinib\n"
          ]
        },
        {
          "output_type": "stream",
          "name": "stderr",
          "text": [
            "100%|██████████| 43/43 [00:00<00:00, 63.79it/s]\n"
          ]
        },
        {
          "output_type": "stream",
          "name": "stdout",
          "text": [
            "global/West Europe/D_E_FRANCE - France/MIRABEGRON - Mirabegron\n"
          ]
        },
        {
          "output_type": "stream",
          "name": "stderr",
          "text": [
            "100%|██████████| 1/1 [00:00<00:00, 69.22it/s]\n"
          ]
        },
        {
          "output_type": "stream",
          "name": "stdout",
          "text": [
            "global/West Europe/D_E_FRANCE - France/ROXADUSTNT - Roxadustant\n"
          ]
        },
        {
          "output_type": "stream",
          "name": "stderr",
          "text": [
            "100%|██████████| 43/43 [00:00<00:00, 64.00it/s]\n"
          ]
        },
        {
          "output_type": "stream",
          "name": "stdout",
          "text": [
            "global/West Europe/D_E_FRANCE - France/SOLIFENACN - Solifenacin Succinate\n"
          ]
        },
        {
          "output_type": "stream",
          "name": "stderr",
          "text": [
            "100%|██████████| 43/43 [00:00<00:00, 64.09it/s]\n"
          ]
        },
        {
          "output_type": "stream",
          "name": "stdout",
          "text": [
            "global/West Europe/D_E_FRANCE - France/TACROLIMUS - Tacrolimus\n"
          ]
        },
        {
          "output_type": "stream",
          "name": "stderr",
          "text": [
            "100%|██████████| 43/43 [00:00<00:00, 57.82it/s]\n"
          ]
        },
        {
          "output_type": "stream",
          "name": "stdout",
          "text": [
            "global/West Europe/D_E_FRANCE - France/TACRO_XL - Tacrolimus Extended-Release\n"
          ]
        },
        {
          "output_type": "stream",
          "name": "stderr",
          "text": [
            "100%|██████████| 43/43 [00:00<00:00, 63.34it/s]\n"
          ]
        },
        {
          "output_type": "stream",
          "name": "stdout",
          "text": [
            "global/West Europe/D_E_FRANCE - France/TAMSULOSIN - Tamsulosin HCl\n"
          ]
        },
        {
          "output_type": "stream",
          "name": "stderr",
          "text": [
            "100%|██████████| 43/43 [00:00<00:00, 67.24it/s]\n"
          ]
        },
        {
          "output_type": "stream",
          "name": "stdout",
          "text": [
            "global/West Europe/D_E_FRANCE - France/TAMSUL_TAB - Tamsulosin tab\n"
          ]
        },
        {
          "output_type": "stream",
          "name": "stderr",
          "text": [
            "100%|██████████| 6/6 [00:00<00:00, 93.28it/s]\n"
          ]
        },
        {
          "output_type": "stream",
          "name": "stdout",
          "text": [
            "global/West Europe/D_E_GB - Great Britain/ENFORTUMAB - Enforumab Vedotin\n"
          ]
        },
        {
          "output_type": "stream",
          "name": "stderr",
          "text": [
            "100%|██████████| 43/43 [00:00<00:00, 66.62it/s]\n"
          ]
        },
        {
          "output_type": "stream",
          "name": "stdout",
          "text": [
            "global/West Europe/D_E_GB - Great Britain/ENZA - Enzalutamide\n"
          ]
        },
        {
          "output_type": "stream",
          "name": "stderr",
          "text": [
            "100%|██████████| 26/26 [00:00<00:00, 57.31it/s]\n"
          ]
        },
        {
          "output_type": "stream",
          "name": "stdout",
          "text": [
            "global/West Europe/D_E_GB - Great Britain/GILTERITNB - Gilteritinib\n"
          ]
        },
        {
          "output_type": "stream",
          "name": "stderr",
          "text": [
            "100%|██████████| 43/43 [00:00<00:00, 63.23it/s]\n"
          ]
        },
        {
          "output_type": "stream",
          "name": "stdout",
          "text": [
            "global/West Europe/D_E_GB - Great Britain/MIRABEGRON - Mirabegron\n"
          ]
        },
        {
          "output_type": "stream",
          "name": "stderr",
          "text": [
            "100%|██████████| 1/1 [00:00<00:00, 42.09it/s]\n"
          ]
        },
        {
          "output_type": "stream",
          "name": "stdout",
          "text": [
            "global/West Europe/D_E_GB - Great Britain/ROXADUSTNT - Roxadustant\n"
          ]
        },
        {
          "output_type": "stream",
          "name": "stderr",
          "text": [
            "100%|██████████| 43/43 [00:00<00:00, 65.11it/s]\n"
          ]
        },
        {
          "output_type": "stream",
          "name": "stdout",
          "text": [
            "global/West Europe/D_E_GB - Great Britain/SOLIFENACN - Solifenacin Succinate\n"
          ]
        },
        {
          "output_type": "stream",
          "name": "stderr",
          "text": [
            "100%|██████████| 43/43 [00:00<00:00, 52.33it/s]\n"
          ]
        },
        {
          "output_type": "stream",
          "name": "stdout",
          "text": [
            "global/West Europe/D_E_GB - Great Britain/SOLIF_TAMS - Solifenacin _ Tamsulosin\n"
          ]
        },
        {
          "output_type": "stream",
          "name": "stderr",
          "text": [
            "100%|██████████| 43/43 [00:01<00:00, 37.22it/s]\n"
          ]
        },
        {
          "output_type": "stream",
          "name": "stdout",
          "text": [
            "global/West Europe/D_E_GB - Great Britain/TACROLIMUS - Tacrolimus\n"
          ]
        },
        {
          "output_type": "stream",
          "name": "stderr",
          "text": [
            "100%|██████████| 43/43 [00:01<00:00, 35.11it/s]\n"
          ]
        },
        {
          "output_type": "stream",
          "name": "stdout",
          "text": [
            "global/West Europe/D_E_GB - Great Britain/TACRO_XL - Tacrolimus Extended-Release\n"
          ]
        },
        {
          "output_type": "stream",
          "name": "stderr",
          "text": [
            "100%|██████████| 43/43 [00:01<00:00, 35.78it/s]\n"
          ]
        },
        {
          "output_type": "stream",
          "name": "stdout",
          "text": [
            "global/West Europe/D_E_GB - Great Britain/TAMSUL_TAB - Tamsulosin tab\n"
          ]
        },
        {
          "output_type": "stream",
          "name": "stderr",
          "text": [
            "100%|██████████| 43/43 [00:00<00:00, 55.59it/s]\n"
          ]
        },
        {
          "output_type": "stream",
          "name": "stdout",
          "text": [
            "global/West Europe/D_E_IE - Ireland/ENZA - Enzalutamide\n"
          ]
        },
        {
          "output_type": "stream",
          "name": "stderr",
          "text": [
            "100%|██████████| 12/12 [00:00<00:00, 97.98it/s] \n"
          ]
        },
        {
          "output_type": "stream",
          "name": "stdout",
          "text": [
            "global/West Europe/D_E_IE - Ireland/GILTERITNB - Gilteritinib\n"
          ]
        },
        {
          "output_type": "stream",
          "name": "stderr",
          "text": [
            "100%|██████████| 43/43 [00:00<00:00, 67.30it/s]\n"
          ]
        },
        {
          "output_type": "stream",
          "name": "stdout",
          "text": [
            "global/West Europe/D_E_IE - Ireland/MIRABEGRON - Mirabegron\n"
          ]
        },
        {
          "output_type": "stream",
          "name": "stderr",
          "text": [
            "100%|██████████| 4/4 [00:00<00:00, 87.58it/s]\n"
          ]
        },
        {
          "output_type": "stream",
          "name": "stdout",
          "text": [
            "global/West Europe/D_E_IE - Ireland/ROXADUSTNT - Roxadustant\n"
          ]
        },
        {
          "output_type": "stream",
          "name": "stderr",
          "text": [
            "100%|██████████| 43/43 [00:00<00:00, 66.62it/s]\n"
          ]
        },
        {
          "output_type": "stream",
          "name": "stdout",
          "text": [
            "global/West Europe/D_E_IE - Ireland/SOLIFENACN - Solifenacin Succinate\n"
          ]
        },
        {
          "output_type": "stream",
          "name": "stderr",
          "text": [
            "100%|██████████| 43/43 [00:00<00:00, 65.80it/s]\n"
          ]
        },
        {
          "output_type": "stream",
          "name": "stdout",
          "text": [
            "global/West Europe/D_E_IE - Ireland/SOLIF_TAMS - Solifenacin _ Tamsulosin\n"
          ]
        },
        {
          "output_type": "stream",
          "name": "stderr",
          "text": [
            "100%|██████████| 43/43 [00:00<00:00, 65.56it/s]\n"
          ]
        },
        {
          "output_type": "stream",
          "name": "stdout",
          "text": [
            "global/West Europe/D_E_IE - Ireland/TACROLIMUS - Tacrolimus\n"
          ]
        },
        {
          "output_type": "stream",
          "name": "stderr",
          "text": [
            "100%|██████████| 43/43 [00:00<00:00, 57.03it/s]\n"
          ]
        },
        {
          "output_type": "stream",
          "name": "stdout",
          "text": [
            "global/West Europe/D_E_IE - Ireland/TACRO_XL - Tacrolimus Extended-Release\n"
          ]
        },
        {
          "output_type": "stream",
          "name": "stderr",
          "text": [
            "100%|██████████| 43/43 [00:00<00:00, 57.90it/s]\n"
          ]
        },
        {
          "output_type": "stream",
          "name": "stdout",
          "text": [
            "global/West Europe/D_E_IE - Ireland/TAMSUL_TAB - Tamsulosin tab\n"
          ]
        },
        {
          "output_type": "stream",
          "name": "stderr",
          "text": [
            "100%|██████████| 3/3 [00:00<00:00, 79.00it/s]\n"
          ]
        },
        {
          "output_type": "stream",
          "name": "stdout",
          "text": [
            "global/West Europe/D_E_IT - Italy/ENFORTUMAB - Enforumab Vedotin\n"
          ]
        },
        {
          "output_type": "stream",
          "name": "stderr",
          "text": [
            "100%|██████████| 43/43 [00:00<00:00, 67.78it/s]\n"
          ]
        },
        {
          "output_type": "stream",
          "name": "stdout",
          "text": [
            "global/West Europe/D_E_IT - Italy/ENZA - Enzalutamide\n"
          ]
        },
        {
          "output_type": "stream",
          "name": "stderr",
          "text": [
            "100%|██████████| 21/21 [00:00<00:00, 68.42it/s]\n"
          ]
        },
        {
          "output_type": "stream",
          "name": "stdout",
          "text": [
            "global/West Europe/D_E_IT - Italy/GILTERITNB - Gilteritinib\n"
          ]
        },
        {
          "output_type": "stream",
          "name": "stderr",
          "text": [
            "100%|██████████| 43/43 [00:00<00:00, 54.05it/s]\n"
          ]
        },
        {
          "output_type": "stream",
          "name": "stdout",
          "text": [
            "global/West Europe/D_E_IT - Italy/MICAFUNGIN - Micafungin Sodium\n"
          ]
        },
        {
          "output_type": "stream",
          "name": "stderr",
          "text": [
            "100%|██████████| 43/43 [00:00<00:00, 54.94it/s]\n"
          ]
        },
        {
          "output_type": "stream",
          "name": "stdout",
          "text": [
            "global/West Europe/D_E_IT - Italy/MIRABEGRON - Mirabegron\n"
          ]
        },
        {
          "output_type": "stream",
          "name": "stderr",
          "text": [
            "100%|██████████| 10/10 [00:00<00:00, 74.39it/s]\n"
          ]
        },
        {
          "output_type": "stream",
          "name": "stdout",
          "text": [
            "global/West Europe/D_E_IT - Italy/ROXADUSTNT - Roxadustant\n"
          ]
        },
        {
          "output_type": "stream",
          "name": "stderr",
          "text": [
            "100%|██████████| 43/43 [00:00<00:00, 63.63it/s]\n"
          ]
        },
        {
          "output_type": "stream",
          "name": "stdout",
          "text": [
            "global/West Europe/D_E_IT - Italy/SOLIFENACN - Solifenacin Succinate\n"
          ]
        },
        {
          "output_type": "stream",
          "name": "stderr",
          "text": [
            "100%|██████████| 43/43 [00:00<00:00, 62.28it/s]\n"
          ]
        },
        {
          "output_type": "stream",
          "name": "stdout",
          "text": [
            "global/West Europe/D_E_IT - Italy/SOLIF_TAMS - Solifenacin _ Tamsulosin\n"
          ]
        },
        {
          "output_type": "stream",
          "name": "stderr",
          "text": [
            "100%|██████████| 43/43 [00:00<00:00, 53.10it/s]\n"
          ]
        },
        {
          "output_type": "stream",
          "name": "stdout",
          "text": [
            "global/West Europe/D_E_IT - Italy/TACROLIMUS - Tacrolimus\n"
          ]
        },
        {
          "output_type": "stream",
          "name": "stderr",
          "text": [
            "100%|██████████| 43/43 [00:01<00:00, 42.51it/s]\n"
          ]
        },
        {
          "output_type": "stream",
          "name": "stdout",
          "text": [
            "global/West Europe/D_E_IT - Italy/TACRO_XL - Tacrolimus Extended-Release\n"
          ]
        },
        {
          "output_type": "stream",
          "name": "stderr",
          "text": [
            "100%|██████████| 43/43 [00:00<00:00, 46.55it/s]\n"
          ]
        },
        {
          "output_type": "stream",
          "name": "stdout",
          "text": [
            "global/West Europe/D_E_IT - Italy/TAMSULOSIN - Tamsulosin HCl\n"
          ]
        },
        {
          "output_type": "stream",
          "name": "stderr",
          "text": [
            "100%|██████████| 42/42 [00:00<00:00, 70.91it/s]\n"
          ]
        },
        {
          "output_type": "stream",
          "name": "stdout",
          "text": [
            "global/West Europe/D_E_MALTA - Malta/ENZA - Enzalutamide\n"
          ]
        },
        {
          "output_type": "stream",
          "name": "stderr",
          "text": [
            "100%|██████████| 41/41 [00:00<00:00, 64.04it/s]\n"
          ]
        },
        {
          "output_type": "stream",
          "name": "stdout",
          "text": [
            "global/West Europe/D_E_MALTA - Malta/MIRABEGRON - Mirabegron\n"
          ]
        },
        {
          "output_type": "stream",
          "name": "stderr",
          "text": [
            "100%|██████████| 41/41 [00:00<00:00, 89.82it/s]\n"
          ]
        },
        {
          "output_type": "stream",
          "name": "stdout",
          "text": [
            "global/West Europe/D_E_MALTA - Malta/SOLIFENACN - Solifenacin Succinate\n"
          ]
        },
        {
          "output_type": "stream",
          "name": "stderr",
          "text": [
            "100%|██████████| 42/42 [00:00<00:00, 94.21it/s]\n"
          ]
        },
        {
          "output_type": "stream",
          "name": "stdout",
          "text": [
            "global/West Europe/D_E_MALTA - Malta/TACROLIMUS - Tacrolimus\n"
          ]
        },
        {
          "output_type": "stream",
          "name": "stderr",
          "text": [
            "100%|██████████| 42/42 [00:00<00:00, 95.34it/s]\n"
          ]
        },
        {
          "output_type": "stream",
          "name": "stdout",
          "text": [
            "global/West Europe/D_E_MALTA - Malta/TACRO_XL - Tacrolimus Extended-Release\n"
          ]
        },
        {
          "output_type": "stream",
          "name": "stderr",
          "text": [
            "100%|██████████| 43/43 [00:00<00:00, 106.52it/s]\n"
          ]
        },
        {
          "output_type": "stream",
          "name": "stdout",
          "text": [
            "global/West Europe/D_E_MALTA - Malta/TAMSULOSIN - Tamsulosin HCl\n"
          ]
        },
        {
          "output_type": "stream",
          "name": "stderr",
          "text": [
            "100%|██████████| 3/3 [00:00<00:00, 94.92it/s]\n"
          ]
        },
        {
          "output_type": "stream",
          "name": "stdout",
          "text": [
            "global/West Europe/D_E_PORTUGAL - Portugal/ENFORTUMAB - Enforumab Vedotin\n"
          ]
        },
        {
          "output_type": "stream",
          "name": "stderr",
          "text": [
            "100%|██████████| 43/43 [00:00<00:00, 65.23it/s]\n"
          ]
        },
        {
          "output_type": "stream",
          "name": "stdout",
          "text": [
            "global/West Europe/D_E_PORTUGAL - Portugal/ENZA - Enzalutamide\n"
          ]
        },
        {
          "output_type": "stream",
          "name": "stderr",
          "text": [
            "100%|██████████| 17/17 [00:00<00:00, 78.43it/s]\n"
          ]
        },
        {
          "output_type": "stream",
          "name": "stdout",
          "text": [
            "global/West Europe/D_E_PORTUGAL - Portugal/GILTERITNB - Gilteritinib\n"
          ]
        },
        {
          "output_type": "stream",
          "name": "stderr",
          "text": [
            "100%|██████████| 43/43 [00:00<00:00, 62.66it/s]\n"
          ]
        },
        {
          "output_type": "stream",
          "name": "stdout",
          "text": [
            "global/West Europe/D_E_PORTUGAL - Portugal/MICAFUNGIN - Micafungin Sodium\n"
          ]
        },
        {
          "output_type": "stream",
          "name": "stderr",
          "text": [
            "100%|██████████| 43/43 [00:00<00:00, 64.61it/s]\n"
          ]
        },
        {
          "output_type": "stream",
          "name": "stdout",
          "text": [
            "global/West Europe/D_E_PORTUGAL - Portugal/MIRABEGRON - Mirabegron\n"
          ]
        },
        {
          "output_type": "stream",
          "name": "stderr",
          "text": [
            "100%|██████████| 9/9 [00:00<00:00, 90.87it/s]\n"
          ]
        },
        {
          "output_type": "stream",
          "name": "stdout",
          "text": [
            "global/West Europe/D_E_PORTUGAL - Portugal/ROXADUSTNT - Roxadustant\n"
          ]
        },
        {
          "output_type": "stream",
          "name": "stderr",
          "text": [
            "100%|██████████| 43/43 [00:00<00:00, 62.14it/s]\n"
          ]
        },
        {
          "output_type": "stream",
          "name": "stdout",
          "text": [
            "global/West Europe/D_E_PORTUGAL - Portugal/SOLIFENACN - Solifenacin Succinate\n"
          ]
        },
        {
          "output_type": "stream",
          "name": "stderr",
          "text": [
            "100%|██████████| 43/43 [00:00<00:00, 62.48it/s]\n"
          ]
        },
        {
          "output_type": "stream",
          "name": "stdout",
          "text": [
            "global/West Europe/D_E_PORTUGAL - Portugal/SOLIF_TAMS - Solifenacin _ Tamsulosin\n"
          ]
        },
        {
          "output_type": "stream",
          "name": "stderr",
          "text": [
            "100%|██████████| 43/43 [00:00<00:00, 66.56it/s]\n"
          ]
        },
        {
          "output_type": "stream",
          "name": "stdout",
          "text": [
            "global/West Europe/D_E_PORTUGAL - Portugal/TACROLIMUS - Tacrolimus\n"
          ]
        },
        {
          "output_type": "stream",
          "name": "stderr",
          "text": [
            "100%|██████████| 43/43 [00:00<00:00, 69.64it/s]\n"
          ]
        },
        {
          "output_type": "stream",
          "name": "stdout",
          "text": [
            "global/West Europe/D_E_PORTUGAL - Portugal/TACRO_XL - Tacrolimus Extended-Release\n"
          ]
        },
        {
          "output_type": "stream",
          "name": "stderr",
          "text": [
            "100%|██████████| 43/43 [00:00<00:00, 60.96it/s]\n"
          ]
        },
        {
          "output_type": "stream",
          "name": "stdout",
          "text": [
            "global/West Europe/D_E_PORTUGAL - Portugal/TAMSUL_TAB - Tamsulosin tab\n"
          ]
        },
        {
          "output_type": "stream",
          "name": "stderr",
          "text": [
            "100%|██████████| 7/7 [00:00<00:00, 87.66it/s]\n"
          ]
        },
        {
          "output_type": "stream",
          "name": "stdout",
          "text": [
            "global/West Europe/D_E_SPAIN - Spain/ENFORTUMAB - Enforumab Vedotin\n"
          ]
        },
        {
          "output_type": "stream",
          "name": "stderr",
          "text": [
            "100%|██████████| 43/43 [00:00<00:00, 57.57it/s]\n"
          ]
        },
        {
          "output_type": "stream",
          "name": "stdout",
          "text": [
            "global/West Europe/D_E_SPAIN - Spain/ENZA - Enzalutamide\n"
          ]
        },
        {
          "output_type": "stream",
          "name": "stderr",
          "text": [
            "100%|██████████| 24/24 [00:00<00:00, 68.11it/s]\n"
          ]
        },
        {
          "output_type": "stream",
          "name": "stdout",
          "text": [
            "global/West Europe/D_E_SPAIN - Spain/GILTERITNB - Gilteritinib\n"
          ]
        },
        {
          "output_type": "stream",
          "name": "stderr",
          "text": [
            "100%|██████████| 43/43 [00:00<00:00, 54.40it/s]\n"
          ]
        },
        {
          "output_type": "stream",
          "name": "stdout",
          "text": [
            "global/West Europe/D_E_SPAIN - Spain/MICAFUNGIN - Micafungin Sodium\n"
          ]
        },
        {
          "output_type": "stream",
          "name": "stderr",
          "text": [
            "100%|██████████| 43/43 [00:01<00:00, 38.67it/s]\n"
          ]
        },
        {
          "output_type": "stream",
          "name": "stdout",
          "text": [
            "global/West Europe/D_E_SPAIN - Spain/MIRABEGRON - Mirabegron\n"
          ]
        },
        {
          "output_type": "stream",
          "name": "stderr",
          "text": [
            "100%|██████████| 93/93 [00:01<00:00, 49.56it/s]\n"
          ]
        },
        {
          "output_type": "stream",
          "name": "stdout",
          "text": [
            "global/West Europe/D_E_SPAIN - Spain/ROXADUSTNT - Roxadustant\n"
          ]
        },
        {
          "output_type": "stream",
          "name": "stderr",
          "text": [
            "100%|██████████| 43/43 [00:00<00:00, 44.61it/s]\n"
          ]
        },
        {
          "output_type": "stream",
          "name": "stdout",
          "text": [
            "global/West Europe/D_E_SPAIN - Spain/SOLIFENACN - Solifenacin Succinate\n"
          ]
        },
        {
          "output_type": "stream",
          "name": "stderr",
          "text": [
            "100%|██████████| 43/43 [00:00<00:00, 66.40it/s]\n"
          ]
        },
        {
          "output_type": "stream",
          "name": "stdout",
          "text": [
            "global/West Europe/D_E_SPAIN - Spain/SOLIF_TAMS - Solifenacin _ Tamsulosin\n"
          ]
        },
        {
          "output_type": "stream",
          "name": "stderr",
          "text": [
            "100%|██████████| 43/43 [00:00<00:00, 62.74it/s]\n"
          ]
        },
        {
          "output_type": "stream",
          "name": "stdout",
          "text": [
            "global/West Europe/D_E_SPAIN - Spain/TACROLIMUS - Tacrolimus\n"
          ]
        },
        {
          "output_type": "stream",
          "name": "stderr",
          "text": [
            "100%|██████████| 43/43 [00:00<00:00, 67.29it/s]\n"
          ]
        },
        {
          "output_type": "stream",
          "name": "stdout",
          "text": [
            "global/West Europe/D_E_SPAIN - Spain/TACRO_XL - Tacrolimus Extended-Release\n"
          ]
        },
        {
          "output_type": "stream",
          "name": "stderr",
          "text": [
            "100%|██████████| 43/43 [00:00<00:00, 62.68it/s]\n"
          ]
        },
        {
          "output_type": "stream",
          "name": "stdout",
          "text": [
            "global/West Europe/D_E_SPAIN - Spain/TAMSULOSIN - Tamsulosin HCl\n"
          ]
        },
        {
          "output_type": "stream",
          "name": "stderr",
          "text": [
            "100%|██████████| 43/43 [00:00<00:00, 65.02it/s]\n"
          ]
        },
        {
          "output_type": "stream",
          "name": "stdout",
          "text": [
            "global/West Europe/D_E_SPAIN - Spain/TAMSUL_TAB - Tamsulosin tab\n"
          ]
        },
        {
          "output_type": "stream",
          "name": "stderr",
          "text": [
            "100%|██████████| 12/12 [00:00<00:00, 99.49it/s] \n"
          ]
        },
        {
          "output_type": "stream",
          "name": "stdout",
          "text": [
            "global/West Europe/D_E_SWITZ - Switzerland/ENFORTUMAB - Enforumab Vedotin\n"
          ]
        },
        {
          "output_type": "stream",
          "name": "stderr",
          "text": [
            "100%|██████████| 43/43 [00:00<00:00, 54.03it/s]\n"
          ]
        },
        {
          "output_type": "stream",
          "name": "stdout",
          "text": [
            "global/West Europe/D_E_SWITZ - Switzerland/ENZA - Enzalutamide\n"
          ]
        },
        {
          "output_type": "stream",
          "name": "stderr",
          "text": [
            "100%|██████████| 11/11 [00:00<00:00, 55.59it/s]\n"
          ]
        },
        {
          "output_type": "stream",
          "name": "stdout",
          "text": [
            "global/West Europe/D_E_SWITZ - Switzerland/GILTERITNB - Gilteritinib\n"
          ]
        },
        {
          "output_type": "stream",
          "name": "stderr",
          "text": [
            "100%|██████████| 43/43 [00:00<00:00, 94.60it/s]\n"
          ]
        },
        {
          "output_type": "stream",
          "name": "stdout",
          "text": [
            "global/West Europe/D_E_SWITZ - Switzerland/MICAFUNGIN - Micafungin Sodium\n"
          ]
        },
        {
          "output_type": "stream",
          "name": "stderr",
          "text": [
            "100%|██████████| 43/43 [00:00<00:00, 66.94it/s]\n"
          ]
        },
        {
          "output_type": "stream",
          "name": "stdout",
          "text": [
            "global/West Europe/D_E_SWITZ - Switzerland/MIRABEGRON - Mirabegron\n"
          ]
        },
        {
          "output_type": "stream",
          "name": "stderr",
          "text": [
            "100%|██████████| 93/93 [00:01<00:00, 82.68it/s]\n"
          ]
        },
        {
          "output_type": "stream",
          "name": "stdout",
          "text": [
            "global/West Europe/D_E_SWITZ - Switzerland/ROXADUSTNT - Roxadustant\n"
          ]
        },
        {
          "output_type": "stream",
          "name": "stderr",
          "text": [
            "100%|██████████| 43/43 [00:00<00:00, 52.75it/s]\n"
          ]
        },
        {
          "output_type": "stream",
          "name": "stdout",
          "text": [
            "global/West Europe/D_E_SWITZ - Switzerland/SOLIFENACN - Solifenacin Succinate\n"
          ]
        },
        {
          "output_type": "stream",
          "name": "stderr",
          "text": [
            "100%|██████████| 43/43 [00:00<00:00, 54.76it/s]\n"
          ]
        },
        {
          "output_type": "stream",
          "name": "stdout",
          "text": [
            "global/West Europe/D_E_SWITZ - Switzerland/TACROLIMUS - Tacrolimus\n"
          ]
        },
        {
          "output_type": "stream",
          "name": "stderr",
          "text": [
            "100%|██████████| 43/43 [00:00<00:00, 65.54it/s]\n"
          ]
        },
        {
          "output_type": "stream",
          "name": "stdout",
          "text": [
            "global/West Europe/D_E_SWITZ - Switzerland/TACRO_XL - Tacrolimus Extended-Release\n"
          ]
        },
        {
          "output_type": "stream",
          "name": "stderr",
          "text": [
            "100%|██████████| 43/43 [00:00<00:00, 49.75it/s]\n"
          ]
        },
        {
          "output_type": "stream",
          "name": "stdout",
          "text": [
            "global/West Europe/D_E_SWITZ - Switzerland/TAMSUL_TAB - Tamsulosin tab\n"
          ]
        },
        {
          "output_type": "execute_result",
          "data": {
            "text/plain": [
              "                                             unique_id  \\\n",
              "0    global/Japan/JP10 - Astellas Pharma Inc/ACLARB...   \n",
              "1    global/Japan/JP10 - Astellas Pharma Inc/BELZER...   \n",
              "2    global/Japan/JP10 - Astellas Pharma Inc/BIXALO...   \n",
              "3    global/Japan/JP10 - Astellas Pharma Inc/BLINAT...   \n",
              "4    global/Japan/JP10 - Astellas Pharma Inc/CERTOL...   \n",
              "..                                                 ...   \n",
              "136  global/West Europe/D_E_SWITZ - Switzerland/ROX...   \n",
              "137  global/West Europe/D_E_SWITZ - Switzerland/SOL...   \n",
              "138  global/West Europe/D_E_SWITZ - Switzerland/TAC...   \n",
              "139  global/West Europe/D_E_SWITZ - Switzerland/TAC...   \n",
              "140  global/West Europe/D_E_SWITZ - Switzerland/TAM...   \n",
              "\n",
              "                                                  MAPE  \n",
              "0                                                22.46  \n",
              "1   559,195,529,214,290,147,570,710,441,468,879,143...  \n",
              "2                                                25.18  \n",
              "3                                                19.28  \n",
              "4                                                55.58  \n",
              "..                                                 ...  \n",
              "136                                             100.00  \n",
              "137                                              12.63  \n",
              "138                                              11.80  \n",
              "139                                              18.14  \n",
              "140                                             157.37  \n",
              "\n",
              "[141 rows x 2 columns]"
            ],
            "text/html": [
              "\n",
              "  <div id=\"df-de382d6a-de5c-461b-b445-51bcd468defe\" class=\"colab-df-container\">\n",
              "    <div>\n",
              "<style scoped>\n",
              "    .dataframe tbody tr th:only-of-type {\n",
              "        vertical-align: middle;\n",
              "    }\n",
              "\n",
              "    .dataframe tbody tr th {\n",
              "        vertical-align: top;\n",
              "    }\n",
              "\n",
              "    .dataframe thead th {\n",
              "        text-align: right;\n",
              "    }\n",
              "</style>\n",
              "<table border=\"1\" class=\"dataframe\">\n",
              "  <thead>\n",
              "    <tr style=\"text-align: right;\">\n",
              "      <th></th>\n",
              "      <th>unique_id</th>\n",
              "      <th>MAPE</th>\n",
              "    </tr>\n",
              "  </thead>\n",
              "  <tbody>\n",
              "    <tr>\n",
              "      <th>0</th>\n",
              "      <td>global/Japan/JP10 - Astellas Pharma Inc/ACLARB...</td>\n",
              "      <td>22.46</td>\n",
              "    </tr>\n",
              "    <tr>\n",
              "      <th>1</th>\n",
              "      <td>global/Japan/JP10 - Astellas Pharma Inc/BELZER...</td>\n",
              "      <td>559,195,529,214,290,147,570,710,441,468,879,143...</td>\n",
              "    </tr>\n",
              "    <tr>\n",
              "      <th>2</th>\n",
              "      <td>global/Japan/JP10 - Astellas Pharma Inc/BIXALO...</td>\n",
              "      <td>25.18</td>\n",
              "    </tr>\n",
              "    <tr>\n",
              "      <th>3</th>\n",
              "      <td>global/Japan/JP10 - Astellas Pharma Inc/BLINAT...</td>\n",
              "      <td>19.28</td>\n",
              "    </tr>\n",
              "    <tr>\n",
              "      <th>4</th>\n",
              "      <td>global/Japan/JP10 - Astellas Pharma Inc/CERTOL...</td>\n",
              "      <td>55.58</td>\n",
              "    </tr>\n",
              "    <tr>\n",
              "      <th>...</th>\n",
              "      <td>...</td>\n",
              "      <td>...</td>\n",
              "    </tr>\n",
              "    <tr>\n",
              "      <th>136</th>\n",
              "      <td>global/West Europe/D_E_SWITZ - Switzerland/ROX...</td>\n",
              "      <td>100.00</td>\n",
              "    </tr>\n",
              "    <tr>\n",
              "      <th>137</th>\n",
              "      <td>global/West Europe/D_E_SWITZ - Switzerland/SOL...</td>\n",
              "      <td>12.63</td>\n",
              "    </tr>\n",
              "    <tr>\n",
              "      <th>138</th>\n",
              "      <td>global/West Europe/D_E_SWITZ - Switzerland/TAC...</td>\n",
              "      <td>11.80</td>\n",
              "    </tr>\n",
              "    <tr>\n",
              "      <th>139</th>\n",
              "      <td>global/West Europe/D_E_SWITZ - Switzerland/TAC...</td>\n",
              "      <td>18.14</td>\n",
              "    </tr>\n",
              "    <tr>\n",
              "      <th>140</th>\n",
              "      <td>global/West Europe/D_E_SWITZ - Switzerland/TAM...</td>\n",
              "      <td>157.37</td>\n",
              "    </tr>\n",
              "  </tbody>\n",
              "</table>\n",
              "<p>141 rows × 2 columns</p>\n",
              "</div>\n",
              "    <div class=\"colab-df-buttons\">\n",
              "\n",
              "  <div class=\"colab-df-container\">\n",
              "    <button class=\"colab-df-convert\" onclick=\"convertToInteractive('df-de382d6a-de5c-461b-b445-51bcd468defe')\"\n",
              "            title=\"Convert this dataframe to an interactive table.\"\n",
              "            style=\"display:none;\">\n",
              "\n",
              "  <svg xmlns=\"http://www.w3.org/2000/svg\" height=\"24px\" viewBox=\"0 -960 960 960\">\n",
              "    <path d=\"M120-120v-720h720v720H120Zm60-500h600v-160H180v160Zm220 220h160v-160H400v160Zm0 220h160v-160H400v160ZM180-400h160v-160H180v160Zm440 0h160v-160H620v160ZM180-180h160v-160H180v160Zm440 0h160v-160H620v160Z\"/>\n",
              "  </svg>\n",
              "    </button>\n",
              "\n",
              "  <style>\n",
              "    .colab-df-container {\n",
              "      display:flex;\n",
              "      gap: 12px;\n",
              "    }\n",
              "\n",
              "    .colab-df-convert {\n",
              "      background-color: #E8F0FE;\n",
              "      border: none;\n",
              "      border-radius: 50%;\n",
              "      cursor: pointer;\n",
              "      display: none;\n",
              "      fill: #1967D2;\n",
              "      height: 32px;\n",
              "      padding: 0 0 0 0;\n",
              "      width: 32px;\n",
              "    }\n",
              "\n",
              "    .colab-df-convert:hover {\n",
              "      background-color: #E2EBFA;\n",
              "      box-shadow: 0px 1px 2px rgba(60, 64, 67, 0.3), 0px 1px 3px 1px rgba(60, 64, 67, 0.15);\n",
              "      fill: #174EA6;\n",
              "    }\n",
              "\n",
              "    .colab-df-buttons div {\n",
              "      margin-bottom: 4px;\n",
              "    }\n",
              "\n",
              "    [theme=dark] .colab-df-convert {\n",
              "      background-color: #3B4455;\n",
              "      fill: #D2E3FC;\n",
              "    }\n",
              "\n",
              "    [theme=dark] .colab-df-convert:hover {\n",
              "      background-color: #434B5C;\n",
              "      box-shadow: 0px 1px 3px 1px rgba(0, 0, 0, 0.15);\n",
              "      filter: drop-shadow(0px 1px 2px rgba(0, 0, 0, 0.3));\n",
              "      fill: #FFFFFF;\n",
              "    }\n",
              "  </style>\n",
              "\n",
              "    <script>\n",
              "      const buttonEl =\n",
              "        document.querySelector('#df-de382d6a-de5c-461b-b445-51bcd468defe button.colab-df-convert');\n",
              "      buttonEl.style.display =\n",
              "        google.colab.kernel.accessAllowed ? 'block' : 'none';\n",
              "\n",
              "      async function convertToInteractive(key) {\n",
              "        const element = document.querySelector('#df-de382d6a-de5c-461b-b445-51bcd468defe');\n",
              "        const dataTable =\n",
              "          await google.colab.kernel.invokeFunction('convertToInteractive',\n",
              "                                                    [key], {});\n",
              "        if (!dataTable) return;\n",
              "\n",
              "        const docLinkHtml = 'Like what you see? Visit the ' +\n",
              "          '<a target=\"_blank\" href=https://colab.research.google.com/notebooks/data_table.ipynb>data table notebook</a>'\n",
              "          + ' to learn more about interactive tables.';\n",
              "        element.innerHTML = '';\n",
              "        dataTable['output_type'] = 'display_data';\n",
              "        await google.colab.output.renderOutput(dataTable, element);\n",
              "        const docLink = document.createElement('div');\n",
              "        docLink.innerHTML = docLinkHtml;\n",
              "        element.appendChild(docLink);\n",
              "      }\n",
              "    </script>\n",
              "  </div>\n",
              "\n",
              "\n",
              "<div id=\"df-98f8bbc9-520e-448d-8a78-176e48e4299d\">\n",
              "  <button class=\"colab-df-quickchart\" onclick=\"quickchart('df-98f8bbc9-520e-448d-8a78-176e48e4299d')\"\n",
              "            title=\"Suggest charts\"\n",
              "            style=\"display:none;\">\n",
              "\n",
              "<svg xmlns=\"http://www.w3.org/2000/svg\" height=\"24px\"viewBox=\"0 0 24 24\"\n",
              "     width=\"24px\">\n",
              "    <g>\n",
              "        <path d=\"M19 3H5c-1.1 0-2 .9-2 2v14c0 1.1.9 2 2 2h14c1.1 0 2-.9 2-2V5c0-1.1-.9-2-2-2zM9 17H7v-7h2v7zm4 0h-2V7h2v10zm4 0h-2v-4h2v4z\"/>\n",
              "    </g>\n",
              "</svg>\n",
              "  </button>\n",
              "\n",
              "<style>\n",
              "  .colab-df-quickchart {\n",
              "      --bg-color: #E8F0FE;\n",
              "      --fill-color: #1967D2;\n",
              "      --hover-bg-color: #E2EBFA;\n",
              "      --hover-fill-color: #174EA6;\n",
              "      --disabled-fill-color: #AAA;\n",
              "      --disabled-bg-color: #DDD;\n",
              "  }\n",
              "\n",
              "  [theme=dark] .colab-df-quickchart {\n",
              "      --bg-color: #3B4455;\n",
              "      --fill-color: #D2E3FC;\n",
              "      --hover-bg-color: #434B5C;\n",
              "      --hover-fill-color: #FFFFFF;\n",
              "      --disabled-bg-color: #3B4455;\n",
              "      --disabled-fill-color: #666;\n",
              "  }\n",
              "\n",
              "  .colab-df-quickchart {\n",
              "    background-color: var(--bg-color);\n",
              "    border: none;\n",
              "    border-radius: 50%;\n",
              "    cursor: pointer;\n",
              "    display: none;\n",
              "    fill: var(--fill-color);\n",
              "    height: 32px;\n",
              "    padding: 0;\n",
              "    width: 32px;\n",
              "  }\n",
              "\n",
              "  .colab-df-quickchart:hover {\n",
              "    background-color: var(--hover-bg-color);\n",
              "    box-shadow: 0 1px 2px rgba(60, 64, 67, 0.3), 0 1px 3px 1px rgba(60, 64, 67, 0.15);\n",
              "    fill: var(--button-hover-fill-color);\n",
              "  }\n",
              "\n",
              "  .colab-df-quickchart-complete:disabled,\n",
              "  .colab-df-quickchart-complete:disabled:hover {\n",
              "    background-color: var(--disabled-bg-color);\n",
              "    fill: var(--disabled-fill-color);\n",
              "    box-shadow: none;\n",
              "  }\n",
              "\n",
              "  .colab-df-spinner {\n",
              "    border: 2px solid var(--fill-color);\n",
              "    border-color: transparent;\n",
              "    border-bottom-color: var(--fill-color);\n",
              "    animation:\n",
              "      spin 1s steps(1) infinite;\n",
              "  }\n",
              "\n",
              "  @keyframes spin {\n",
              "    0% {\n",
              "      border-color: transparent;\n",
              "      border-bottom-color: var(--fill-color);\n",
              "      border-left-color: var(--fill-color);\n",
              "    }\n",
              "    20% {\n",
              "      border-color: transparent;\n",
              "      border-left-color: var(--fill-color);\n",
              "      border-top-color: var(--fill-color);\n",
              "    }\n",
              "    30% {\n",
              "      border-color: transparent;\n",
              "      border-left-color: var(--fill-color);\n",
              "      border-top-color: var(--fill-color);\n",
              "      border-right-color: var(--fill-color);\n",
              "    }\n",
              "    40% {\n",
              "      border-color: transparent;\n",
              "      border-right-color: var(--fill-color);\n",
              "      border-top-color: var(--fill-color);\n",
              "    }\n",
              "    60% {\n",
              "      border-color: transparent;\n",
              "      border-right-color: var(--fill-color);\n",
              "    }\n",
              "    80% {\n",
              "      border-color: transparent;\n",
              "      border-right-color: var(--fill-color);\n",
              "      border-bottom-color: var(--fill-color);\n",
              "    }\n",
              "    90% {\n",
              "      border-color: transparent;\n",
              "      border-bottom-color: var(--fill-color);\n",
              "    }\n",
              "  }\n",
              "</style>\n",
              "\n",
              "  <script>\n",
              "    async function quickchart(key) {\n",
              "      const quickchartButtonEl =\n",
              "        document.querySelector('#' + key + ' button');\n",
              "      quickchartButtonEl.disabled = true;  // To prevent multiple clicks.\n",
              "      quickchartButtonEl.classList.add('colab-df-spinner');\n",
              "      try {\n",
              "        const charts = await google.colab.kernel.invokeFunction(\n",
              "            'suggestCharts', [key], {});\n",
              "      } catch (error) {\n",
              "        console.error('Error during call to suggestCharts:', error);\n",
              "      }\n",
              "      quickchartButtonEl.classList.remove('colab-df-spinner');\n",
              "      quickchartButtonEl.classList.add('colab-df-quickchart-complete');\n",
              "    }\n",
              "    (() => {\n",
              "      let quickchartButtonEl =\n",
              "        document.querySelector('#df-98f8bbc9-520e-448d-8a78-176e48e4299d button');\n",
              "      quickchartButtonEl.style.display =\n",
              "        google.colab.kernel.accessAllowed ? 'block' : 'none';\n",
              "    })();\n",
              "  </script>\n",
              "</div>\n",
              "\n",
              "  <div id=\"id_06f09f2a-e0cb-4cb2-8ae1-68c340c645e4\">\n",
              "    <style>\n",
              "      .colab-df-generate {\n",
              "        background-color: #E8F0FE;\n",
              "        border: none;\n",
              "        border-radius: 50%;\n",
              "        cursor: pointer;\n",
              "        display: none;\n",
              "        fill: #1967D2;\n",
              "        height: 32px;\n",
              "        padding: 0 0 0 0;\n",
              "        width: 32px;\n",
              "      }\n",
              "\n",
              "      .colab-df-generate:hover {\n",
              "        background-color: #E2EBFA;\n",
              "        box-shadow: 0px 1px 2px rgba(60, 64, 67, 0.3), 0px 1px 3px 1px rgba(60, 64, 67, 0.15);\n",
              "        fill: #174EA6;\n",
              "      }\n",
              "\n",
              "      [theme=dark] .colab-df-generate {\n",
              "        background-color: #3B4455;\n",
              "        fill: #D2E3FC;\n",
              "      }\n",
              "\n",
              "      [theme=dark] .colab-df-generate:hover {\n",
              "        background-color: #434B5C;\n",
              "        box-shadow: 0px 1px 3px 1px rgba(0, 0, 0, 0.15);\n",
              "        filter: drop-shadow(0px 1px 2px rgba(0, 0, 0, 0.3));\n",
              "        fill: #FFFFFF;\n",
              "      }\n",
              "    </style>\n",
              "    <button class=\"colab-df-generate\" onclick=\"generateWithVariable('mape_df')\"\n",
              "            title=\"Generate code using this dataframe.\"\n",
              "            style=\"display:none;\">\n",
              "\n",
              "  <svg xmlns=\"http://www.w3.org/2000/svg\" height=\"24px\"viewBox=\"0 0 24 24\"\n",
              "       width=\"24px\">\n",
              "    <path d=\"M7,19H8.4L18.45,9,17,7.55,7,17.6ZM5,21V16.75L18.45,3.32a2,2,0,0,1,2.83,0l1.4,1.43a1.91,1.91,0,0,1,.58,1.4,1.91,1.91,0,0,1-.58,1.4L9.25,21ZM18.45,9,17,7.55Zm-12,3A5.31,5.31,0,0,0,4.9,8.1,5.31,5.31,0,0,0,1,6.5,5.31,5.31,0,0,0,4.9,4.9,5.31,5.31,0,0,0,6.5,1,5.31,5.31,0,0,0,8.1,4.9,5.31,5.31,0,0,0,12,6.5,5.46,5.46,0,0,0,6.5,12Z\"/>\n",
              "  </svg>\n",
              "    </button>\n",
              "    <script>\n",
              "      (() => {\n",
              "      const buttonEl =\n",
              "        document.querySelector('#id_06f09f2a-e0cb-4cb2-8ae1-68c340c645e4 button.colab-df-generate');\n",
              "      buttonEl.style.display =\n",
              "        google.colab.kernel.accessAllowed ? 'block' : 'none';\n",
              "\n",
              "      buttonEl.onclick = () => {\n",
              "        google.colab.notebook.generateWithVariable('mape_df');\n",
              "      }\n",
              "      })();\n",
              "    </script>\n",
              "  </div>\n",
              "\n",
              "    </div>\n",
              "  </div>\n"
            ],
            "application/vnd.google.colaboratory.intrinsic+json": {
              "type": "dataframe",
              "variable_name": "mape_df",
              "repr_error": "Out of range float values are not JSON compliant: inf"
            }
          },
          "metadata": {},
          "execution_count": 99
        }
      ]
    },
    {
      "cell_type": "code",
      "source": [
        "mape_df[mape_df['MAPE']>20]"
      ],
      "metadata": {
        "colab": {
          "base_uri": "https://localhost:8080/",
          "height": 696
        },
        "id": "cXJEoqowGObj",
        "outputId": "6bb1fd6b-5401-4270-daca-81e3d44f66ab"
      },
      "execution_count": 104,
      "outputs": [
        {
          "output_type": "execute_result",
          "data": {
            "text/plain": [
              "                                             unique_id  \\\n",
              "0    global/Japan/JP10 - Astellas Pharma Inc/ACLARB...   \n",
              "1    global/Japan/JP10 - Astellas Pharma Inc/BELZER...   \n",
              "2    global/Japan/JP10 - Astellas Pharma Inc/BIXALO...   \n",
              "4    global/Japan/JP10 - Astellas Pharma Inc/CERTOL...   \n",
              "7    global/Japan/JP10 - Astellas Pharma Inc/EVOLOC...   \n",
              "..                                                 ...   \n",
              "131  global/West Europe/D_E_SWITZ - Switzerland/ENF...   \n",
              "133  global/West Europe/D_E_SWITZ - Switzerland/GIL...   \n",
              "134  global/West Europe/D_E_SWITZ - Switzerland/MIC...   \n",
              "136  global/West Europe/D_E_SWITZ - Switzerland/ROX...   \n",
              "140  global/West Europe/D_E_SWITZ - Switzerland/TAM...   \n",
              "\n",
              "                                                  MAPE  \n",
              "0                                                22.46  \n",
              "1   559,195,529,214,290,147,570,710,441,468,879,143...  \n",
              "2                                                25.18  \n",
              "4                                                55.58  \n",
              "7                                                38.36  \n",
              "..                                                 ...  \n",
              "131 1,798,406,151,488,010,813,406,248,156,574,932,0...  \n",
              "133                                              34.93  \n",
              "134                                             235.18  \n",
              "136                                             100.00  \n",
              "140                                             157.37  \n",
              "\n",
              "[69 rows x 2 columns]"
            ],
            "text/html": [
              "\n",
              "  <div id=\"df-ed8b4bc6-6d59-4976-a781-253c9ac0d54b\" class=\"colab-df-container\">\n",
              "    <div>\n",
              "<style scoped>\n",
              "    .dataframe tbody tr th:only-of-type {\n",
              "        vertical-align: middle;\n",
              "    }\n",
              "\n",
              "    .dataframe tbody tr th {\n",
              "        vertical-align: top;\n",
              "    }\n",
              "\n",
              "    .dataframe thead th {\n",
              "        text-align: right;\n",
              "    }\n",
              "</style>\n",
              "<table border=\"1\" class=\"dataframe\">\n",
              "  <thead>\n",
              "    <tr style=\"text-align: right;\">\n",
              "      <th></th>\n",
              "      <th>unique_id</th>\n",
              "      <th>MAPE</th>\n",
              "    </tr>\n",
              "  </thead>\n",
              "  <tbody>\n",
              "    <tr>\n",
              "      <th>0</th>\n",
              "      <td>global/Japan/JP10 - Astellas Pharma Inc/ACLARB...</td>\n",
              "      <td>22.46</td>\n",
              "    </tr>\n",
              "    <tr>\n",
              "      <th>1</th>\n",
              "      <td>global/Japan/JP10 - Astellas Pharma Inc/BELZER...</td>\n",
              "      <td>559,195,529,214,290,147,570,710,441,468,879,143...</td>\n",
              "    </tr>\n",
              "    <tr>\n",
              "      <th>2</th>\n",
              "      <td>global/Japan/JP10 - Astellas Pharma Inc/BIXALO...</td>\n",
              "      <td>25.18</td>\n",
              "    </tr>\n",
              "    <tr>\n",
              "      <th>4</th>\n",
              "      <td>global/Japan/JP10 - Astellas Pharma Inc/CERTOL...</td>\n",
              "      <td>55.58</td>\n",
              "    </tr>\n",
              "    <tr>\n",
              "      <th>7</th>\n",
              "      <td>global/Japan/JP10 - Astellas Pharma Inc/EVOLOC...</td>\n",
              "      <td>38.36</td>\n",
              "    </tr>\n",
              "    <tr>\n",
              "      <th>...</th>\n",
              "      <td>...</td>\n",
              "      <td>...</td>\n",
              "    </tr>\n",
              "    <tr>\n",
              "      <th>131</th>\n",
              "      <td>global/West Europe/D_E_SWITZ - Switzerland/ENF...</td>\n",
              "      <td>1,798,406,151,488,010,813,406,248,156,574,932,0...</td>\n",
              "    </tr>\n",
              "    <tr>\n",
              "      <th>133</th>\n",
              "      <td>global/West Europe/D_E_SWITZ - Switzerland/GIL...</td>\n",
              "      <td>34.93</td>\n",
              "    </tr>\n",
              "    <tr>\n",
              "      <th>134</th>\n",
              "      <td>global/West Europe/D_E_SWITZ - Switzerland/MIC...</td>\n",
              "      <td>235.18</td>\n",
              "    </tr>\n",
              "    <tr>\n",
              "      <th>136</th>\n",
              "      <td>global/West Europe/D_E_SWITZ - Switzerland/ROX...</td>\n",
              "      <td>100.00</td>\n",
              "    </tr>\n",
              "    <tr>\n",
              "      <th>140</th>\n",
              "      <td>global/West Europe/D_E_SWITZ - Switzerland/TAM...</td>\n",
              "      <td>157.37</td>\n",
              "    </tr>\n",
              "  </tbody>\n",
              "</table>\n",
              "<p>69 rows × 2 columns</p>\n",
              "</div>\n",
              "    <div class=\"colab-df-buttons\">\n",
              "\n",
              "  <div class=\"colab-df-container\">\n",
              "    <button class=\"colab-df-convert\" onclick=\"convertToInteractive('df-ed8b4bc6-6d59-4976-a781-253c9ac0d54b')\"\n",
              "            title=\"Convert this dataframe to an interactive table.\"\n",
              "            style=\"display:none;\">\n",
              "\n",
              "  <svg xmlns=\"http://www.w3.org/2000/svg\" height=\"24px\" viewBox=\"0 -960 960 960\">\n",
              "    <path d=\"M120-120v-720h720v720H120Zm60-500h600v-160H180v160Zm220 220h160v-160H400v160Zm0 220h160v-160H400v160ZM180-400h160v-160H180v160Zm440 0h160v-160H620v160ZM180-180h160v-160H180v160Zm440 0h160v-160H620v160Z\"/>\n",
              "  </svg>\n",
              "    </button>\n",
              "\n",
              "  <style>\n",
              "    .colab-df-container {\n",
              "      display:flex;\n",
              "      gap: 12px;\n",
              "    }\n",
              "\n",
              "    .colab-df-convert {\n",
              "      background-color: #E8F0FE;\n",
              "      border: none;\n",
              "      border-radius: 50%;\n",
              "      cursor: pointer;\n",
              "      display: none;\n",
              "      fill: #1967D2;\n",
              "      height: 32px;\n",
              "      padding: 0 0 0 0;\n",
              "      width: 32px;\n",
              "    }\n",
              "\n",
              "    .colab-df-convert:hover {\n",
              "      background-color: #E2EBFA;\n",
              "      box-shadow: 0px 1px 2px rgba(60, 64, 67, 0.3), 0px 1px 3px 1px rgba(60, 64, 67, 0.15);\n",
              "      fill: #174EA6;\n",
              "    }\n",
              "\n",
              "    .colab-df-buttons div {\n",
              "      margin-bottom: 4px;\n",
              "    }\n",
              "\n",
              "    [theme=dark] .colab-df-convert {\n",
              "      background-color: #3B4455;\n",
              "      fill: #D2E3FC;\n",
              "    }\n",
              "\n",
              "    [theme=dark] .colab-df-convert:hover {\n",
              "      background-color: #434B5C;\n",
              "      box-shadow: 0px 1px 3px 1px rgba(0, 0, 0, 0.15);\n",
              "      filter: drop-shadow(0px 1px 2px rgba(0, 0, 0, 0.3));\n",
              "      fill: #FFFFFF;\n",
              "    }\n",
              "  </style>\n",
              "\n",
              "    <script>\n",
              "      const buttonEl =\n",
              "        document.querySelector('#df-ed8b4bc6-6d59-4976-a781-253c9ac0d54b button.colab-df-convert');\n",
              "      buttonEl.style.display =\n",
              "        google.colab.kernel.accessAllowed ? 'block' : 'none';\n",
              "\n",
              "      async function convertToInteractive(key) {\n",
              "        const element = document.querySelector('#df-ed8b4bc6-6d59-4976-a781-253c9ac0d54b');\n",
              "        const dataTable =\n",
              "          await google.colab.kernel.invokeFunction('convertToInteractive',\n",
              "                                                    [key], {});\n",
              "        if (!dataTable) return;\n",
              "\n",
              "        const docLinkHtml = 'Like what you see? Visit the ' +\n",
              "          '<a target=\"_blank\" href=https://colab.research.google.com/notebooks/data_table.ipynb>data table notebook</a>'\n",
              "          + ' to learn more about interactive tables.';\n",
              "        element.innerHTML = '';\n",
              "        dataTable['output_type'] = 'display_data';\n",
              "        await google.colab.output.renderOutput(dataTable, element);\n",
              "        const docLink = document.createElement('div');\n",
              "        docLink.innerHTML = docLinkHtml;\n",
              "        element.appendChild(docLink);\n",
              "      }\n",
              "    </script>\n",
              "  </div>\n",
              "\n",
              "\n",
              "<div id=\"df-aefbf99a-111d-4876-a92c-d0ab90f8acbc\">\n",
              "  <button class=\"colab-df-quickchart\" onclick=\"quickchart('df-aefbf99a-111d-4876-a92c-d0ab90f8acbc')\"\n",
              "            title=\"Suggest charts\"\n",
              "            style=\"display:none;\">\n",
              "\n",
              "<svg xmlns=\"http://www.w3.org/2000/svg\" height=\"24px\"viewBox=\"0 0 24 24\"\n",
              "     width=\"24px\">\n",
              "    <g>\n",
              "        <path d=\"M19 3H5c-1.1 0-2 .9-2 2v14c0 1.1.9 2 2 2h14c1.1 0 2-.9 2-2V5c0-1.1-.9-2-2-2zM9 17H7v-7h2v7zm4 0h-2V7h2v10zm4 0h-2v-4h2v4z\"/>\n",
              "    </g>\n",
              "</svg>\n",
              "  </button>\n",
              "\n",
              "<style>\n",
              "  .colab-df-quickchart {\n",
              "      --bg-color: #E8F0FE;\n",
              "      --fill-color: #1967D2;\n",
              "      --hover-bg-color: #E2EBFA;\n",
              "      --hover-fill-color: #174EA6;\n",
              "      --disabled-fill-color: #AAA;\n",
              "      --disabled-bg-color: #DDD;\n",
              "  }\n",
              "\n",
              "  [theme=dark] .colab-df-quickchart {\n",
              "      --bg-color: #3B4455;\n",
              "      --fill-color: #D2E3FC;\n",
              "      --hover-bg-color: #434B5C;\n",
              "      --hover-fill-color: #FFFFFF;\n",
              "      --disabled-bg-color: #3B4455;\n",
              "      --disabled-fill-color: #666;\n",
              "  }\n",
              "\n",
              "  .colab-df-quickchart {\n",
              "    background-color: var(--bg-color);\n",
              "    border: none;\n",
              "    border-radius: 50%;\n",
              "    cursor: pointer;\n",
              "    display: none;\n",
              "    fill: var(--fill-color);\n",
              "    height: 32px;\n",
              "    padding: 0;\n",
              "    width: 32px;\n",
              "  }\n",
              "\n",
              "  .colab-df-quickchart:hover {\n",
              "    background-color: var(--hover-bg-color);\n",
              "    box-shadow: 0 1px 2px rgba(60, 64, 67, 0.3), 0 1px 3px 1px rgba(60, 64, 67, 0.15);\n",
              "    fill: var(--button-hover-fill-color);\n",
              "  }\n",
              "\n",
              "  .colab-df-quickchart-complete:disabled,\n",
              "  .colab-df-quickchart-complete:disabled:hover {\n",
              "    background-color: var(--disabled-bg-color);\n",
              "    fill: var(--disabled-fill-color);\n",
              "    box-shadow: none;\n",
              "  }\n",
              "\n",
              "  .colab-df-spinner {\n",
              "    border: 2px solid var(--fill-color);\n",
              "    border-color: transparent;\n",
              "    border-bottom-color: var(--fill-color);\n",
              "    animation:\n",
              "      spin 1s steps(1) infinite;\n",
              "  }\n",
              "\n",
              "  @keyframes spin {\n",
              "    0% {\n",
              "      border-color: transparent;\n",
              "      border-bottom-color: var(--fill-color);\n",
              "      border-left-color: var(--fill-color);\n",
              "    }\n",
              "    20% {\n",
              "      border-color: transparent;\n",
              "      border-left-color: var(--fill-color);\n",
              "      border-top-color: var(--fill-color);\n",
              "    }\n",
              "    30% {\n",
              "      border-color: transparent;\n",
              "      border-left-color: var(--fill-color);\n",
              "      border-top-color: var(--fill-color);\n",
              "      border-right-color: var(--fill-color);\n",
              "    }\n",
              "    40% {\n",
              "      border-color: transparent;\n",
              "      border-right-color: var(--fill-color);\n",
              "      border-top-color: var(--fill-color);\n",
              "    }\n",
              "    60% {\n",
              "      border-color: transparent;\n",
              "      border-right-color: var(--fill-color);\n",
              "    }\n",
              "    80% {\n",
              "      border-color: transparent;\n",
              "      border-right-color: var(--fill-color);\n",
              "      border-bottom-color: var(--fill-color);\n",
              "    }\n",
              "    90% {\n",
              "      border-color: transparent;\n",
              "      border-bottom-color: var(--fill-color);\n",
              "    }\n",
              "  }\n",
              "</style>\n",
              "\n",
              "  <script>\n",
              "    async function quickchart(key) {\n",
              "      const quickchartButtonEl =\n",
              "        document.querySelector('#' + key + ' button');\n",
              "      quickchartButtonEl.disabled = true;  // To prevent multiple clicks.\n",
              "      quickchartButtonEl.classList.add('colab-df-spinner');\n",
              "      try {\n",
              "        const charts = await google.colab.kernel.invokeFunction(\n",
              "            'suggestCharts', [key], {});\n",
              "      } catch (error) {\n",
              "        console.error('Error during call to suggestCharts:', error);\n",
              "      }\n",
              "      quickchartButtonEl.classList.remove('colab-df-spinner');\n",
              "      quickchartButtonEl.classList.add('colab-df-quickchart-complete');\n",
              "    }\n",
              "    (() => {\n",
              "      let quickchartButtonEl =\n",
              "        document.querySelector('#df-aefbf99a-111d-4876-a92c-d0ab90f8acbc button');\n",
              "      quickchartButtonEl.style.display =\n",
              "        google.colab.kernel.accessAllowed ? 'block' : 'none';\n",
              "    })();\n",
              "  </script>\n",
              "</div>\n",
              "\n",
              "    </div>\n",
              "  </div>\n"
            ],
            "application/vnd.google.colaboratory.intrinsic+json": {
              "type": "dataframe",
              "repr_error": "Out of range float values are not JSON compliant: inf"
            }
          },
          "metadata": {},
          "execution_count": 104
        }
      ]
    },
    {
      "cell_type": "code",
      "source": [
        "shape_df"
      ],
      "metadata": {
        "id": "xm2ue8jpKNyc"
      },
      "execution_count": null,
      "outputs": []
    },
    {
      "cell_type": "code",
      "source": [
        "from darts.metrics import mae, mape\n",
        "\n",
        "historical_fcast = model.historical_forecasts(series, train_length=12, forecast_horizon=1, verbose=True, retrain=True, last_points_only=True)\n",
        "\n",
        "series.plot(label=\"data\")\n",
        "historical_fcast.plot(label=\"backtest 3-months ahead forecast (Theta)\")\n",
        "print(\"MAPE = {:.2f}%\".format(mape(historical_fcast, series)))"
      ],
      "metadata": {
        "colab": {
          "base_uri": "https://localhost:8080/",
          "height": 521
        },
        "id": "ahuaEbJpOb9f",
        "outputId": "e0e0d233-01fd-4a1a-a4e7-4271cfd7b911"
      },
      "execution_count": 105,
      "outputs": [
        {
          "output_type": "stream",
          "name": "stderr",
          "text": [
            "100%|██████████| 43/43 [00:00<00:00, 48.79it/s]\n"
          ]
        },
        {
          "output_type": "stream",
          "name": "stdout",
          "text": [
            "MAPE = 157.37%\n"
          ]
        },
        {
          "output_type": "display_data",
          "data": {
            "text/plain": [
              "<Figure size 640x480 with 1 Axes>"
            ],
            "image/png": "[encoded data removed]"
          },
          "metadata": {}
        }
      ]
    },
    {
      "cell_type": "code",
      "execution_count": null,
      "metadata": {
        "id": "-v1HJtQeK1QF"
      },
      "outputs": [],
      "source": [
        "########################\n",
        "# RUN TIMEGPT HIERARCHICAL\n",
        "########################\n",
        "# #split train/test sets\n",
        "# Y_test_df  = Y_hier_df.groupby('unique_id').tail(fct_periods)\n",
        "# Y_train_df = Y_hier_df.drop(Y_test_df.index)\n",
        "\n",
        "# timegpt = TimeGPT(\n",
        "#     # defaults to os.environ.get(\"TIMEGPT_TOKEN\")\n",
        "#     token = 'CgM6BBwvTfRrFetlmNCxZzRUAmSRCXndbU1CQJhPryVhgxWp0WgIDIpV9xagvCbg4ZH3TqG012wKMGNs8L7voLeNiydi5U6nFZtnu1P3VJrqECHKzZxCyef8FwNroHEkHM9vR5ltTGAFYW7bOgiiBRzjrdzgk2FIJFsLpXAP9GgMGqa0dVd8it3zbWQ9d02T7JBf9ikAPZyy1bIU206eQZV1Zdd1Rsd9a0PMjUyWxlgg0mckf59d7lwDhzGVBUpd'\n",
        "# )\n",
        "# tgpt = timegpt.forecast(Y_train_df, h=fct_periods, freq='MS', time_col='ds', target_col='y', level=[80, 90])\n",
        "\n",
        "# # Create hierarchical forecast\n",
        "# tgpt_h = tgpt.set_index('unique_id')\n",
        "# tgpt_h = tgpt_h[['ds', 'TimeGPT']]\n",
        "\n",
        "# # Reconcile the base predictions\n",
        "# reconcilers = [\n",
        "#     TopDown(method='forecast_proportions')\n",
        "#     # OptimalCombination(method = 'ols', nonnegative=True)\n",
        "#     # BottomUp()\n",
        "#     # ERM(method='closed')\n",
        "# ]\n",
        "\n",
        "# hrec = HierarchicalReconciliation(reconcilers=reconcilers)\n",
        "# Y_rec_df_tgpt = hrec.reconcile(Y_hat_df=tgpt_h, Y_df=Y_train_df,\n",
        "#                           S=S_df, tags=tags)\n",
        "\n",
        "# # Reset Index and columns\n",
        "# Y_rec_df_tgpt = Y_rec_df_tgpt.reset_index()\n",
        "# Y_rec_df_tgpt.columns = ['unique_id', 'ds', 'TGPT','TGPT_H']\n",
        "\n",
        "# Save data\n",
        "# Y_rec_df_tgpt.to_csv('/content/drive/MyDrive/Colab Notebooks/Revenue Prediction/data/tgpt_results.csv', index=False)"
      ]
    },
    {
      "cell_type": "code",
      "source": [
        "########################\n",
        "# FEATURE ENGINEERING\n",
        "########################\n",
        "import pandas as pd\n",
        "from darts import TimeSeries\n",
        "from darts.models import RegressionModel\n",
        "from darts.dataprocessing.transformers import Scaler\n",
        "from lightgbm import LGBMRegressor\n",
        "from darts.models import LightGBMModel\n",
        "from darts import concatenate\n",
        "from sklearn.preprocessing import LabelEncoder\n",
        "\n",
        "# Feature Engineering\n",
        "inputFile = '/content/drive/MyDrive/Colab Notebooks/Revenue Prediction/data/volume_output.csv'\n",
        "features = pd.read_csv(inputFile)\n",
        "\n",
        "inputFile = '/content/drive/MyDrive/Colab Notebooks/Revenue Prediction/data/price_output.csv'\n",
        "price = pd.read_csv(inputFile)\n",
        "\n",
        "inputFile = '/content/drive/MyDrive/Colab Notebooks/SGA Prediction/data/sga_output.csv'\n",
        "sga = pd.read_csv(inputFile)\n",
        "\n",
        "import pandas as pd\n",
        "\n",
        "def prepare_feature(data, r_hier, volume_act2, feature_name):\n",
        "\n",
        "    # Select and rename columns\n",
        "    data = data[['cost_object', 'product', 'ds', feature_name]].rename(columns={feature_name: 'y'})\n",
        "\n",
        "    # Apply any additional preparation (assuming prepare_data is a function you have defined)\n",
        "    data = prepare_data(data, r_hier)\n",
        "\n",
        "    # Rename the columns back\n",
        "    data = data.rename(columns={'y': feature_name})\n",
        "\n",
        "    # Merge with the volume_act2 dataframe\n",
        "    merged_df = data.merge(volume_act2[['unique_id', 'ds']], how='right', on=['unique_id', 'ds'])\n",
        "\n",
        "    return merged_df\n",
        "\n",
        "\n",
        "sga1 = prepare_feature(sga, r_hier, volume_act2, 'AP')\n",
        "sga2 = prepare_feature(sga, r_hier, volume_act2, 'Field_Sales')\n",
        "sga3 = prepare_feature(sga, r_hier, volume_act2, 'Smoothed_AP')\n",
        "sga4 = prepare_feature(sga, r_hier, volume_act2, 'Smoothed_Field_Sales')\n",
        "\n",
        "price1 = prepare_feature(price, r_hier, volume_act2, 'Price')\n",
        "price2 = prepare_feature(price, r_hier, volume_act2, 'Smoothed_Price')\n",
        "\n",
        "\n",
        "features = features[['cost_object', 'product', 'ds', 'value']]\n",
        "features.rename(columns={'value': 'y'}, inplace=True)\n",
        "features = prepare_data(features, r_hier)\n",
        "features = features.merge(volume_act2[['unique_id', 'ds']], how='right', on=['unique_id', 'ds'])\n",
        "\n",
        "# Encoding 'cost_object' and 'product'\n",
        "label_encoder = LabelEncoder()\n",
        "features['region'] = label_encoder.fit_transform(features['level2'])\n",
        "features['cost_object'] = label_encoder.fit_transform(features['level3'])\n",
        "features['product'] = label_encoder.fit_transform(features['bottom_level'])\n",
        "features = features[['unique_id', 'ds', 'region', 'cost_object', 'product', 'top_level']]"
      ],
      "metadata": {
        "id": "yO0oN_OtiNal",
        "colab": {
          "base_uri": "https://localhost:8080/"
        },
        "outputId": "d7882187-c6f7-4bf0-dcab-7d9753c3844f"
      },
      "execution_count": 106,
      "outputs": [
        {
          "output_type": "stream",
          "name": "stderr",
          "text": [
            "<ipython-input-106-ce63a970d11e>:52: SettingWithCopyWarning: \n",
            "A value is trying to be set on a copy of a slice from a DataFrame\n",
            "\n",
            "See the caveats in the documentation: https://pandas.pydata.org/pandas-docs/stable/user_guide/indexing.html#returning-a-view-versus-a-copy\n",
            "  features.rename(columns={'value': 'y'}, inplace=True)\n"
          ]
        }
      ]
    },
    {
      "cell_type": "code",
      "source": [
        "########################\n",
        "# RUN LGBM\n",
        "########################\n",
        "#split train/test sets\n",
        "test_ml = volume_act2.groupby('unique_id').tail(fct_periods)\n",
        "train_ml = volume_act2.drop(test.index)\n",
        "\n",
        "# Define target column\n",
        "target_column = 'y'\n",
        "\n",
        "# Prepare individual time series for each 'unique_id',\n",
        "time_series_dict = {}\n",
        "for uid in train_ml['unique_id'].unique():\n",
        "    df = train_ml[train_ml['unique_id'] == uid].sort_values('ds')\n",
        "\n",
        "    # Create a TimeSeries object for combined features\n",
        "    combined_df = df[['ds', 'y']]\n",
        "    time_series_dict[uid] = TimeSeries.from_dataframe(combined_df, 'ds', target_column)\n",
        "\n",
        "# Prepare individual time series for dynamic features\n",
        "dynamic_features_dict = {}\n",
        "for uid in sga1['unique_id'].unique():\n",
        "    df1 = sga1[sga1['unique_id'] == uid].sort_values('ds')\n",
        "    df2 = sga2[sga2['unique_id'] == uid].sort_values('ds')\n",
        "    df3 = sga3[sga3['unique_id'] == uid].sort_values('ds')\n",
        "    df4 = sga4[sga4['unique_id'] == uid].sort_values('ds')\n",
        "    df5 = price1[price1['unique_id'] == uid].sort_values('ds')\n",
        "    df6 = price2[price2['unique_id'] == uid].sort_values('ds')\n",
        "\n",
        "    # Create a TimeSeries object for features\n",
        "    ts1 = TimeSeries.from_dataframe(df1[['ds', 'AP']], 'ds', 'AP')\n",
        "    ts2 = TimeSeries.from_dataframe(df2[['ds', 'Field_Sales']], 'ds', 'Field_Sales')\n",
        "    ts3 = TimeSeries.from_dataframe(df3[['ds', 'Smoothed_AP']], 'ds', 'Smoothed_AP')\n",
        "    ts4 = TimeSeries.from_dataframe(df4[['ds', 'Smoothed_Field_Sales']], 'ds', 'Smoothed_Field_Sales')\n",
        "    ts5 = TimeSeries.from_dataframe(df5[['ds', 'Price']], 'ds', 'Price')\n",
        "    ts6 = TimeSeries.from_dataframe(df6[['ds', 'Smoothed_Price']], 'ds', 'Smoothed_Price')\n",
        "\n",
        "    # Concatenate the two TimeSeries along the feature axis (axis=1)\n",
        "    combined_ts = concatenate([ts1, ts2, ts3, ts6], axis=1)\n",
        "    # combined_ts = concatenate([ts3], axis=1)\n",
        "\n",
        "    # Store the combined TimeSeries in the dictionary\n",
        "    dynamic_features_dict[uid] = combined_ts\n",
        "\n",
        "\n",
        "\n",
        "# Create and train a regression model for each time series\n",
        "models = {}\n",
        "scalers = {}\n",
        "forecasts = {}\n",
        "for uid, ts_combined in time_series_dict.items():\n",
        "    # Scale the combined series\n",
        "    scaler = Scaler()\n",
        "    ts_combined_transformed = scaler.fit_transform(ts_combined)\n",
        "    scalers[uid] = scaler  # Store scaler for later inverse transformation\n",
        "\n",
        "    # Initialize and fit your LightGBM model\n",
        "    model = LightGBMModel(lags=len(ts_combined) // 2, output_chunk_length=1, verbose=-1, lags_past_covariates=12)\n",
        "    model.fit(series=ts_combined_transformed, past_covariates=dynamic_features_dict[uid])\n",
        "\n",
        "    # model = LightGBMModel(lags=len(ts_combined) // 2, output_chunk_length=1, verbose=-1)\n",
        "    # model.fit(series=ts_combined_transformed)\n",
        "\n",
        "    models[uid] = model\n",
        "\n",
        "    # Generate forecasts\n",
        "    forecast = model.predict(n=fct_periods, series=ts_combined_transformed)\n",
        "    forecasts[uid] = scalers[uid].inverse_transform(forecast)  # Inverse transform to get back to original scale\n",
        "\n",
        "\n",
        "# Convert forecasts to df\n",
        "lgbm_fct = convert_fct2df(forecasts)\n",
        "\n",
        "# Update micafungin sodium\n",
        "mic_sod_ids = volume_act2[volume_act2['bottom_level']=='MICAFUNGIN - Micafungin Sodium']['unique_id'].unique().tolist()\n",
        "lgbm_fct.loc[(lgbm_fct['unique_id'].isin(mic_sod_ids)) & (lgbm_fct['ds'] > '2023-06-01'), 'y'] = 0\n",
        "lgbm_fct.head()"
      ],
      "metadata": {
        "colab": {
          "base_uri": "https://localhost:8080/",
          "height": 1000
        },
        "id": "oSs2smoyzYg3",
        "outputId": "a727f70f-8395-4fc2-a548-2722271d3aa5"
      },
      "execution_count": 114,
      "outputs": [
        {
          "output_type": "stream",
          "name": "stderr",
          "text": [
            "WARNING:darts.models.forecasting.forecasting_model:`predict()` was called with `n > output_chunk_length`: using auto-regression to forecast the values after `output_chunk_length` points. The model will access `(n - output_chunk_length)` future values of your `past_covariates` (relative to the first predicted time step). To hide this warning, set `show_warnings=False`.\n",
            "WARNING:darts.models.forecasting.forecasting_model:`predict()` was called with `n > output_chunk_length`: using auto-regression to forecast the values after `output_chunk_length` points. The model will access `(n - output_chunk_length)` future values of your `past_covariates` (relative to the first predicted time step). To hide this warning, set `show_warnings=False`.\n",
            "WARNING:darts.models.forecasting.forecasting_model:`predict()` was called with `n > output_chunk_length`: using auto-regression to forecast the values after `output_chunk_length` points. The model will access `(n - output_chunk_length)` future values of your `past_covariates` (relative to the first predicted time step). To hide this warning, set `show_warnings=False`.\n",
            "WARNING:darts.models.forecasting.forecasting_model:`predict()` was called with `n > output_chunk_length`: using auto-regression to forecast the values after `output_chunk_length` points. The model will access `(n - output_chunk_length)` future values of your `past_covariates` (relative to the first predicted time step). To hide this warning, set `show_warnings=False`.\n",
            "WARNING:darts.models.forecasting.forecasting_model:`predict()` was called with `n > output_chunk_length`: using auto-regression to forecast the values after `output_chunk_length` points. The model will access `(n - output_chunk_length)` future values of your `past_covariates` (relative to the first predicted time step). To hide this warning, set `show_warnings=False`.\n",
            "WARNING:darts.models.forecasting.forecasting_model:`predict()` was called with `n > output_chunk_length`: using auto-regression to forecast the values after `output_chunk_length` points. The model will access `(n - output_chunk_length)` future values of your `past_covariates` (relative to the first predicted time step). To hide this warning, set `show_warnings=False`.\n",
            "WARNING:darts.models.forecasting.forecasting_model:`predict()` was called with `n > output_chunk_length`: using auto-regression to forecast the values after `output_chunk_length` points. The model will access `(n - output_chunk_length)` future values of your `past_covariates` (relative to the first predicted time step). To hide this warning, set `show_warnings=False`.\n",
            "WARNING:darts.models.forecasting.forecasting_model:`predict()` was called with `n > output_chunk_length`: using auto-regression to forecast the values after `output_chunk_length` points. The model will access `(n - output_chunk_length)` future values of your `past_covariates` (relative to the first predicted time step). To hide this warning, set `show_warnings=False`.\n",
            "WARNING:darts.models.forecasting.forecasting_model:`predict()` was called with `n > output_chunk_length`: using auto-regression to forecast the values after `output_chunk_length` points. The model will access `(n - output_chunk_length)` future values of your `past_covariates` (relative to the first predicted time step). To hide this warning, set `show_warnings=False`.\n",
            "WARNING:darts.models.forecasting.forecasting_model:`predict()` was called with `n > output_chunk_length`: using auto-regression to forecast the values after `output_chunk_length` points. The model will access `(n - output_chunk_length)` future values of your `past_covariates` (relative to the first predicted time step). To hide this warning, set `show_warnings=False`.\n",
            "WARNING:darts.models.forecasting.forecasting_model:`predict()` was called with `n > output_chunk_length`: using auto-regression to forecast the values after `output_chunk_length` points. The model will access `(n - output_chunk_length)` future values of your `past_covariates` (relative to the first predicted time step). To hide this warning, set `show_warnings=False`.\n",
            "WARNING:darts.models.forecasting.forecasting_model:`predict()` was called with `n > output_chunk_length`: using auto-regression to forecast the values after `output_chunk_length` points. The model will access `(n - output_chunk_length)` future values of your `past_covariates` (relative to the first predicted time step). To hide this warning, set `show_warnings=False`.\n",
            "WARNING:darts.models.forecasting.forecasting_model:`predict()` was called with `n > output_chunk_length`: using auto-regression to forecast the values after `output_chunk_length` points. The model will access `(n - output_chunk_length)` future values of your `past_covariates` (relative to the first predicted time step). To hide this warning, set `show_warnings=False`.\n",
            "WARNING:darts.models.forecasting.forecasting_model:`predict()` was called with `n > output_chunk_length`: using auto-regression to forecast the values after `output_chunk_length` points. The model will access `(n - output_chunk_length)` future values of your `past_covariates` (relative to the first predicted time step). To hide this warning, set `show_warnings=False`.\n",
            "WARNING:darts.models.forecasting.forecasting_model:`predict()` was called with `n > output_chunk_length`: using auto-regression to forecast the values after `output_chunk_length` points. The model will access `(n - output_chunk_length)` future values of your `past_covariates` (relative to the first predicted time step). To hide this warning, set `show_warnings=False`.\n",
            "WARNING:darts.models.forecasting.forecasting_model:`predict()` was called with `n > output_chunk_length`: using auto-regression to forecast the values after `output_chunk_length` points. The model will access `(n - output_chunk_length)` future values of your `past_covariates` (relative to the first predicted time step). To hide this warning, set `show_warnings=False`.\n",
            "WARNING:darts.models.forecasting.forecasting_model:`predict()` was called with `n > output_chunk_length`: using auto-regression to forecast the values after `output_chunk_length` points. The model will access `(n - output_chunk_length)` future values of your `past_covariates` (relative to the first predicted time step). To hide this warning, set `show_warnings=False`.\n",
            "WARNING:darts.models.forecasting.forecasting_model:`predict()` was called with `n > output_chunk_length`: using auto-regression to forecast the values after `output_chunk_length` points. The model will access `(n - output_chunk_length)` future values of your `past_covariates` (relative to the first predicted time step). To hide this warning, set `show_warnings=False`.\n",
            "WARNING:darts.models.forecasting.forecasting_model:`predict()` was called with `n > output_chunk_length`: using auto-regression to forecast the values after `output_chunk_length` points. The model will access `(n - output_chunk_length)` future values of your `past_covariates` (relative to the first predicted time step). To hide this warning, set `show_warnings=False`.\n",
            "WARNING:darts.models.forecasting.forecasting_model:`predict()` was called with `n > output_chunk_length`: using auto-regression to forecast the values after `output_chunk_length` points. The model will access `(n - output_chunk_length)` future values of your `past_covariates` (relative to the first predicted time step). To hide this warning, set `show_warnings=False`.\n",
            "WARNING:darts.models.forecasting.forecasting_model:`predict()` was called with `n > output_chunk_length`: using auto-regression to forecast the values after `output_chunk_length` points. The model will access `(n - output_chunk_length)` future values of your `past_covariates` (relative to the first predicted time step). To hide this warning, set `show_warnings=False`.\n",
            "WARNING:darts.models.forecasting.forecasting_model:`predict()` was called with `n > output_chunk_length`: using auto-regression to forecast the values after `output_chunk_length` points. The model will access `(n - output_chunk_length)` future values of your `past_covariates` (relative to the first predicted time step). To hide this warning, set `show_warnings=False`.\n",
            "WARNING:darts.models.forecasting.forecasting_model:`predict()` was called with `n > output_chunk_length`: using auto-regression to forecast the values after `output_chunk_length` points. The model will access `(n - output_chunk_length)` future values of your `past_covariates` (relative to the first predicted time step). To hide this warning, set `show_warnings=False`.\n",
            "WARNING:darts.models.forecasting.forecasting_model:`predict()` was called with `n > output_chunk_length`: using auto-regression to forecast the values after `output_chunk_length` points. The model will access `(n - output_chunk_length)` future values of your `past_covariates` (relative to the first predicted time step). To hide this warning, set `show_warnings=False`.\n",
            "WARNING:darts.models.forecasting.forecasting_model:`predict()` was called with `n > output_chunk_length`: using auto-regression to forecast the values after `output_chunk_length` points. The model will access `(n - output_chunk_length)` future values of your `past_covariates` (relative to the first predicted time step). To hide this warning, set `show_warnings=False`.\n",
            "WARNING:darts.models.forecasting.forecasting_model:`predict()` was called with `n > output_chunk_length`: using auto-regression to forecast the values after `output_chunk_length` points. The model will access `(n - output_chunk_length)` future values of your `past_covariates` (relative to the first predicted time step). To hide this warning, set `show_warnings=False`.\n",
            "WARNING:darts.models.forecasting.forecasting_model:`predict()` was called with `n > output_chunk_length`: using auto-regression to forecast the values after `output_chunk_length` points. The model will access `(n - output_chunk_length)` future values of your `past_covariates` (relative to the first predicted time step). To hide this warning, set `show_warnings=False`.\n",
            "WARNING:darts.models.forecasting.forecasting_model:`predict()` was called with `n > output_chunk_length`: using auto-regression to forecast the values after `output_chunk_length` points. The model will access `(n - output_chunk_length)` future values of your `past_covariates` (relative to the first predicted time step). To hide this warning, set `show_warnings=False`.\n",
            "WARNING:darts.models.forecasting.forecasting_model:`predict()` was called with `n > output_chunk_length`: using auto-regression to forecast the values after `output_chunk_length` points. The model will access `(n - output_chunk_length)` future values of your `past_covariates` (relative to the first predicted time step). To hide this warning, set `show_warnings=False`.\n",
            "WARNING:darts.models.forecasting.forecasting_model:`predict()` was called with `n > output_chunk_length`: using auto-regression to forecast the values after `output_chunk_length` points. The model will access `(n - output_chunk_length)` future values of your `past_covariates` (relative to the first predicted time step). To hide this warning, set `show_warnings=False`.\n",
            "WARNING:darts.models.forecasting.forecasting_model:`predict()` was called with `n > output_chunk_length`: using auto-regression to forecast the values after `output_chunk_length` points. The model will access `(n - output_chunk_length)` future values of your `past_covariates` (relative to the first predicted time step). To hide this warning, set `show_warnings=False`.\n",
            "WARNING:darts.models.forecasting.forecasting_model:`predict()` was called with `n > output_chunk_length`: using auto-regression to forecast the values after `output_chunk_length` points. The model will access `(n - output_chunk_length)` future values of your `past_covariates` (relative to the first predicted time step). To hide this warning, set `show_warnings=False`.\n",
            "WARNING:darts.models.forecasting.forecasting_model:`predict()` was called with `n > output_chunk_length`: using auto-regression to forecast the values after `output_chunk_length` points. The model will access `(n - output_chunk_length)` future values of your `past_covariates` (relative to the first predicted time step). To hide this warning, set `show_warnings=False`.\n",
            "WARNING:darts.models.forecasting.forecasting_model:`predict()` was called with `n > output_chunk_length`: using auto-regression to forecast the values after `output_chunk_length` points. The model will access `(n - output_chunk_length)` future values of your `past_covariates` (relative to the first predicted time step). To hide this warning, set `show_warnings=False`.\n",
            "WARNING:darts.models.forecasting.forecasting_model:`predict()` was called with `n > output_chunk_length`: using auto-regression to forecast the values after `output_chunk_length` points. The model will access `(n - output_chunk_length)` future values of your `past_covariates` (relative to the first predicted time step). To hide this warning, set `show_warnings=False`.\n",
            "WARNING:darts.models.forecasting.forecasting_model:`predict()` was called with `n > output_chunk_length`: using auto-regression to forecast the values after `output_chunk_length` points. The model will access `(n - output_chunk_length)` future values of your `past_covariates` (relative to the first predicted time step). To hide this warning, set `show_warnings=False`.\n",
            "WARNING:darts.models.forecasting.forecasting_model:`predict()` was called with `n > output_chunk_length`: using auto-regression to forecast the values after `output_chunk_length` points. The model will access `(n - output_chunk_length)` future values of your `past_covariates` (relative to the first predicted time step). To hide this warning, set `show_warnings=False`.\n",
            "WARNING:darts.models.forecasting.forecasting_model:`predict()` was called with `n > output_chunk_length`: using auto-regression to forecast the values after `output_chunk_length` points. The model will access `(n - output_chunk_length)` future values of your `past_covariates` (relative to the first predicted time step). To hide this warning, set `show_warnings=False`.\n",
            "WARNING:darts.models.forecasting.forecasting_model:`predict()` was called with `n > output_chunk_length`: using auto-regression to forecast the values after `output_chunk_length` points. The model will access `(n - output_chunk_length)` future values of your `past_covariates` (relative to the first predicted time step). To hide this warning, set `show_warnings=False`.\n",
            "WARNING:darts.models.forecasting.forecasting_model:`predict()` was called with `n > output_chunk_length`: using auto-regression to forecast the values after `output_chunk_length` points. The model will access `(n - output_chunk_length)` future values of your `past_covariates` (relative to the first predicted time step). To hide this warning, set `show_warnings=False`.\n",
            "WARNING:darts.models.forecasting.forecasting_model:`predict()` was called with `n > output_chunk_length`: using auto-regression to forecast the values after `output_chunk_length` points. The model will access `(n - output_chunk_length)` future values of your `past_covariates` (relative to the first predicted time step). To hide this warning, set `show_warnings=False`.\n",
            "WARNING:darts.models.forecasting.forecasting_model:`predict()` was called with `n > output_chunk_length`: using auto-regression to forecast the values after `output_chunk_length` points. The model will access `(n - output_chunk_length)` future values of your `past_covariates` (relative to the first predicted time step). To hide this warning, set `show_warnings=False`.\n",
            "WARNING:darts.models.forecasting.forecasting_model:`predict()` was called with `n > output_chunk_length`: using auto-regression to forecast the values after `output_chunk_length` points. The model will access `(n - output_chunk_length)` future values of your `past_covariates` (relative to the first predicted time step). To hide this warning, set `show_warnings=False`.\n",
            "WARNING:darts.models.forecasting.forecasting_model:`predict()` was called with `n > output_chunk_length`: using auto-regression to forecast the values after `output_chunk_length` points. The model will access `(n - output_chunk_length)` future values of your `past_covariates` (relative to the first predicted time step). To hide this warning, set `show_warnings=False`.\n",
            "WARNING:darts.models.forecasting.forecasting_model:`predict()` was called with `n > output_chunk_length`: using auto-regression to forecast the values after `output_chunk_length` points. The model will access `(n - output_chunk_length)` future values of your `past_covariates` (relative to the first predicted time step). To hide this warning, set `show_warnings=False`.\n",
            "WARNING:darts.models.forecasting.forecasting_model:`predict()` was called with `n > output_chunk_length`: using auto-regression to forecast the values after `output_chunk_length` points. The model will access `(n - output_chunk_length)` future values of your `past_covariates` (relative to the first predicted time step). To hide this warning, set `show_warnings=False`.\n",
            "WARNING:darts.models.forecasting.forecasting_model:`predict()` was called with `n > output_chunk_length`: using auto-regression to forecast the values after `output_chunk_length` points. The model will access `(n - output_chunk_length)` future values of your `past_covariates` (relative to the first predicted time step). To hide this warning, set `show_warnings=False`.\n",
            "WARNING:darts.models.forecasting.forecasting_model:`predict()` was called with `n > output_chunk_length`: using auto-regression to forecast the values after `output_chunk_length` points. The model will access `(n - output_chunk_length)` future values of your `past_covariates` (relative to the first predicted time step). To hide this warning, set `show_warnings=False`.\n",
            "WARNING:darts.models.forecasting.forecasting_model:`predict()` was called with `n > output_chunk_length`: using auto-regression to forecast the values after `output_chunk_length` points. The model will access `(n - output_chunk_length)` future values of your `past_covariates` (relative to the first predicted time step). To hide this warning, set `show_warnings=False`.\n",
            "WARNING:darts.models.forecasting.forecasting_model:`predict()` was called with `n > output_chunk_length`: using auto-regression to forecast the values after `output_chunk_length` points. The model will access `(n - output_chunk_length)` future values of your `past_covariates` (relative to the first predicted time step). To hide this warning, set `show_warnings=False`.\n",
            "WARNING:darts.models.forecasting.forecasting_model:`predict()` was called with `n > output_chunk_length`: using auto-regression to forecast the values after `output_chunk_length` points. The model will access `(n - output_chunk_length)` future values of your `past_covariates` (relative to the first predicted time step). To hide this warning, set `show_warnings=False`.\n",
            "WARNING:darts.models.forecasting.forecasting_model:`predict()` was called with `n > output_chunk_length`: using auto-regression to forecast the values after `output_chunk_length` points. The model will access `(n - output_chunk_length)` future values of your `past_covariates` (relative to the first predicted time step). To hide this warning, set `show_warnings=False`.\n",
            "WARNING:darts.models.forecasting.forecasting_model:`predict()` was called with `n > output_chunk_length`: using auto-regression to forecast the values after `output_chunk_length` points. The model will access `(n - output_chunk_length)` future values of your `past_covariates` (relative to the first predicted time step). To hide this warning, set `show_warnings=False`.\n",
            "WARNING:darts.models.forecasting.forecasting_model:`predict()` was called with `n > output_chunk_length`: using auto-regression to forecast the values after `output_chunk_length` points. The model will access `(n - output_chunk_length)` future values of your `past_covariates` (relative to the first predicted time step). To hide this warning, set `show_warnings=False`.\n",
            "WARNING:darts.models.forecasting.forecasting_model:`predict()` was called with `n > output_chunk_length`: using auto-regression to forecast the values after `output_chunk_length` points. The model will access `(n - output_chunk_length)` future values of your `past_covariates` (relative to the first predicted time step). To hide this warning, set `show_warnings=False`.\n",
            "WARNING:darts.models.forecasting.forecasting_model:`predict()` was called with `n > output_chunk_length`: using auto-regression to forecast the values after `output_chunk_length` points. The model will access `(n - output_chunk_length)` future values of your `past_covariates` (relative to the first predicted time step). To hide this warning, set `show_warnings=False`.\n",
            "WARNING:darts.models.forecasting.forecasting_model:`predict()` was called with `n > output_chunk_length`: using auto-regression to forecast the values after `output_chunk_length` points. The model will access `(n - output_chunk_length)` future values of your `past_covariates` (relative to the first predicted time step). To hide this warning, set `show_warnings=False`.\n",
            "WARNING:darts.models.forecasting.forecasting_model:`predict()` was called with `n > output_chunk_length`: using auto-regression to forecast the values after `output_chunk_length` points. The model will access `(n - output_chunk_length)` future values of your `past_covariates` (relative to the first predicted time step). To hide this warning, set `show_warnings=False`.\n",
            "WARNING:darts.models.forecasting.forecasting_model:`predict()` was called with `n > output_chunk_length`: using auto-regression to forecast the values after `output_chunk_length` points. The model will access `(n - output_chunk_length)` future values of your `past_covariates` (relative to the first predicted time step). To hide this warning, set `show_warnings=False`.\n",
            "WARNING:darts.models.forecasting.forecasting_model:`predict()` was called with `n > output_chunk_length`: using auto-regression to forecast the values after `output_chunk_length` points. The model will access `(n - output_chunk_length)` future values of your `past_covariates` (relative to the first predicted time step). To hide this warning, set `show_warnings=False`.\n",
            "WARNING:darts.models.forecasting.forecasting_model:`predict()` was called with `n > output_chunk_length`: using auto-regression to forecast the values after `output_chunk_length` points. The model will access `(n - output_chunk_length)` future values of your `past_covariates` (relative to the first predicted time step). To hide this warning, set `show_warnings=False`.\n",
            "WARNING:darts.models.forecasting.forecasting_model:`predict()` was called with `n > output_chunk_length`: using auto-regression to forecast the values after `output_chunk_length` points. The model will access `(n - output_chunk_length)` future values of your `past_covariates` (relative to the first predicted time step). To hide this warning, set `show_warnings=False`.\n",
            "WARNING:darts.models.forecasting.forecasting_model:`predict()` was called with `n > output_chunk_length`: using auto-regression to forecast the values after `output_chunk_length` points. The model will access `(n - output_chunk_length)` future values of your `past_covariates` (relative to the first predicted time step). To hide this warning, set `show_warnings=False`.\n",
            "WARNING:darts.models.forecasting.forecasting_model:`predict()` was called with `n > output_chunk_length`: using auto-regression to forecast the values after `output_chunk_length` points. The model will access `(n - output_chunk_length)` future values of your `past_covariates` (relative to the first predicted time step). To hide this warning, set `show_warnings=False`.\n",
            "WARNING:darts.models.forecasting.forecasting_model:`predict()` was called with `n > output_chunk_length`: using auto-regression to forecast the values after `output_chunk_length` points. The model will access `(n - output_chunk_length)` future values of your `past_covariates` (relative to the first predicted time step). To hide this warning, set `show_warnings=False`.\n",
            "WARNING:darts.models.forecasting.forecasting_model:`predict()` was called with `n > output_chunk_length`: using auto-regression to forecast the values after `output_chunk_length` points. The model will access `(n - output_chunk_length)` future values of your `past_covariates` (relative to the first predicted time step). To hide this warning, set `show_warnings=False`.\n",
            "WARNING:darts.models.forecasting.forecasting_model:`predict()` was called with `n > output_chunk_length`: using auto-regression to forecast the values after `output_chunk_length` points. The model will access `(n - output_chunk_length)` future values of your `past_covariates` (relative to the first predicted time step). To hide this warning, set `show_warnings=False`.\n",
            "WARNING:darts.models.forecasting.forecasting_model:`predict()` was called with `n > output_chunk_length`: using auto-regression to forecast the values after `output_chunk_length` points. The model will access `(n - output_chunk_length)` future values of your `past_covariates` (relative to the first predicted time step). To hide this warning, set `show_warnings=False`.\n",
            "WARNING:darts.models.forecasting.forecasting_model:`predict()` was called with `n > output_chunk_length`: using auto-regression to forecast the values after `output_chunk_length` points. The model will access `(n - output_chunk_length)` future values of your `past_covariates` (relative to the first predicted time step). To hide this warning, set `show_warnings=False`.\n",
            "WARNING:darts.models.forecasting.forecasting_model:`predict()` was called with `n > output_chunk_length`: using auto-regression to forecast the values after `output_chunk_length` points. The model will access `(n - output_chunk_length)` future values of your `past_covariates` (relative to the first predicted time step). To hide this warning, set `show_warnings=False`.\n",
            "WARNING:darts.models.forecasting.forecasting_model:`predict()` was called with `n > output_chunk_length`: using auto-regression to forecast the values after `output_chunk_length` points. The model will access `(n - output_chunk_length)` future values of your `past_covariates` (relative to the first predicted time step). To hide this warning, set `show_warnings=False`.\n",
            "WARNING:darts.models.forecasting.forecasting_model:`predict()` was called with `n > output_chunk_length`: using auto-regression to forecast the values after `output_chunk_length` points. The model will access `(n - output_chunk_length)` future values of your `past_covariates` (relative to the first predicted time step). To hide this warning, set `show_warnings=False`.\n",
            "WARNING:darts.models.forecasting.forecasting_model:`predict()` was called with `n > output_chunk_length`: using auto-regression to forecast the values after `output_chunk_length` points. The model will access `(n - output_chunk_length)` future values of your `past_covariates` (relative to the first predicted time step). To hide this warning, set `show_warnings=False`.\n",
            "WARNING:darts.models.forecasting.forecasting_model:`predict()` was called with `n > output_chunk_length`: using auto-regression to forecast the values after `output_chunk_length` points. The model will access `(n - output_chunk_length)` future values of your `past_covariates` (relative to the first predicted time step). To hide this warning, set `show_warnings=False`.\n",
            "WARNING:darts.models.forecasting.forecasting_model:`predict()` was called with `n > output_chunk_length`: using auto-regression to forecast the values after `output_chunk_length` points. The model will access `(n - output_chunk_length)` future values of your `past_covariates` (relative to the first predicted time step). To hide this warning, set `show_warnings=False`.\n",
            "WARNING:darts.models.forecasting.forecasting_model:`predict()` was called with `n > output_chunk_length`: using auto-regression to forecast the values after `output_chunk_length` points. The model will access `(n - output_chunk_length)` future values of your `past_covariates` (relative to the first predicted time step). To hide this warning, set `show_warnings=False`.\n",
            "WARNING:darts.models.forecasting.forecasting_model:`predict()` was called with `n > output_chunk_length`: using auto-regression to forecast the values after `output_chunk_length` points. The model will access `(n - output_chunk_length)` future values of your `past_covariates` (relative to the first predicted time step). To hide this warning, set `show_warnings=False`.\n",
            "WARNING:darts.models.forecasting.forecasting_model:`predict()` was called with `n > output_chunk_length`: using auto-regression to forecast the values after `output_chunk_length` points. The model will access `(n - output_chunk_length)` future values of your `past_covariates` (relative to the first predicted time step). To hide this warning, set `show_warnings=False`.\n",
            "WARNING:darts.models.forecasting.forecasting_model:`predict()` was called with `n > output_chunk_length`: using auto-regression to forecast the values after `output_chunk_length` points. The model will access `(n - output_chunk_length)` future values of your `past_covariates` (relative to the first predicted time step). To hide this warning, set `show_warnings=False`.\n",
            "WARNING:darts.models.forecasting.forecasting_model:`predict()` was called with `n > output_chunk_length`: using auto-regression to forecast the values after `output_chunk_length` points. The model will access `(n - output_chunk_length)` future values of your `past_covariates` (relative to the first predicted time step). To hide this warning, set `show_warnings=False`.\n",
            "WARNING:darts.models.forecasting.forecasting_model:`predict()` was called with `n > output_chunk_length`: using auto-regression to forecast the values after `output_chunk_length` points. The model will access `(n - output_chunk_length)` future values of your `past_covariates` (relative to the first predicted time step). To hide this warning, set `show_warnings=False`.\n",
            "WARNING:darts.models.forecasting.forecasting_model:`predict()` was called with `n > output_chunk_length`: using auto-regression to forecast the values after `output_chunk_length` points. The model will access `(n - output_chunk_length)` future values of your `past_covariates` (relative to the first predicted time step). To hide this warning, set `show_warnings=False`.\n",
            "WARNING:darts.models.forecasting.forecasting_model:`predict()` was called with `n > output_chunk_length`: using auto-regression to forecast the values after `output_chunk_length` points. The model will access `(n - output_chunk_length)` future values of your `past_covariates` (relative to the first predicted time step). To hide this warning, set `show_warnings=False`.\n",
            "WARNING:darts.models.forecasting.forecasting_model:`predict()` was called with `n > output_chunk_length`: using auto-regression to forecast the values after `output_chunk_length` points. The model will access `(n - output_chunk_length)` future values of your `past_covariates` (relative to the first predicted time step). To hide this warning, set `show_warnings=False`.\n",
            "WARNING:darts.models.forecasting.forecasting_model:`predict()` was called with `n > output_chunk_length`: using auto-regression to forecast the values after `output_chunk_length` points. The model will access `(n - output_chunk_length)` future values of your `past_covariates` (relative to the first predicted time step). To hide this warning, set `show_warnings=False`.\n",
            "WARNING:darts.models.forecasting.forecasting_model:`predict()` was called with `n > output_chunk_length`: using auto-regression to forecast the values after `output_chunk_length` points. The model will access `(n - output_chunk_length)` future values of your `past_covariates` (relative to the first predicted time step). To hide this warning, set `show_warnings=False`.\n",
            "WARNING:darts.models.forecasting.forecasting_model:`predict()` was called with `n > output_chunk_length`: using auto-regression to forecast the values after `output_chunk_length` points. The model will access `(n - output_chunk_length)` future values of your `past_covariates` (relative to the first predicted time step). To hide this warning, set `show_warnings=False`.\n",
            "WARNING:darts.models.forecasting.forecasting_model:`predict()` was called with `n > output_chunk_length`: using auto-regression to forecast the values after `output_chunk_length` points. The model will access `(n - output_chunk_length)` future values of your `past_covariates` (relative to the first predicted time step). To hide this warning, set `show_warnings=False`.\n",
            "WARNING:darts.models.forecasting.forecasting_model:`predict()` was called with `n > output_chunk_length`: using auto-regression to forecast the values after `output_chunk_length` points. The model will access `(n - output_chunk_length)` future values of your `past_covariates` (relative to the first predicted time step). To hide this warning, set `show_warnings=False`.\n",
            "WARNING:darts.models.forecasting.forecasting_model:`predict()` was called with `n > output_chunk_length`: using auto-regression to forecast the values after `output_chunk_length` points. The model will access `(n - output_chunk_length)` future values of your `past_covariates` (relative to the first predicted time step). To hide this warning, set `show_warnings=False`.\n",
            "WARNING:darts.models.forecasting.forecasting_model:`predict()` was called with `n > output_chunk_length`: using auto-regression to forecast the values after `output_chunk_length` points. The model will access `(n - output_chunk_length)` future values of your `past_covariates` (relative to the first predicted time step). To hide this warning, set `show_warnings=False`.\n",
            "WARNING:darts.models.forecasting.forecasting_model:`predict()` was called with `n > output_chunk_length`: using auto-regression to forecast the values after `output_chunk_length` points. The model will access `(n - output_chunk_length)` future values of your `past_covariates` (relative to the first predicted time step). To hide this warning, set `show_warnings=False`.\n",
            "WARNING:darts.models.forecasting.forecasting_model:`predict()` was called with `n > output_chunk_length`: using auto-regression to forecast the values after `output_chunk_length` points. The model will access `(n - output_chunk_length)` future values of your `past_covariates` (relative to the first predicted time step). To hide this warning, set `show_warnings=False`.\n",
            "WARNING:darts.models.forecasting.forecasting_model:`predict()` was called with `n > output_chunk_length`: using auto-regression to forecast the values after `output_chunk_length` points. The model will access `(n - output_chunk_length)` future values of your `past_covariates` (relative to the first predicted time step). To hide this warning, set `show_warnings=False`.\n",
            "WARNING:darts.models.forecasting.forecasting_model:`predict()` was called with `n > output_chunk_length`: using auto-regression to forecast the values after `output_chunk_length` points. The model will access `(n - output_chunk_length)` future values of your `past_covariates` (relative to the first predicted time step). To hide this warning, set `show_warnings=False`.\n",
            "WARNING:darts.models.forecasting.forecasting_model:`predict()` was called with `n > output_chunk_length`: using auto-regression to forecast the values after `output_chunk_length` points. The model will access `(n - output_chunk_length)` future values of your `past_covariates` (relative to the first predicted time step). To hide this warning, set `show_warnings=False`.\n",
            "WARNING:darts.models.forecasting.forecasting_model:`predict()` was called with `n > output_chunk_length`: using auto-regression to forecast the values after `output_chunk_length` points. The model will access `(n - output_chunk_length)` future values of your `past_covariates` (relative to the first predicted time step). To hide this warning, set `show_warnings=False`.\n",
            "WARNING:darts.models.forecasting.forecasting_model:`predict()` was called with `n > output_chunk_length`: using auto-regression to forecast the values after `output_chunk_length` points. The model will access `(n - output_chunk_length)` future values of your `past_covariates` (relative to the first predicted time step). To hide this warning, set `show_warnings=False`.\n",
            "WARNING:darts.models.forecasting.forecasting_model:`predict()` was called with `n > output_chunk_length`: using auto-regression to forecast the values after `output_chunk_length` points. The model will access `(n - output_chunk_length)` future values of your `past_covariates` (relative to the first predicted time step). To hide this warning, set `show_warnings=False`.\n",
            "WARNING:darts.models.forecasting.forecasting_model:`predict()` was called with `n > output_chunk_length`: using auto-regression to forecast the values after `output_chunk_length` points. The model will access `(n - output_chunk_length)` future values of your `past_covariates` (relative to the first predicted time step). To hide this warning, set `show_warnings=False`.\n",
            "WARNING:darts.models.forecasting.forecasting_model:`predict()` was called with `n > output_chunk_length`: using auto-regression to forecast the values after `output_chunk_length` points. The model will access `(n - output_chunk_length)` future values of your `past_covariates` (relative to the first predicted time step). To hide this warning, set `show_warnings=False`.\n",
            "WARNING:darts.models.forecasting.forecasting_model:`predict()` was called with `n > output_chunk_length`: using auto-regression to forecast the values after `output_chunk_length` points. The model will access `(n - output_chunk_length)` future values of your `past_covariates` (relative to the first predicted time step). To hide this warning, set `show_warnings=False`.\n",
            "WARNING:darts.models.forecasting.forecasting_model:`predict()` was called with `n > output_chunk_length`: using auto-regression to forecast the values after `output_chunk_length` points. The model will access `(n - output_chunk_length)` future values of your `past_covariates` (relative to the first predicted time step). To hide this warning, set `show_warnings=False`.\n",
            "WARNING:darts.models.forecasting.forecasting_model:`predict()` was called with `n > output_chunk_length`: using auto-regression to forecast the values after `output_chunk_length` points. The model will access `(n - output_chunk_length)` future values of your `past_covariates` (relative to the first predicted time step). To hide this warning, set `show_warnings=False`.\n",
            "WARNING:darts.models.forecasting.forecasting_model:`predict()` was called with `n > output_chunk_length`: using auto-regression to forecast the values after `output_chunk_length` points. The model will access `(n - output_chunk_length)` future values of your `past_covariates` (relative to the first predicted time step). To hide this warning, set `show_warnings=False`.\n",
            "WARNING:darts.models.forecasting.forecasting_model:`predict()` was called with `n > output_chunk_length`: using auto-regression to forecast the values after `output_chunk_length` points. The model will access `(n - output_chunk_length)` future values of your `past_covariates` (relative to the first predicted time step). To hide this warning, set `show_warnings=False`.\n",
            "WARNING:darts.models.forecasting.forecasting_model:`predict()` was called with `n > output_chunk_length`: using auto-regression to forecast the values after `output_chunk_length` points. The model will access `(n - output_chunk_length)` future values of your `past_covariates` (relative to the first predicted time step). To hide this warning, set `show_warnings=False`.\n",
            "WARNING:darts.models.forecasting.forecasting_model:`predict()` was called with `n > output_chunk_length`: using auto-regression to forecast the values after `output_chunk_length` points. The model will access `(n - output_chunk_length)` future values of your `past_covariates` (relative to the first predicted time step). To hide this warning, set `show_warnings=False`.\n",
            "WARNING:darts.models.forecasting.forecasting_model:`predict()` was called with `n > output_chunk_length`: using auto-regression to forecast the values after `output_chunk_length` points. The model will access `(n - output_chunk_length)` future values of your `past_covariates` (relative to the first predicted time step). To hide this warning, set `show_warnings=False`.\n",
            "WARNING:darts.models.forecasting.forecasting_model:`predict()` was called with `n > output_chunk_length`: using auto-regression to forecast the values after `output_chunk_length` points. The model will access `(n - output_chunk_length)` future values of your `past_covariates` (relative to the first predicted time step). To hide this warning, set `show_warnings=False`.\n",
            "WARNING:darts.models.forecasting.forecasting_model:`predict()` was called with `n > output_chunk_length`: using auto-regression to forecast the values after `output_chunk_length` points. The model will access `(n - output_chunk_length)` future values of your `past_covariates` (relative to the first predicted time step). To hide this warning, set `show_warnings=False`.\n",
            "WARNING:darts.models.forecasting.forecasting_model:`predict()` was called with `n > output_chunk_length`: using auto-regression to forecast the values after `output_chunk_length` points. The model will access `(n - output_chunk_length)` future values of your `past_covariates` (relative to the first predicted time step). To hide this warning, set `show_warnings=False`.\n",
            "WARNING:darts.models.forecasting.forecasting_model:`predict()` was called with `n > output_chunk_length`: using auto-regression to forecast the values after `output_chunk_length` points. The model will access `(n - output_chunk_length)` future values of your `past_covariates` (relative to the first predicted time step). To hide this warning, set `show_warnings=False`.\n",
            "WARNING:darts.models.forecasting.forecasting_model:`predict()` was called with `n > output_chunk_length`: using auto-regression to forecast the values after `output_chunk_length` points. The model will access `(n - output_chunk_length)` future values of your `past_covariates` (relative to the first predicted time step). To hide this warning, set `show_warnings=False`.\n",
            "WARNING:darts.models.forecasting.forecasting_model:`predict()` was called with `n > output_chunk_length`: using auto-regression to forecast the values after `output_chunk_length` points. The model will access `(n - output_chunk_length)` future values of your `past_covariates` (relative to the first predicted time step). To hide this warning, set `show_warnings=False`.\n",
            "WARNING:darts.models.forecasting.forecasting_model:`predict()` was called with `n > output_chunk_length`: using auto-regression to forecast the values after `output_chunk_length` points. The model will access `(n - output_chunk_length)` future values of your `past_covariates` (relative to the first predicted time step). To hide this warning, set `show_warnings=False`.\n",
            "WARNING:darts.models.forecasting.forecasting_model:`predict()` was called with `n > output_chunk_length`: using auto-regression to forecast the values after `output_chunk_length` points. The model will access `(n - output_chunk_length)` future values of your `past_covariates` (relative to the first predicted time step). To hide this warning, set `show_warnings=False`.\n",
            "WARNING:darts.models.forecasting.forecasting_model:`predict()` was called with `n > output_chunk_length`: using auto-regression to forecast the values after `output_chunk_length` points. The model will access `(n - output_chunk_length)` future values of your `past_covariates` (relative to the first predicted time step). To hide this warning, set `show_warnings=False`.\n",
            "WARNING:darts.models.forecasting.forecasting_model:`predict()` was called with `n > output_chunk_length`: using auto-regression to forecast the values after `output_chunk_length` points. The model will access `(n - output_chunk_length)` future values of your `past_covariates` (relative to the first predicted time step). To hide this warning, set `show_warnings=False`.\n",
            "WARNING:darts.models.forecasting.forecasting_model:`predict()` was called with `n > output_chunk_length`: using auto-regression to forecast the values after `output_chunk_length` points. The model will access `(n - output_chunk_length)` future values of your `past_covariates` (relative to the first predicted time step). To hide this warning, set `show_warnings=False`.\n",
            "WARNING:darts.models.forecasting.forecasting_model:`predict()` was called with `n > output_chunk_length`: using auto-regression to forecast the values after `output_chunk_length` points. The model will access `(n - output_chunk_length)` future values of your `past_covariates` (relative to the first predicted time step). To hide this warning, set `show_warnings=False`.\n",
            "WARNING:darts.models.forecasting.forecasting_model:`predict()` was called with `n > output_chunk_length`: using auto-regression to forecast the values after `output_chunk_length` points. The model will access `(n - output_chunk_length)` future values of your `past_covariates` (relative to the first predicted time step). To hide this warning, set `show_warnings=False`.\n",
            "WARNING:darts.models.forecasting.forecasting_model:`predict()` was called with `n > output_chunk_length`: using auto-regression to forecast the values after `output_chunk_length` points. The model will access `(n - output_chunk_length)` future values of your `past_covariates` (relative to the first predicted time step). To hide this warning, set `show_warnings=False`.\n",
            "WARNING:darts.models.forecasting.forecasting_model:`predict()` was called with `n > output_chunk_length`: using auto-regression to forecast the values after `output_chunk_length` points. The model will access `(n - output_chunk_length)` future values of your `past_covariates` (relative to the first predicted time step). To hide this warning, set `show_warnings=False`.\n",
            "WARNING:darts.models.forecasting.forecasting_model:`predict()` was called with `n > output_chunk_length`: using auto-regression to forecast the values after `output_chunk_length` points. The model will access `(n - output_chunk_length)` future values of your `past_covariates` (relative to the first predicted time step). To hide this warning, set `show_warnings=False`.\n",
            "WARNING:darts.models.forecasting.forecasting_model:`predict()` was called with `n > output_chunk_length`: using auto-regression to forecast the values after `output_chunk_length` points. The model will access `(n - output_chunk_length)` future values of your `past_covariates` (relative to the first predicted time step). To hide this warning, set `show_warnings=False`.\n",
            "WARNING:darts.models.forecasting.forecasting_model:`predict()` was called with `n > output_chunk_length`: using auto-regression to forecast the values after `output_chunk_length` points. The model will access `(n - output_chunk_length)` future values of your `past_covariates` (relative to the first predicted time step). To hide this warning, set `show_warnings=False`.\n",
            "WARNING:darts.models.forecasting.forecasting_model:`predict()` was called with `n > output_chunk_length`: using auto-regression to forecast the values after `output_chunk_length` points. The model will access `(n - output_chunk_length)` future values of your `past_covariates` (relative to the first predicted time step). To hide this warning, set `show_warnings=False`.\n",
            "WARNING:darts.models.forecasting.forecasting_model:`predict()` was called with `n > output_chunk_length`: using auto-regression to forecast the values after `output_chunk_length` points. The model will access `(n - output_chunk_length)` future values of your `past_covariates` (relative to the first predicted time step). To hide this warning, set `show_warnings=False`.\n",
            "WARNING:darts.models.forecasting.forecasting_model:`predict()` was called with `n > output_chunk_length`: using auto-regression to forecast the values after `output_chunk_length` points. The model will access `(n - output_chunk_length)` future values of your `past_covariates` (relative to the first predicted time step). To hide this warning, set `show_warnings=False`.\n",
            "WARNING:darts.models.forecasting.forecasting_model:`predict()` was called with `n > output_chunk_length`: using auto-regression to forecast the values after `output_chunk_length` points. The model will access `(n - output_chunk_length)` future values of your `past_covariates` (relative to the first predicted time step). To hide this warning, set `show_warnings=False`.\n",
            "WARNING:darts.models.forecasting.forecasting_model:`predict()` was called with `n > output_chunk_length`: using auto-regression to forecast the values after `output_chunk_length` points. The model will access `(n - output_chunk_length)` future values of your `past_covariates` (relative to the first predicted time step). To hide this warning, set `show_warnings=False`.\n",
            "WARNING:darts.models.forecasting.forecasting_model:`predict()` was called with `n > output_chunk_length`: using auto-regression to forecast the values after `output_chunk_length` points. The model will access `(n - output_chunk_length)` future values of your `past_covariates` (relative to the first predicted time step). To hide this warning, set `show_warnings=False`.\n",
            "WARNING:darts.models.forecasting.forecasting_model:`predict()` was called with `n > output_chunk_length`: using auto-regression to forecast the values after `output_chunk_length` points. The model will access `(n - output_chunk_length)` future values of your `past_covariates` (relative to the first predicted time step). To hide this warning, set `show_warnings=False`.\n",
            "WARNING:darts.models.forecasting.forecasting_model:`predict()` was called with `n > output_chunk_length`: using auto-regression to forecast the values after `output_chunk_length` points. The model will access `(n - output_chunk_length)` future values of your `past_covariates` (relative to the first predicted time step). To hide this warning, set `show_warnings=False`.\n",
            "WARNING:darts.models.forecasting.forecasting_model:`predict()` was called with `n > output_chunk_length`: using auto-regression to forecast the values after `output_chunk_length` points. The model will access `(n - output_chunk_length)` future values of your `past_covariates` (relative to the first predicted time step). To hide this warning, set `show_warnings=False`.\n",
            "WARNING:darts.models.forecasting.forecasting_model:`predict()` was called with `n > output_chunk_length`: using auto-regression to forecast the values after `output_chunk_length` points. The model will access `(n - output_chunk_length)` future values of your `past_covariates` (relative to the first predicted time step). To hide this warning, set `show_warnings=False`.\n",
            "WARNING:darts.models.forecasting.forecasting_model:`predict()` was called with `n > output_chunk_length`: using auto-regression to forecast the values after `output_chunk_length` points. The model will access `(n - output_chunk_length)` future values of your `past_covariates` (relative to the first predicted time step). To hide this warning, set `show_warnings=False`.\n",
            "WARNING:darts.models.forecasting.forecasting_model:`predict()` was called with `n > output_chunk_length`: using auto-regression to forecast the values after `output_chunk_length` points. The model will access `(n - output_chunk_length)` future values of your `past_covariates` (relative to the first predicted time step). To hide this warning, set `show_warnings=False`.\n",
            "WARNING:darts.models.forecasting.forecasting_model:`predict()` was called with `n > output_chunk_length`: using auto-regression to forecast the values after `output_chunk_length` points. The model will access `(n - output_chunk_length)` future values of your `past_covariates` (relative to the first predicted time step). To hide this warning, set `show_warnings=False`.\n",
            "WARNING:darts.models.forecasting.forecasting_model:`predict()` was called with `n > output_chunk_length`: using auto-regression to forecast the values after `output_chunk_length` points. The model will access `(n - output_chunk_length)` future values of your `past_covariates` (relative to the first predicted time step). To hide this warning, set `show_warnings=False`.\n"
          ]
        },
        {
          "output_type": "execute_result",
          "data": {
            "text/plain": [
              "                                           unique_id         ds          y\n",
              "0  global/North America/D_E_CA - Canada/AMPHOTERC... 2023-01-01 320,990.15\n",
              "1  global/North America/D_E_CA - Canada/AMPHOTERC... 2023-02-01 488,671.03\n",
              "2  global/North America/D_E_CA - Canada/AMPHOTERC... 2023-03-01 396,448.77\n",
              "3  global/North America/D_E_CA - Canada/AMPHOTERC... 2023-04-01 325,069.72\n",
              "4  global/North America/D_E_CA - Canada/AMPHOTERC... 2023-05-01 546,939.76"
            ],
            "text/html": [
              "\n",
              "  <div id=\"df-31d24721-50aa-4ac2-8137-259c6997e35b\" class=\"colab-df-container\">\n",
              "    <div>\n",
              "<style scoped>\n",
              "    .dataframe tbody tr th:only-of-type {\n",
              "        vertical-align: middle;\n",
              "    }\n",
              "\n",
              "    .dataframe tbody tr th {\n",
              "        vertical-align: top;\n",
              "    }\n",
              "\n",
              "    .dataframe thead th {\n",
              "        text-align: right;\n",
              "    }\n",
              "</style>\n",
              "<table border=\"1\" class=\"dataframe\">\n",
              "  <thead>\n",
              "    <tr style=\"text-align: right;\">\n",
              "      <th></th>\n",
              "      <th>unique_id</th>\n",
              "      <th>ds</th>\n",
              "      <th>y</th>\n",
              "    </tr>\n",
              "  </thead>\n",
              "  <tbody>\n",
              "    <tr>\n",
              "      <th>0</th>\n",
              "      <td>global/North America/D_E_CA - Canada/AMPHOTERC...</td>\n",
              "      <td>2023-01-01</td>\n",
              "      <td>320,990.15</td>\n",
              "    </tr>\n",
              "    <tr>\n",
              "      <th>1</th>\n",
              "      <td>global/North America/D_E_CA - Canada/AMPHOTERC...</td>\n",
              "      <td>2023-02-01</td>\n",
              "      <td>488,671.03</td>\n",
              "    </tr>\n",
              "    <tr>\n",
              "      <th>2</th>\n",
              "      <td>global/North America/D_E_CA - Canada/AMPHOTERC...</td>\n",
              "      <td>2023-03-01</td>\n",
              "      <td>396,448.77</td>\n",
              "    </tr>\n",
              "    <tr>\n",
              "      <th>3</th>\n",
              "      <td>global/North America/D_E_CA - Canada/AMPHOTERC...</td>\n",
              "      <td>2023-04-01</td>\n",
              "      <td>325,069.72</td>\n",
              "    </tr>\n",
              "    <tr>\n",
              "      <th>4</th>\n",
              "      <td>global/North America/D_E_CA - Canada/AMPHOTERC...</td>\n",
              "      <td>2023-05-01</td>\n",
              "      <td>546,939.76</td>\n",
              "    </tr>\n",
              "  </tbody>\n",
              "</table>\n",
              "</div>\n",
              "    <div class=\"colab-df-buttons\">\n",
              "\n",
              "  <div class=\"colab-df-container\">\n",
              "    <button class=\"colab-df-convert\" onclick=\"convertToInteractive('df-31d24721-50aa-4ac2-8137-259c6997e35b')\"\n",
              "            title=\"Convert this dataframe to an interactive table.\"\n",
              "            style=\"display:none;\">\n",
              "\n",
              "  <svg xmlns=\"http://www.w3.org/2000/svg\" height=\"24px\" viewBox=\"0 -960 960 960\">\n",
              "    <path d=\"M120-120v-720h720v720H120Zm60-500h600v-160H180v160Zm220 220h160v-160H400v160Zm0 220h160v-160H400v160ZM180-400h160v-160H180v160Zm440 0h160v-160H620v160ZM180-180h160v-160H180v160Zm440 0h160v-160H620v160Z\"/>\n",
              "  </svg>\n",
              "    </button>\n",
              "\n",
              "  <style>\n",
              "    .colab-df-container {\n",
              "      display:flex;\n",
              "      gap: 12px;\n",
              "    }\n",
              "\n",
              "    .colab-df-convert {\n",
              "      background-color: #E8F0FE;\n",
              "      border: none;\n",
              "      border-radius: 50%;\n",
              "      cursor: pointer;\n",
              "      display: none;\n",
              "      fill: #1967D2;\n",
              "      height: 32px;\n",
              "      padding: 0 0 0 0;\n",
              "      width: 32px;\n",
              "    }\n",
              "\n",
              "    .colab-df-convert:hover {\n",
              "      background-color: #E2EBFA;\n",
              "      box-shadow: 0px 1px 2px rgba(60, 64, 67, 0.3), 0px 1px 3px 1px rgba(60, 64, 67, 0.15);\n",
              "      fill: #174EA6;\n",
              "    }\n",
              "\n",
              "    .colab-df-buttons div {\n",
              "      margin-bottom: 4px;\n",
              "    }\n",
              "\n",
              "    [theme=dark] .colab-df-convert {\n",
              "      background-color: #3B4455;\n",
              "      fill: #D2E3FC;\n",
              "    }\n",
              "\n",
              "    [theme=dark] .colab-df-convert:hover {\n",
              "      background-color: #434B5C;\n",
              "      box-shadow: 0px 1px 3px 1px rgba(0, 0, 0, 0.15);\n",
              "      filter: drop-shadow(0px 1px 2px rgba(0, 0, 0, 0.3));\n",
              "      fill: #FFFFFF;\n",
              "    }\n",
              "  </style>\n",
              "\n",
              "    <script>\n",
              "      const buttonEl =\n",
              "        document.querySelector('#df-31d24721-50aa-4ac2-8137-259c6997e35b button.colab-df-convert');\n",
              "      buttonEl.style.display =\n",
              "        google.colab.kernel.accessAllowed ? 'block' : 'none';\n",
              "\n",
              "      async function convertToInteractive(key) {\n",
              "        const element = document.querySelector('#df-31d24721-50aa-4ac2-8137-259c6997e35b');\n",
              "        const dataTable =\n",
              "          await google.colab.kernel.invokeFunction('convertToInteractive',\n",
              "                                                    [key], {});\n",
              "        if (!dataTable) return;\n",
              "\n",
              "        const docLinkHtml = 'Like what you see? Visit the ' +\n",
              "          '<a target=\"_blank\" href=https://colab.research.google.com/notebooks/data_table.ipynb>data table notebook</a>'\n",
              "          + ' to learn more about interactive tables.';\n",
              "        element.innerHTML = '';\n",
              "        dataTable['output_type'] = 'display_data';\n",
              "        await google.colab.output.renderOutput(dataTable, element);\n",
              "        const docLink = document.createElement('div');\n",
              "        docLink.innerHTML = docLinkHtml;\n",
              "        element.appendChild(docLink);\n",
              "      }\n",
              "    </script>\n",
              "  </div>\n",
              "\n",
              "\n",
              "<div id=\"df-5196f6ee-7eba-41e4-a816-3dfb9b4a5edd\">\n",
              "  <button class=\"colab-df-quickchart\" onclick=\"quickchart('df-5196f6ee-7eba-41e4-a816-3dfb9b4a5edd')\"\n",
              "            title=\"Suggest charts\"\n",
              "            style=\"display:none;\">\n",
              "\n",
              "<svg xmlns=\"http://www.w3.org/2000/svg\" height=\"24px\"viewBox=\"0 0 24 24\"\n",
              "     width=\"24px\">\n",
              "    <g>\n",
              "        <path d=\"M19 3H5c-1.1 0-2 .9-2 2v14c0 1.1.9 2 2 2h14c1.1 0 2-.9 2-2V5c0-1.1-.9-2-2-2zM9 17H7v-7h2v7zm4 0h-2V7h2v10zm4 0h-2v-4h2v4z\"/>\n",
              "    </g>\n",
              "</svg>\n",
              "  </button>\n",
              "\n",
              "<style>\n",
              "  .colab-df-quickchart {\n",
              "      --bg-color: #E8F0FE;\n",
              "      --fill-color: #1967D2;\n",
              "      --hover-bg-color: #E2EBFA;\n",
              "      --hover-fill-color: #174EA6;\n",
              "      --disabled-fill-color: #AAA;\n",
              "      --disabled-bg-color: #DDD;\n",
              "  }\n",
              "\n",
              "  [theme=dark] .colab-df-quickchart {\n",
              "      --bg-color: #3B4455;\n",
              "      --fill-color: #D2E3FC;\n",
              "      --hover-bg-color: #434B5C;\n",
              "      --hover-fill-color: #FFFFFF;\n",
              "      --disabled-bg-color: #3B4455;\n",
              "      --disabled-fill-color: #666;\n",
              "  }\n",
              "\n",
              "  .colab-df-quickchart {\n",
              "    background-color: var(--bg-color);\n",
              "    border: none;\n",
              "    border-radius: 50%;\n",
              "    cursor: pointer;\n",
              "    display: none;\n",
              "    fill: var(--fill-color);\n",
              "    height: 32px;\n",
              "    padding: 0;\n",
              "    width: 32px;\n",
              "  }\n",
              "\n",
              "  .colab-df-quickchart:hover {\n",
              "    background-color: var(--hover-bg-color);\n",
              "    box-shadow: 0 1px 2px rgba(60, 64, 67, 0.3), 0 1px 3px 1px rgba(60, 64, 67, 0.15);\n",
              "    fill: var(--button-hover-fill-color);\n",
              "  }\n",
              "\n",
              "  .colab-df-quickchart-complete:disabled,\n",
              "  .colab-df-quickchart-complete:disabled:hover {\n",
              "    background-color: var(--disabled-bg-color);\n",
              "    fill: var(--disabled-fill-color);\n",
              "    box-shadow: none;\n",
              "  }\n",
              "\n",
              "  .colab-df-spinner {\n",
              "    border: 2px solid var(--fill-color);\n",
              "    border-color: transparent;\n",
              "    border-bottom-color: var(--fill-color);\n",
              "    animation:\n",
              "      spin 1s steps(1) infinite;\n",
              "  }\n",
              "\n",
              "  @keyframes spin {\n",
              "    0% {\n",
              "      border-color: transparent;\n",
              "      border-bottom-color: var(--fill-color);\n",
              "      border-left-color: var(--fill-color);\n",
              "    }\n",
              "    20% {\n",
              "      border-color: transparent;\n",
              "      border-left-color: var(--fill-color);\n",
              "      border-top-color: var(--fill-color);\n",
              "    }\n",
              "    30% {\n",
              "      border-color: transparent;\n",
              "      border-left-color: var(--fill-color);\n",
              "      border-top-color: var(--fill-color);\n",
              "      border-right-color: var(--fill-color);\n",
              "    }\n",
              "    40% {\n",
              "      border-color: transparent;\n",
              "      border-right-color: var(--fill-color);\n",
              "      border-top-color: var(--fill-color);\n",
              "    }\n",
              "    60% {\n",
              "      border-color: transparent;\n",
              "      border-right-color: var(--fill-color);\n",
              "    }\n",
              "    80% {\n",
              "      border-color: transparent;\n",
              "      border-right-color: var(--fill-color);\n",
              "      border-bottom-color: var(--fill-color);\n",
              "    }\n",
              "    90% {\n",
              "      border-color: transparent;\n",
              "      border-bottom-color: var(--fill-color);\n",
              "    }\n",
              "  }\n",
              "</style>\n",
              "\n",
              "  <script>\n",
              "    async function quickchart(key) {\n",
              "      const quickchartButtonEl =\n",
              "        document.querySelector('#' + key + ' button');\n",
              "      quickchartButtonEl.disabled = true;  // To prevent multiple clicks.\n",
              "      quickchartButtonEl.classList.add('colab-df-spinner');\n",
              "      try {\n",
              "        const charts = await google.colab.kernel.invokeFunction(\n",
              "            'suggestCharts', [key], {});\n",
              "      } catch (error) {\n",
              "        console.error('Error during call to suggestCharts:', error);\n",
              "      }\n",
              "      quickchartButtonEl.classList.remove('colab-df-spinner');\n",
              "      quickchartButtonEl.classList.add('colab-df-quickchart-complete');\n",
              "    }\n",
              "    (() => {\n",
              "      let quickchartButtonEl =\n",
              "        document.querySelector('#df-5196f6ee-7eba-41e4-a816-3dfb9b4a5edd button');\n",
              "      quickchartButtonEl.style.display =\n",
              "        google.colab.kernel.accessAllowed ? 'block' : 'none';\n",
              "    })();\n",
              "  </script>\n",
              "</div>\n",
              "\n",
              "    </div>\n",
              "  </div>\n"
            ],
            "application/vnd.google.colaboratory.intrinsic+json": {
              "type": "dataframe",
              "variable_name": "lgbm_fct",
              "summary": "{\n  \"name\": \"lgbm_fct\",\n  \"rows\": 1692,\n  \"fields\": [\n    {\n      \"column\": \"unique_id\",\n      \"properties\": {\n        \"dtype\": \"category\",\n        \"num_unique_values\": 141,\n        \"samples\": [\n          \"global/West Europe/D_E_PORTUGAL - Portugal/MIRABEGRON - Mirabegron\",\n          \"global/Japan/JP10 - Astellas Pharma Inc/INFLUENZA - INFLUENZA\",\n          \"global/West Europe/D_E_GB - Great Britain/MIRABEGRON - Mirabegron\"\n        ],\n        \"semantic_type\": \"\",\n        \"description\": \"\"\n      }\n    },\n    {\n      \"column\": \"ds\",\n      \"properties\": {\n        \"dtype\": \"date\",\n        \"min\": \"2023-01-01 00:00:00\",\n        \"max\": \"2023-12-01 00:00:00\",\n        \"num_unique_values\": 12,\n        \"samples\": [\n          \"2023-11-01 00:00:00\",\n          \"2023-10-01 00:00:00\",\n          \"2023-01-01 00:00:00\"\n        ],\n        \"semantic_type\": \"\",\n        \"description\": \"\"\n      }\n    },\n    {\n      \"column\": \"y\",\n      \"properties\": {\n        \"dtype\": \"number\",\n        \"std\": 4689908.199249996,\n        \"min\": -553522.1732535234,\n        \"max\": 47202617.10454804,\n        \"num_unique_values\": 1135,\n        \"samples\": [\n          742551.3858744969,\n          951.3140027595219,\n          36788.93827733524\n        ],\n        \"semantic_type\": \"\",\n        \"description\": \"\"\n      }\n    }\n  ]\n}"
            }
          },
          "metadata": {},
          "execution_count": 114
        }
      ]
    },
    {
      "cell_type": "code",
      "source": [
        "########################\n",
        "# FIND IDS WITH SPEND\n",
        "########################\n",
        "# Assuming sga is your dataframe\n",
        "# Group by 'ID' and sum 'AP' and 'Field_Sales'\n",
        "grouped1 = sga1.groupby('unique_id')[['AP']].sum()\n",
        "grouped2 = sga2.groupby('unique_id')[['Field_Sales']].sum()\n",
        "\n",
        "# Find IDs where both 'AP' and 'Field_Sales' are greater than zero\n",
        "filtered_ids = set(grouped1[(grouped1['AP'] > 0)].index.tolist() + grouped2[(grouped2['Field_Sales'] > 0)].index.tolist())"
      ],
      "metadata": {
        "id": "B0sYNsRY-Pkt"
      },
      "execution_count": 108,
      "outputs": []
    },
    {
      "cell_type": "code",
      "execution_count": 116,
      "metadata": {
        "id": "pAbo6hYuCf3O",
        "colab": {
          "base_uri": "https://localhost:8080/"
        },
        "outputId": "760049e2-e0ba-4d7b-8296-3889011880c1"
      },
      "outputs": [
        {
          "output_type": "stream",
          "name": "stderr",
          "text": [
            "<ipython-input-116-38b82d8710b9>:15: SettingWithCopyWarning: \n",
            "A value is trying to be set on a copy of a slice from a DataFrame\n",
            "\n",
            "See the caveats in the documentation: https://pandas.pydata.org/pandas-docs/stable/user_guide/indexing.html#returning-a-view-versus-a-copy\n",
            "  volume_act_xsm.rename(columns={'y': 'Actuals'}, inplace=True)\n",
            "<ipython-input-116-38b82d8710b9>:16: SettingWithCopyWarning: \n",
            "A value is trying to be set on a copy of a slice from a DataFrame\n",
            "\n",
            "See the caveats in the documentation: https://pandas.pydata.org/pandas-docs/stable/user_guide/indexing.html#returning-a-view-versus-a-copy\n",
            "  budget2.rename(columns={'y': 'Budget'}, inplace=True)\n",
            "<ipython-input-116-38b82d8710b9>:17: SettingWithCopyWarning: \n",
            "A value is trying to be set on a copy of a slice from a DataFrame\n",
            "\n",
            "See the caveats in the documentation: https://pandas.pydata.org/pandas-docs/stable/user_guide/indexing.html#returning-a-view-versus-a-copy\n",
            "  volume_act_sm.rename(columns={'y': 'Smoothed'}, inplace=True)\n",
            "<ipython-input-116-38b82d8710b9>:59: SettingWithCopyWarning: \n",
            "A value is trying to be set on a copy of a slice from a DataFrame.\n",
            "Try using .loc[row_indexer,col_indexer] = value instead\n",
            "\n",
            "See the caveats in the documentation: https://pandas.pydata.org/pandas-docs/stable/user_guide/indexing.html#returning-a-view-versus-a-copy\n",
            "  data4metrics['lowest_diff_col'] = data4metrics['unique_id'].map(min_diff_col)\n"
          ]
        },
        {
          "output_type": "execute_result",
          "data": {
            "text/plain": [
              "lowest_diff_col\n",
              "Budget      78\n",
              "Forecast    63\n",
              "Name: unique_id, dtype: int64"
            ]
          },
          "metadata": {},
          "execution_count": 116
        }
      ],
      "source": [
        "########################\n",
        "# METRICS\n",
        "########################\n",
        "inputFile = '/content/drive/MyDrive/Colab Notebooks/Revenue Prediction/data/tgpt_results.csv'\n",
        "tgpt_fct = pd.read_csv(inputFile)\n",
        "tgpt_fct['ds'] = pd.to_datetime(tgpt_fct['ds'])\n",
        "\n",
        "# Subset\n",
        "volume_act_xsm = volume_act[['unique_id', 'ds', 'y']]\n",
        "volume_act_sm = volume_act2[['unique_id', 'ds', 'y']]\n",
        "budget2 = budget[['unique_id', 'ds', 'y']]\n",
        "tgpt_fct = tgpt_fct[['unique_id', 'ds', 'TGPT']]\n",
        "\n",
        "# Assign names\n",
        "volume_act_xsm.rename(columns={'y': 'Actuals'}, inplace=True)\n",
        "budget2.rename(columns={'y': 'Budget'}, inplace=True)\n",
        "volume_act_sm.rename(columns={'y': 'Smoothed'}, inplace=True)\n",
        "lgbm_fct.rename(columns={'y': 'LGBM'}, inplace=True)\n",
        "ets_fct.rename(columns={'y': 'Forecast'}, inplace=True)\n",
        "\n",
        "# Merge actuals, budget and forecast\n",
        "rev_at = volume_act_xsm.merge(ets_fct, on=['unique_id', 'ds'], how='left')\n",
        "rev_at = rev_at.merge(volume_act_sm, on=['unique_id', 'ds'], how='left')\n",
        "rev_at = rev_at.merge(budget2, on=['unique_id', 'ds'], how='left')\n",
        "rev_at = rev_at.merge(lgbm_fct, on=['unique_id', 'ds'], how='left')\n",
        "rev_at = rev_at.merge(tgpt_fct, on=['unique_id', 'ds'], how='left')\n",
        "\n",
        "# Create ensemble\n",
        "rev_at['Ensemble'] = rev_at[['Forecast', 'LGBM']].mean(axis=1)\n",
        "\n",
        "# Assuming rev_at is your dataframe, filtered_ids is your list of IDs\n",
        "rev_at['SelectedFCT'] = np.where(rev_at['unique_id'].isin(filtered_ids), rev_at['LGBM'], rev_at['Forecast'])\n",
        "\n",
        "\n",
        "# Only keep tested ts\n",
        "rev_at = rev_at[rev_at['unique_id'].isin(tested_ts)]\n",
        "\n",
        "rev_at = rev_at[rev_at['unique_id'].isin(volume_act['unique_id'].unique())]\n",
        "\n",
        "\n",
        "\n",
        "\n",
        "# Filter for dates\n",
        "data4metrics = rev_at[(rev_at['ds']<=fct_end_date) & (rev_at['ds']>=fct_st_date)]\n",
        "\n",
        "# Sum up the values for each unique_id\n",
        "numeric_cols = data4metrics.columns.drop(['unique_id', 'ds'])\n",
        "summed_df = data4metrics.groupby('unique_id')[numeric_cols].sum()\n",
        "\n",
        "# Calculate difference and percentage differences from 'Actuals'\n",
        "absolute_diff = summed_df.subtract(summed_df['Actuals'], axis=0).abs()\n",
        "percentage_diff = summed_df.subtract(summed_df['Actuals'], axis=0).div(summed_df['Actuals'], axis=0).abs()\n",
        "\n",
        "# Drop the 'Actuals' column as we don't need to compare it with itself\n",
        "absolute_diff.drop(columns=['Actuals', 'Smoothed', 'LGBM', 'TGPT', 'Ensemble', 'SelectedFCT'], inplace=True)\n",
        "\n",
        "# Find the column with the lowest difference for each unique_id and add to metrics table\n",
        "min_diff_col = absolute_diff.idxmin(axis=1)\n",
        "data4metrics['lowest_diff_col'] = data4metrics['unique_id'].map(min_diff_col)\n",
        "\n",
        "# Find winner\n",
        "winner = data4metrics.groupby('lowest_diff_col')\n",
        "\n",
        "# Get Budget winners\n",
        "bud_winners = winner.get_group('Budget')['unique_id'].unique()\n",
        "\n",
        "winner['unique_id'].nunique()"
      ]
    },
    {
      "cell_type": "code",
      "execution_count": 117,
      "metadata": {
        "id": "jUFeFJhSRob_",
        "colab": {
          "base_uri": "https://localhost:8080/",
          "height": 207
        },
        "outputId": "675e3acf-d045-4407-aecf-b8d992b55131"
      },
      "outputs": [
        {
          "output_type": "execute_result",
          "data": {
            "text/plain": [
              "                                           unique_id         ds  Actuals  \\\n",
              "0  global/North America/D_E_CA - Canada/AMPHOTERC... 2014-04-01      NaN   \n",
              "1  global/North America/D_E_CA - Canada/AMPHOTERC... 2014-05-01      NaN   \n",
              "2  global/North America/D_E_CA - Canada/AMPHOTERC... 2014-06-01      NaN   \n",
              "3  global/North America/D_E_CA - Canada/AMPHOTERC... 2014-07-01      NaN   \n",
              "4  global/North America/D_E_CA - Canada/AMPHOTERC... 2014-08-01      NaN   \n",
              "\n",
              "   Forecast  Smoothed  Budget  LGBM  TGPT  Ensemble  SelectedFCT  \\\n",
              "0       NaN      0.00     NaN   NaN   NaN       NaN          NaN   \n",
              "1       NaN      0.00     NaN   NaN   NaN       NaN          NaN   \n",
              "2       NaN      0.00     NaN   NaN   NaN       NaN          NaN   \n",
              "3       NaN      0.00     NaN   NaN   NaN       NaN          NaN   \n",
              "4       NaN      0.00     NaN   NaN   NaN       NaN          NaN   \n",
              "\n",
              "   Actuals (Train)  \n",
              "0             0.00  \n",
              "1             0.00  \n",
              "2             0.00  \n",
              "3             0.00  \n",
              "4             0.00  "
            ],
            "text/html": [
              "\n",
              "  <div id=\"df-5ae391e4-d331-42d3-a119-34ec8948b9cb\" class=\"colab-df-container\">\n",
              "    <div>\n",
              "<style scoped>\n",
              "    .dataframe tbody tr th:only-of-type {\n",
              "        vertical-align: middle;\n",
              "    }\n",
              "\n",
              "    .dataframe tbody tr th {\n",
              "        vertical-align: top;\n",
              "    }\n",
              "\n",
              "    .dataframe thead th {\n",
              "        text-align: right;\n",
              "    }\n",
              "</style>\n",
              "<table border=\"1\" class=\"dataframe\">\n",
              "  <thead>\n",
              "    <tr style=\"text-align: right;\">\n",
              "      <th></th>\n",
              "      <th>unique_id</th>\n",
              "      <th>ds</th>\n",
              "      <th>Actuals</th>\n",
              "      <th>Forecast</th>\n",
              "      <th>Smoothed</th>\n",
              "      <th>Budget</th>\n",
              "      <th>LGBM</th>\n",
              "      <th>TGPT</th>\n",
              "      <th>Ensemble</th>\n",
              "      <th>SelectedFCT</th>\n",
              "      <th>Actuals (Train)</th>\n",
              "    </tr>\n",
              "  </thead>\n",
              "  <tbody>\n",
              "    <tr>\n",
              "      <th>0</th>\n",
              "      <td>global/North America/D_E_CA - Canada/AMPHOTERC...</td>\n",
              "      <td>2014-04-01</td>\n",
              "      <td>NaN</td>\n",
              "      <td>NaN</td>\n",
              "      <td>0.00</td>\n",
              "      <td>NaN</td>\n",
              "      <td>NaN</td>\n",
              "      <td>NaN</td>\n",
              "      <td>NaN</td>\n",
              "      <td>NaN</td>\n",
              "      <td>0.00</td>\n",
              "    </tr>\n",
              "    <tr>\n",
              "      <th>1</th>\n",
              "      <td>global/North America/D_E_CA - Canada/AMPHOTERC...</td>\n",
              "      <td>2014-05-01</td>\n",
              "      <td>NaN</td>\n",
              "      <td>NaN</td>\n",
              "      <td>0.00</td>\n",
              "      <td>NaN</td>\n",
              "      <td>NaN</td>\n",
              "      <td>NaN</td>\n",
              "      <td>NaN</td>\n",
              "      <td>NaN</td>\n",
              "      <td>0.00</td>\n",
              "    </tr>\n",
              "    <tr>\n",
              "      <th>2</th>\n",
              "      <td>global/North America/D_E_CA - Canada/AMPHOTERC...</td>\n",
              "      <td>2014-06-01</td>\n",
              "      <td>NaN</td>\n",
              "      <td>NaN</td>\n",
              "      <td>0.00</td>\n",
              "      <td>NaN</td>\n",
              "      <td>NaN</td>\n",
              "      <td>NaN</td>\n",
              "      <td>NaN</td>\n",
              "      <td>NaN</td>\n",
              "      <td>0.00</td>\n",
              "    </tr>\n",
              "    <tr>\n",
              "      <th>3</th>\n",
              "      <td>global/North America/D_E_CA - Canada/AMPHOTERC...</td>\n",
              "      <td>2014-07-01</td>\n",
              "      <td>NaN</td>\n",
              "      <td>NaN</td>\n",
              "      <td>0.00</td>\n",
              "      <td>NaN</td>\n",
              "      <td>NaN</td>\n",
              "      <td>NaN</td>\n",
              "      <td>NaN</td>\n",
              "      <td>NaN</td>\n",
              "      <td>0.00</td>\n",
              "    </tr>\n",
              "    <tr>\n",
              "      <th>4</th>\n",
              "      <td>global/North America/D_E_CA - Canada/AMPHOTERC...</td>\n",
              "      <td>2014-08-01</td>\n",
              "      <td>NaN</td>\n",
              "      <td>NaN</td>\n",
              "      <td>0.00</td>\n",
              "      <td>NaN</td>\n",
              "      <td>NaN</td>\n",
              "      <td>NaN</td>\n",
              "      <td>NaN</td>\n",
              "      <td>NaN</td>\n",
              "      <td>0.00</td>\n",
              "    </tr>\n",
              "  </tbody>\n",
              "</table>\n",
              "</div>\n",
              "    <div class=\"colab-df-buttons\">\n",
              "\n",
              "  <div class=\"colab-df-container\">\n",
              "    <button class=\"colab-df-convert\" onclick=\"convertToInteractive('df-5ae391e4-d331-42d3-a119-34ec8948b9cb')\"\n",
              "            title=\"Convert this dataframe to an interactive table.\"\n",
              "            style=\"display:none;\">\n",
              "\n",
              "  <svg xmlns=\"http://www.w3.org/2000/svg\" height=\"24px\" viewBox=\"0 -960 960 960\">\n",
              "    <path d=\"M120-120v-720h720v720H120Zm60-500h600v-160H180v160Zm220 220h160v-160H400v160Zm0 220h160v-160H400v160ZM180-400h160v-160H180v160Zm440 0h160v-160H620v160ZM180-180h160v-160H180v160Zm440 0h160v-160H620v160Z\"/>\n",
              "  </svg>\n",
              "    </button>\n",
              "\n",
              "  <style>\n",
              "    .colab-df-container {\n",
              "      display:flex;\n",
              "      gap: 12px;\n",
              "    }\n",
              "\n",
              "    .colab-df-convert {\n",
              "      background-color: #E8F0FE;\n",
              "      border: none;\n",
              "      border-radius: 50%;\n",
              "      cursor: pointer;\n",
              "      display: none;\n",
              "      fill: #1967D2;\n",
              "      height: 32px;\n",
              "      padding: 0 0 0 0;\n",
              "      width: 32px;\n",
              "    }\n",
              "\n",
              "    .colab-df-convert:hover {\n",
              "      background-color: #E2EBFA;\n",
              "      box-shadow: 0px 1px 2px rgba(60, 64, 67, 0.3), 0px 1px 3px 1px rgba(60, 64, 67, 0.15);\n",
              "      fill: #174EA6;\n",
              "    }\n",
              "\n",
              "    .colab-df-buttons div {\n",
              "      margin-bottom: 4px;\n",
              "    }\n",
              "\n",
              "    [theme=dark] .colab-df-convert {\n",
              "      background-color: #3B4455;\n",
              "      fill: #D2E3FC;\n",
              "    }\n",
              "\n",
              "    [theme=dark] .colab-df-convert:hover {\n",
              "      background-color: #434B5C;\n",
              "      box-shadow: 0px 1px 3px 1px rgba(0, 0, 0, 0.15);\n",
              "      filter: drop-shadow(0px 1px 2px rgba(0, 0, 0, 0.3));\n",
              "      fill: #FFFFFF;\n",
              "    }\n",
              "  </style>\n",
              "\n",
              "    <script>\n",
              "      const buttonEl =\n",
              "        document.querySelector('#df-5ae391e4-d331-42d3-a119-34ec8948b9cb button.colab-df-convert');\n",
              "      buttonEl.style.display =\n",
              "        google.colab.kernel.accessAllowed ? 'block' : 'none';\n",
              "\n",
              "      async function convertToInteractive(key) {\n",
              "        const element = document.querySelector('#df-5ae391e4-d331-42d3-a119-34ec8948b9cb');\n",
              "        const dataTable =\n",
              "          await google.colab.kernel.invokeFunction('convertToInteractive',\n",
              "                                                    [key], {});\n",
              "        if (!dataTable) return;\n",
              "\n",
              "        const docLinkHtml = 'Like what you see? Visit the ' +\n",
              "          '<a target=\"_blank\" href=https://colab.research.google.com/notebooks/data_table.ipynb>data table notebook</a>'\n",
              "          + ' to learn more about interactive tables.';\n",
              "        element.innerHTML = '';\n",
              "        dataTable['output_type'] = 'display_data';\n",
              "        await google.colab.output.renderOutput(dataTable, element);\n",
              "        const docLink = document.createElement('div');\n",
              "        docLink.innerHTML = docLinkHtml;\n",
              "        element.appendChild(docLink);\n",
              "      }\n",
              "    </script>\n",
              "  </div>\n",
              "\n",
              "\n",
              "<div id=\"df-1a1a112c-0536-418f-bf74-abd698f4e8a1\">\n",
              "  <button class=\"colab-df-quickchart\" onclick=\"quickchart('df-1a1a112c-0536-418f-bf74-abd698f4e8a1')\"\n",
              "            title=\"Suggest charts\"\n",
              "            style=\"display:none;\">\n",
              "\n",
              "<svg xmlns=\"http://www.w3.org/2000/svg\" height=\"24px\"viewBox=\"0 0 24 24\"\n",
              "     width=\"24px\">\n",
              "    <g>\n",
              "        <path d=\"M19 3H5c-1.1 0-2 .9-2 2v14c0 1.1.9 2 2 2h14c1.1 0 2-.9 2-2V5c0-1.1-.9-2-2-2zM9 17H7v-7h2v7zm4 0h-2V7h2v10zm4 0h-2v-4h2v4z\"/>\n",
              "    </g>\n",
              "</svg>\n",
              "  </button>\n",
              "\n",
              "<style>\n",
              "  .colab-df-quickchart {\n",
              "      --bg-color: #E8F0FE;\n",
              "      --fill-color: #1967D2;\n",
              "      --hover-bg-color: #E2EBFA;\n",
              "      --hover-fill-color: #174EA6;\n",
              "      --disabled-fill-color: #AAA;\n",
              "      --disabled-bg-color: #DDD;\n",
              "  }\n",
              "\n",
              "  [theme=dark] .colab-df-quickchart {\n",
              "      --bg-color: #3B4455;\n",
              "      --fill-color: #D2E3FC;\n",
              "      --hover-bg-color: #434B5C;\n",
              "      --hover-fill-color: #FFFFFF;\n",
              "      --disabled-bg-color: #3B4455;\n",
              "      --disabled-fill-color: #666;\n",
              "  }\n",
              "\n",
              "  .colab-df-quickchart {\n",
              "    background-color: var(--bg-color);\n",
              "    border: none;\n",
              "    border-radius: 50%;\n",
              "    cursor: pointer;\n",
              "    display: none;\n",
              "    fill: var(--fill-color);\n",
              "    height: 32px;\n",
              "    padding: 0;\n",
              "    width: 32px;\n",
              "  }\n",
              "\n",
              "  .colab-df-quickchart:hover {\n",
              "    background-color: var(--hover-bg-color);\n",
              "    box-shadow: 0 1px 2px rgba(60, 64, 67, 0.3), 0 1px 3px 1px rgba(60, 64, 67, 0.15);\n",
              "    fill: var(--button-hover-fill-color);\n",
              "  }\n",
              "\n",
              "  .colab-df-quickchart-complete:disabled,\n",
              "  .colab-df-quickchart-complete:disabled:hover {\n",
              "    background-color: var(--disabled-bg-color);\n",
              "    fill: var(--disabled-fill-color);\n",
              "    box-shadow: none;\n",
              "  }\n",
              "\n",
              "  .colab-df-spinner {\n",
              "    border: 2px solid var(--fill-color);\n",
              "    border-color: transparent;\n",
              "    border-bottom-color: var(--fill-color);\n",
              "    animation:\n",
              "      spin 1s steps(1) infinite;\n",
              "  }\n",
              "\n",
              "  @keyframes spin {\n",
              "    0% {\n",
              "      border-color: transparent;\n",
              "      border-bottom-color: var(--fill-color);\n",
              "      border-left-color: var(--fill-color);\n",
              "    }\n",
              "    20% {\n",
              "      border-color: transparent;\n",
              "      border-left-color: var(--fill-color);\n",
              "      border-top-color: var(--fill-color);\n",
              "    }\n",
              "    30% {\n",
              "      border-color: transparent;\n",
              "      border-left-color: var(--fill-color);\n",
              "      border-top-color: var(--fill-color);\n",
              "      border-right-color: var(--fill-color);\n",
              "    }\n",
              "    40% {\n",
              "      border-color: transparent;\n",
              "      border-right-color: var(--fill-color);\n",
              "      border-top-color: var(--fill-color);\n",
              "    }\n",
              "    60% {\n",
              "      border-color: transparent;\n",
              "      border-right-color: var(--fill-color);\n",
              "    }\n",
              "    80% {\n",
              "      border-color: transparent;\n",
              "      border-right-color: var(--fill-color);\n",
              "      border-bottom-color: var(--fill-color);\n",
              "    }\n",
              "    90% {\n",
              "      border-color: transparent;\n",
              "      border-bottom-color: var(--fill-color);\n",
              "    }\n",
              "  }\n",
              "</style>\n",
              "\n",
              "  <script>\n",
              "    async function quickchart(key) {\n",
              "      const quickchartButtonEl =\n",
              "        document.querySelector('#' + key + ' button');\n",
              "      quickchartButtonEl.disabled = true;  // To prevent multiple clicks.\n",
              "      quickchartButtonEl.classList.add('colab-df-spinner');\n",
              "      try {\n",
              "        const charts = await google.colab.kernel.invokeFunction(\n",
              "            'suggestCharts', [key], {});\n",
              "      } catch (error) {\n",
              "        console.error('Error during call to suggestCharts:', error);\n",
              "      }\n",
              "      quickchartButtonEl.classList.remove('colab-df-spinner');\n",
              "      quickchartButtonEl.classList.add('colab-df-quickchart-complete');\n",
              "    }\n",
              "    (() => {\n",
              "      let quickchartButtonEl =\n",
              "        document.querySelector('#df-1a1a112c-0536-418f-bf74-abd698f4e8a1 button');\n",
              "      quickchartButtonEl.style.display =\n",
              "        google.colab.kernel.accessAllowed ? 'block' : 'none';\n",
              "    })();\n",
              "  </script>\n",
              "</div>\n",
              "\n",
              "    </div>\n",
              "  </div>\n"
            ],
            "application/vnd.google.colaboratory.intrinsic+json": {
              "type": "dataframe",
              "variable_name": "data2plot",
              "summary": "{\n  \"name\": \"data2plot\",\n  \"rows\": 16497,\n  \"fields\": [\n    {\n      \"column\": \"unique_id\",\n      \"properties\": {\n        \"dtype\": \"category\",\n        \"num_unique_values\": 141,\n        \"samples\": [\n          \"global/West Europe/D_E_PORTUGAL - Portugal/MIRABEGRON - Mirabegron\",\n          \"global/Japan/JP10 - Astellas Pharma Inc/INFLUENZA - INFLUENZA\",\n          \"global/West Europe/D_E_GB - Great Britain/MIRABEGRON - Mirabegron\"\n        ],\n        \"semantic_type\": \"\",\n        \"description\": \"\"\n      }\n    },\n    {\n      \"column\": \"ds\",\n      \"properties\": {\n        \"dtype\": \"date\",\n        \"min\": \"2014-04-01 00:00:00\",\n        \"max\": \"2023-12-01 00:00:00\",\n        \"num_unique_values\": 117,\n        \"samples\": [\n          \"2017-12-01 00:00:00\",\n          \"2014-08-01 00:00:00\",\n          \"2018-09-01 00:00:00\"\n        ],\n        \"semantic_type\": \"\",\n        \"description\": \"\"\n      }\n    },\n    {\n      \"column\": \"Actuals\",\n      \"properties\": {\n        \"dtype\": \"number\",\n        \"std\": 5286819.206231562,\n        \"min\": -1.0,\n        \"max\": 59145212.0,\n        \"num_unique_values\": 1138,\n        \"samples\": [\n          3965.0,\n          28118700.0,\n          49980.0\n        ],\n        \"semantic_type\": \"\",\n        \"description\": \"\"\n      }\n    },\n    {\n      \"column\": \"Forecast\",\n      \"properties\": {\n        \"dtype\": \"number\",\n        \"std\": 4818471.812307974,\n        \"min\": -238626.87544869864,\n        \"max\": 42316595.317110285,\n        \"num_unique_values\": 733,\n        \"samples\": [\n          4345448.691166724,\n          382527.3977443342,\n          521.8319018736318\n        ],\n        \"semantic_type\": \"\",\n        \"description\": \"\"\n      }\n    },\n    {\n      \"column\": \"Smoothed\",\n      \"properties\": {\n        \"dtype\": \"number\",\n        \"std\": 4208975.175037286,\n        \"min\": -650.0,\n        \"max\": 86864976.0,\n        \"num_unique_values\": 6920,\n        \"samples\": [\n          1837.425,\n          1209.5,\n          777900.0\n        ],\n        \"semantic_type\": \"\",\n        \"description\": \"\"\n      }\n    },\n    {\n      \"column\": \"Budget\",\n      \"properties\": {\n        \"dtype\": \"number\",\n        \"std\": 5452702.026547919,\n        \"min\": -21815.9139785,\n        \"max\": 56516364.8895936,\n        \"num_unique_values\": 1066,\n        \"samples\": [\n          5999086.850778,\n          11337558.53887,\n          112879.0\n        ],\n        \"semantic_type\": \"\",\n        \"description\": \"\"\n      }\n    },\n    {\n      \"column\": \"LGBM\",\n      \"properties\": {\n        \"dtype\": \"number\",\n        \"std\": 4689908.199249996,\n        \"min\": -553522.1732535234,\n        \"max\": 47202617.10454804,\n        \"num_unique_values\": 1135,\n        \"samples\": [\n          742551.3858744969,\n          951.3140027595219,\n          36788.93827733524\n        ],\n        \"semantic_type\": \"\",\n        \"description\": \"\"\n      }\n    },\n    {\n      \"column\": \"TGPT\",\n      \"properties\": {\n        \"dtype\": \"number\",\n        \"std\": 4624985.901186795,\n        \"min\": -179797.5625,\n        \"max\": 42282176.0,\n        \"num_unique_values\": 1668,\n        \"samples\": [\n          23383.904296875,\n          3205912.5,\n          53715.30078125\n        ],\n        \"semantic_type\": \"\",\n        \"description\": \"\"\n      }\n    },\n    {\n      \"column\": \"Ensemble\",\n      \"properties\": {\n        \"dtype\": \"number\",\n        \"std\": 4741758.063291834,\n        \"min\": -252431.0265730496,\n        \"max\": 44759606.21082916,\n        \"num_unique_values\": 1275,\n        \"samples\": [\n          5050786.204347956,\n          73.07648442805606,\n          7.941940552443875\n        ],\n        \"semantic_type\": \"\",\n        \"description\": \"\"\n      }\n    },\n    {\n      \"column\": \"SelectedFCT\",\n      \"properties\": {\n        \"dtype\": \"number\",\n        \"std\": 4646480.406610854,\n        \"min\": -553522.1732535234,\n        \"max\": 42316595.317110285,\n        \"num_unique_values\": 1079,\n        \"samples\": [\n          5375.84904518088,\n          0.7688311735482939,\n          1525.0063908095628\n        ],\n        \"semantic_type\": \"\",\n        \"description\": \"\"\n      }\n    },\n    {\n      \"column\": \"Actuals (Train)\",\n      \"properties\": {\n        \"dtype\": \"number\",\n        \"std\": 4102570.442683205,\n        \"min\": -650.0,\n        \"max\": 86864976.0,\n        \"num_unique_values\": 5878,\n        \"samples\": [\n          4602000.0,\n          33666.1248,\n          524700.0\n        ],\n        \"semantic_type\": \"\",\n        \"description\": \"\"\n      }\n    }\n  ]\n}"
            }
          },
          "metadata": {},
          "execution_count": 117
        }
      ],
      "source": [
        "########################\n",
        "# CREATE PLOT DATA\n",
        "########################\n",
        "fct_st_date = pd.to_datetime(fct_st_date)\n",
        "\n",
        "# Add revenue actuals\n",
        "data2plot = rev_at.copy()\n",
        "data2plot['ds'] = pd.to_datetime(data2plot['ds'])\n",
        "\n",
        "# Update Actuals columns\n",
        "data2plot['Actuals (Train)'] = data2plot['Actuals'].copy()\n",
        "data2plot['Actuals'] = data2plot.apply(lambda row: row['Actuals'] if row['ds'] >= fct_st_date else None, axis=1)\n",
        "data2plot['Actuals (Train)'] = data2plot.apply(lambda row: row['Actuals (Train)'] if row['ds'] < fct_st_date else None, axis=1)\n",
        "\n",
        "# Filter to end date\n",
        "data2plot = data2plot[data2plot['ds']<=fct_end_date]\n",
        "\n",
        "# Find TS to fix\n",
        "ts2fix = data2plot[data2plot['unique_id'].isin(bud_winners)]\n",
        "\n",
        "data2plot.head()"
      ]
    },
    {
      "cell_type": "code",
      "execution_count": 118,
      "metadata": {
        "id": "K2voIOZ41Nri",
        "colab": {
          "base_uri": "https://localhost:8080/",
          "height": 627,
          "referenced_widgets": [
            "d296cd7e93e74404a7729a21a0179a14",
            "f1c9454186614fd2988a1e9a13a0c99a",
            "39d70e3b00284db49209862edbe0e450",
            "2064b3e213ab48a684a70bf2c8811f06",
            "a0eb869da18e4c67979cc22787899752",
            "937a9ce37d9b475186405d7e0f19676d",
            "f978fe15e77f47e2a077b02883c54a7b"
          ]
        },
        "outputId": "9b29c61d-9a7a-495c-9194-5e4c2d3f8d96"
      },
      "outputs": [
        {
          "output_type": "display_data",
          "data": {
            "text/plain": [
              "interactive(children=(SelectionSlider(description='unique_id:', options=('global/North America/D_E_CA - Canada…"
            ],
            "application/vnd.jupyter.widget-view+json": {
              "version_major": 2,
              "version_minor": 0,
              "model_id": "d296cd7e93e74404a7729a21a0179a14"
            }
          },
          "metadata": {}
        },
        {
          "output_type": "execute_result",
          "data": {
            "text/plain": [
              "<function __main__.plot_data(unique_id)>"
            ],
            "text/html": [
              "<div style=\"max-width:800px; border: 1px solid var(--colab-border-color);\"><style>\n",
              "      pre.function-repr-contents {\n",
              "        overflow-x: auto;\n",
              "        padding: 8px 12px;\n",
              "        max-height: 500px;\n",
              "      }\n",
              "\n",
              "      pre.function-repr-contents.function-repr-contents-collapsed {\n",
              "        cursor: pointer;\n",
              "        max-height: 100px;\n",
              "      }\n",
              "    </style>\n",
              "    <pre style=\"white-space: initial; background:\n",
              "         var(--colab-secondary-surface-color); padding: 8px 12px;\n",
              "         border-bottom: 1px solid var(--colab-border-color);\"><b>plot_data</b><br/>def plot_data(unique_id)</pre><pre class=\"function-repr-contents function-repr-contents-collapsed\" style=\"\"><a class=\"filepath\" style=\"display:none\" href=\"#\">/content/&lt;ipython-input-118-d78d01734074&gt;</a>&lt;no docstring&gt;</pre></div>"
            ]
          },
          "metadata": {},
          "execution_count": 118
        }
      ],
      "source": [
        "########################\n",
        "# PLOT\n",
        "########################\n",
        "import ipywidgets as widgets\n",
        "from ipywidgets import interact\n",
        "import matplotlib.pyplot as plt\n",
        "import pandas as pd\n",
        "\n",
        "import pandas as pd\n",
        "import matplotlib.pyplot as plt\n",
        "from IPython.display import display, HTML\n",
        "import base64\n",
        "from io import BytesIO\n",
        "\n",
        "# Update the function to include filtering based on 'unique_id'\n",
        "def plot_data(unique_id):\n",
        "    # Define x_column and y_columns directly\n",
        "    x_column = data2use.columns[1]\n",
        "    y_columns = [data2use.columns[2], data2use.columns[3], data2use.columns[5], data2use.columns[6], data2use.columns[7], data2use.columns[8], data2use.columns[9], data2use.columns[10]]\n",
        "\n",
        "    # Filter data based on selected unique_id\n",
        "    filtered_data = data2plot[data2plot['unique_id'] == unique_id]\n",
        "\n",
        "    # Set up a 1x3 grid of subplots\n",
        "    fig, (ax1, ax4) = plt.subplots(1, 2, figsize=(25, 5), gridspec_kw={'width_ratios': [4, 1]}) # Adjust layout for table\n",
        "\n",
        "    # Plotting multiple y-axes on the first subplot\n",
        "    for y_column in y_columns:\n",
        "        ax1.plot(filtered_data[x_column], filtered_data[y_column], label=y_column)\n",
        "    ax1.set_xlabel(x_column)\n",
        "    ax1.set_ylabel('Values')\n",
        "    ax1.set_title(f'Revenue for {unique_id}')\n",
        "    ax1.legend()\n",
        "\n",
        "    # Remove axis for table\n",
        "    ax4.axis('off')\n",
        "    ax4.axis('tight')\n",
        "\n",
        "    # Displaying the sum table\n",
        "    display_data = filtered_data[[x_column] + list(y_columns)].copy()\n",
        "    display_data = display_data[display_data['ds']>=fct_st_date]\n",
        "    display_data['ds'] = display_data['ds'].dt.strftime('%m/%d/%Y')\n",
        "\n",
        "    # Create a sum row\n",
        "    sum_values = {x_column: 'Sum'}\n",
        "    for col in list(y_columns):\n",
        "        sum_values[col] = display_data[col].sum()\n",
        "    sum_row = pd.DataFrame([sum_values])\n",
        "\n",
        "    # Create a % diff row\n",
        "    actuals_sum = sum_values['Actuals']\n",
        "    pdiff_values = {x_column: '% Diff'}\n",
        "    for col in list(y_columns):\n",
        "        pdiff_values[col] = ((display_data[col].sum()-actuals_sum) / actuals_sum) * 100 if actuals_sum != 0 else None\n",
        "        pdiff_values[col] = round(pdiff_values[col], 2)\n",
        "    perc_diff_row = pd.DataFrame([pdiff_values])\n",
        "\n",
        "    # Stack the sum row\n",
        "    display_data = pd.concat([sum_row, display_data], ignore_index=True)\n",
        "\n",
        "    # Round the values and add commas\n",
        "    for column in y_columns:\n",
        "        if column in display_data.columns:\n",
        "            # Round to two decimal places\n",
        "            display_data[column] = display_data[column].round(2)\n",
        "            # Format with commas\n",
        "            display_data[column] = display_data[column].apply(lambda x: f\"{x:,.2f}\")\n",
        "\n",
        "    # Stack the % diff and remove 'Actuals Train'\n",
        "    display_data = pd.concat([perc_diff_row, display_data], ignore_index=True)\n",
        "    display_data = display_data.drop('Actuals (Train)', axis=1)\n",
        "\n",
        "    # Convert perc_diff_data to array for table\n",
        "    table_data = display_data.to_numpy()\n",
        "    # Add table at the right\n",
        "    table = ax4.table(cellText=table_data, colLabels=display_data.columns, loc='right')\n",
        "    table.auto_set_font_size(False)\n",
        "    table.set_fontsize(8.5)  # Set smaller font size if necessary\n",
        "    table.scale(4, 1.8)  # Adjust scale to fit\n",
        "\n",
        "    plt.tight_layout()\n",
        "    plt.show()\n",
        "\n",
        "\n",
        "data2use = ts2fix\n",
        "# data2use = data2plot\n",
        "\n",
        "# Create widgets\n",
        "unique_id_selector = widgets.SelectionSlider(\n",
        "    options=data2use['unique_id'].unique(),\n",
        "    description='unique_id:',\n",
        "    orientation='horizontal',\n",
        "    readout=True\n",
        ")\n",
        "\n",
        "# Display interactive plot\n",
        "interact(plot_data, unique_id=unique_id_selector)"
      ]
    },
    {
      "cell_type": "code",
      "source": [
        "####################\n",
        "# CREATE FINAL DF AND SAVE DATA\n",
        "####################\n",
        "volume_fct = data4metrics[data4metrics['unique_id'].isin(tested_ts)]\n",
        "\n",
        "volume_fct = volume_fct[['unique_id', 'ds', 'Forecast','Actuals', 'Budget', 'lowest_diff_col']]\n",
        "\n",
        "# Sum up the values for each unique_id\n",
        "numeric_cols = volume_fct.columns.drop(['unique_id', 'ds', 'lowest_diff_col'])\n",
        "volume_sum = volume_fct.groupby('unique_id')[numeric_cols].sum()\n",
        "\n",
        "# Calculate difference and percentage differences from 'Actuals'\n",
        "absolute_diff = volume_sum.subtract(volume_sum['Actuals'], axis=0).abs()\n",
        "percentage_diff = volume_sum.subtract(volume_sum['Actuals'], axis=0).div(volume_sum['Actuals'], axis=0).abs()\n",
        "\n",
        "# Drop uneeded columns\n",
        "absolute_diff.drop(columns=['Actuals', 'Budget'], inplace=True)\n",
        "\n",
        "# Find the column with the lowest difference for each unique_id and add to metrics table\n",
        "min_diff_col = absolute_diff.idxmin(axis=1)\n",
        "volume_fct['lowest_diff_col'] = volume_fct['unique_id'].map(min_diff_col)\n",
        "\n",
        "# Define a function to apply to each row\n",
        "def get_value_from_column(row):\n",
        "    return row[row['lowest_diff_col']]\n",
        "\n",
        "# Apply this function to each row\n",
        "volume_fct['fct'] = volume_fct.apply(get_value_from_column, axis=1)\n",
        "\n",
        "# Select columns\n",
        "volume_fct = volume_fct[['unique_id', 'ds','fct']]\n",
        "\n",
        "volume_fct.to_csv('/content/drive/MyDrive/Colab Notebooks/Revenue Prediction/data/volume_fct.csv', index=False)"
      ],
      "metadata": {
        "id": "T-Ijimt2Zz74"
      },
      "execution_count": null,
      "outputs": []
    }
  ],
  "metadata": {
    "colab": {
      "provenance": [],
      "mount_file_id": "1i1lK0A7UPSkqEp7I06G70oHrSC0UDtQy",
      "authorship_tag": "ABX9TyNlFw1xJ9ijOaw9zPe9j1Gk",
      "include_colab_link": true
    },
    "kernelspec": {
      "display_name": "Python 3",
      "name": "python3"
    },
    "language_info": {
      "name": "python"
    },
    "widgets": {
      "application/vnd.jupyter.widget-state+json": {
        "d296cd7e93e74404a7729a21a0179a14": {
          "model_module": "@jupyter-widgets/controls",
          "model_name": "VBoxModel",
          "model_module_version": "1.5.0",
          "state": {
            "_dom_classes": [
              "widget-interact"
            ],
            "_model_module": "@jupyter-widgets/controls",
            "_model_module_version": "1.5.0",
            "_model_name": "VBoxModel",
            "_view_count": null,
            "_view_module": "@jupyter-widgets/controls",
            "_view_module_version": "1.5.0",
            "_view_name": "VBoxView",
            "box_style": "",
            "children": [
              "IPY_MODEL_f1c9454186614fd2988a1e9a13a0c99a",
              "IPY_MODEL_39d70e3b00284db49209862edbe0e450"
            ],
            "layout": "IPY_MODEL_2064b3e213ab48a684a70bf2c8811f06"
          }
        },
        "f1c9454186614fd2988a1e9a13a0c99a": {
          "model_module": "@jupyter-widgets/controls",
          "model_name": "SelectionSliderModel",
          "model_module_version": "1.5.0",
          "state": {
            "_dom_classes": [],
            "_model_module": "@jupyter-widgets/controls",
            "_model_module_version": "1.5.0",
            "_model_name": "SelectionSliderModel",
            "_options_labels": [
              "global/North America/D_E_CA - Canada/ENZA - Enzalutamide",
              "global/North America/D_E_CA - Canada/GILTERITNB - Gilteritinib",
              "global/North America/D_E_CA - Canada/MICAFUNGIN - Micafungin Sodium",
              "global/North America/D_E_CA - Canada/MIRABEGRON - Mirabegron",
              "global/West Europe/D_E_DE - Germany/ENFORTUMAB - Enforumab Vedotin",
              "global/West Europe/D_E_DE - Germany/ENZA - Enzalutamide",
              "global/West Europe/D_E_DE - Germany/GILTERITNB - Gilteritinib",
              "global/West Europe/D_E_DE - Germany/MICAFUNGIN - Micafungin Sodium",
              "global/West Europe/D_E_DE - Germany/MIRABEGRON - Mirabegron",
              "global/West Europe/D_E_DE - Germany/TAMSUL_TAB - Tamsulosin tab",
              "global/West Europe/D_E_FRANCE - France/ENZA - Enzalutamide",
              "global/West Europe/D_E_FRANCE - France/GILTERITNB - Gilteritinib",
              "global/West Europe/D_E_FRANCE - France/MIRABEGRON - Mirabegron",
              "global/West Europe/D_E_FRANCE - France/SOLIFENACN - Solifenacin Succinate",
              "global/West Europe/D_E_FRANCE - France/TAMSUL_TAB - Tamsulosin tab",
              "global/West Europe/D_E_GB - Great Britain/ENFORTUMAB - Enforumab Vedotin",
              "global/West Europe/D_E_GB - Great Britain/MIRABEGRON - Mirabegron",
              "global/West Europe/D_E_GB - Great Britain/TAMSUL_TAB - Tamsulosin tab",
              "global/West Europe/D_E_IE - Ireland/ENZA - Enzalutamide",
              "global/West Europe/D_E_IE - Ireland/ROXADUSTNT - Roxadustant",
              "global/West Europe/D_E_IE - Ireland/SOLIFENACN - Solifenacin Succinate",
              "global/West Europe/D_E_IE - Ireland/SOLIF_TAMS - Solifenacin _ Tamsulosin",
              "global/West Europe/D_E_IE - Ireland/TACROLIMUS - Tacrolimus",
              "global/West Europe/D_E_IE - Ireland/TAMSUL_TAB - Tamsulosin tab",
              "global/West Europe/D_E_IT - Italy/ENFORTUMAB - Enforumab Vedotin",
              "global/West Europe/D_E_IT - Italy/ENZA - Enzalutamide",
              "global/West Europe/D_E_IT - Italy/GILTERITNB - Gilteritinib",
              "global/West Europe/D_E_IT - Italy/MICAFUNGIN - Micafungin Sodium",
              "global/West Europe/D_E_IT - Italy/SOLIF_TAMS - Solifenacin _ Tamsulosin",
              "global/West Europe/D_E_IT - Italy/TACROLIMUS - Tacrolimus",
              "global/West Europe/D_E_IT - Italy/TACRO_XL - Tacrolimus Extended-Release",
              "global/West Europe/D_E_MALTA - Malta/ENZA - Enzalutamide",
              "global/West Europe/D_E_MALTA - Malta/MIRABEGRON - Mirabegron",
              "global/West Europe/D_E_MALTA - Malta/SOLIFENACN - Solifenacin Succinate",
              "global/West Europe/D_E_MALTA - Malta/TACRO_XL - Tacrolimus Extended-Release",
              "global/West Europe/D_E_MALTA - Malta/TAMSULOSIN - Tamsulosin HCl",
              "global/West Europe/D_E_PORTUGAL - Portugal/ENFORTUMAB - Enforumab Vedotin",
              "global/West Europe/D_E_PORTUGAL - Portugal/GILTERITNB - Gilteritinib",
              "global/West Europe/D_E_PORTUGAL - Portugal/MICAFUNGIN - Micafungin Sodium",
              "global/West Europe/D_E_PORTUGAL - Portugal/SOLIFENACN - Solifenacin Succinate",
              "global/West Europe/D_E_PORTUGAL - Portugal/SOLIF_TAMS - Solifenacin _ Tamsulosin",
              "global/West Europe/D_E_SPAIN - Spain/ENFORTUMAB - Enforumab Vedotin",
              "global/West Europe/D_E_SPAIN - Spain/GILTERITNB - Gilteritinib",
              "global/West Europe/D_E_SPAIN - Spain/TACRO_XL - Tacrolimus Extended-Release",
              "global/West Europe/D_E_SPAIN - Spain/TAMSULOSIN - Tamsulosin HCl",
              "global/West Europe/D_E_SPAIN - Spain/TAMSUL_TAB - Tamsulosin tab",
              "global/West Europe/D_E_SWITZ - Switzerland/ENFORTUMAB - Enforumab Vedotin",
              "global/West Europe/D_E_SWITZ - Switzerland/GILTERITNB - Gilteritinib",
              "global/West Europe/D_E_SWITZ - Switzerland/MIRABEGRON - Mirabegron",
              "global/West Europe/D_E_SWITZ - Switzerland/SOLIFENACN - Solifenacin Succinate",
              "global/West Europe/D_E_SWITZ - Switzerland/TACROLIMUS - Tacrolimus",
              "global/West Europe/D_E_SWITZ - Switzerland/TAMSUL_TAB - Tamsulosin tab",
              "global/Japan/JP10 - Astellas Pharma Inc/BIXALOMER - BIXALOMER",
              "global/Japan/JP10 - Astellas Pharma Inc/ENZA - Enzalutamide",
              "global/Japan/JP10 - Astellas Pharma Inc/EVOLOCUMAB - EVOLOCUMAB",
              "global/Japan/JP10 - Astellas Pharma Inc/GABAPENTIN - GABAPENTIN",
              "global/Japan/JP10 - Astellas Pharma Inc/GILTERITNB - Gilteritinib",
              "global/Japan/JP10 - Astellas Pharma Inc/INFLUENZA - INFLUENZA",
              "global/Japan/JP10 - Astellas Pharma Inc/MEPENZOLAT - MEPENZOLAT",
              "global/Japan/JP10 - Astellas Pharma Inc/MICAFUNGIN - Micafungin Sodium",
              "global/Japan/JP10 - Astellas Pharma Inc/MINODRONAT - MINODRONAT",
              "global/Japan/JP10 - Astellas Pharma Inc/MIRABEGRON - Mirabegron",
              "global/Japan/JP10 - Astellas Pharma Inc/NATEGLINID - NATEGLINID",
              "global/Japan/JP10 - Astellas Pharma Inc/PEFICITINI - PEFICITINI",
              "global/Japan/JP10 - Astellas Pharma Inc/RAMOS_IRR - RAMOS_IRR",
              "global/Japan/JP10 - Astellas Pharma Inc/ROMOSOZUMA - ROMOSOZUMA",
              "global/Japan/JP10 - Astellas Pharma Inc/SERESCUE - SERESCUE",
              "global/Japan/JP10 - Astellas Pharma Inc/SOLIFENACN - Solifenacin Succinate",
              "global/Japan/JP10 - Astellas Pharma Inc/TACRO_XL - Tacrolimus Extended-Release",
              "global/Japan/JP10 - Astellas Pharma Inc/TAMSULOSIN - Tamsulosin HCl",
              "global/Japan/JP10 - Astellas Pharma Inc/ZOLPIDEM - ZOLPIDEM",
              "global/North America/US10 - Astellas Pharma US, Inc./ENZA - Enzalutamide",
              "global/North America/US10 - Astellas Pharma US, Inc./ISA_SULFAT - Isavuconazonium Sulfate",
              "global/North America/US10 - Astellas Pharma US, Inc./MICAFUNGIN - Micafungin Sodium",
              "global/North America/US10 - Astellas Pharma US, Inc./MIRABEGRON - Mirabegron",
              "global/North America/US10 - Astellas Pharma US, Inc./REGADENOSN - Regadenoson",
              "global/North America/US10 - Astellas Pharma US, Inc./SOLIFENACN - Solifenacin Succinate",
              "global/North America/US10 - Astellas Pharma US, Inc./TACROLIMUS - Tacrolimus"
            ],
            "_view_count": null,
            "_view_module": "@jupyter-widgets/controls",
            "_view_module_version": "1.5.0",
            "_view_name": "SelectionSliderView",
            "continuous_update": true,
            "description": "unique_id:",
            "description_tooltip": null,
            "disabled": false,
            "index": 1,
            "layout": "IPY_MODEL_a0eb869da18e4c67979cc22787899752",
            "orientation": "horizontal",
            "readout": true,
            "style": "IPY_MODEL_937a9ce37d9b475186405d7e0f19676d"
          }
        },
        "39d70e3b00284db49209862edbe0e450": {
          "model_module": "@jupyter-widgets/output",
          "model_name": "OutputModel",
          "model_module_version": "1.0.0",
          "state": {
            "_dom_classes": [],
            "_model_module": "@jupyter-widgets/output",
            "_model_module_version": "1.0.0",
            "_model_name": "OutputModel",
            "_view_count": null,
            "_view_module": "@jupyter-widgets/output",
            "_view_module_version": "1.0.0",
            "_view_name": "OutputView",
            "layout": "IPY_MODEL_f978fe15e77f47e2a077b02883c54a7b",
            "msg_id": "",
            "outputs": [
              {
                "output_type": "display_data",
                "data": {
                  "text/plain": "<Figure size 2500x500 with 2 Axes>",
                  "image/png": "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\n"
                },
                "metadata": {}
              }
            ]
          }
        },
        "2064b3e213ab48a684a70bf2c8811f06": {
          "model_module": "@jupyter-widgets/base",
          "model_name": "LayoutModel",
          "model_module_version": "1.2.0",
          "state": {
            "_model_module": "@jupyter-widgets/base",
            "_model_module_version": "1.2.0",
            "_model_name": "LayoutModel",
            "_view_count": null,
            "_view_module": "@jupyter-widgets/base",
            "_view_module_version": "1.2.0",
            "_view_name": "LayoutView",
            "align_content": null,
            "align_items": null,
            "align_self": null,
            "border": null,
            "bottom": null,
            "display": null,
            "flex": null,
            "flex_flow": null,
            "grid_area": null,
            "grid_auto_columns": null,
            "grid_auto_flow": null,
            "grid_auto_rows": null,
            "grid_column": null,
            "grid_gap": null,
            "grid_row": null,
            "grid_template_areas": null,
            "grid_template_columns": null,
            "grid_template_rows": null,
            "height": null,
            "justify_content": null,
            "justify_items": null,
            "left": null,
            "margin": null,
            "max_height": null,
            "max_width": null,
            "min_height": null,
            "min_width": null,
            "object_fit": null,
            "object_position": null,
            "order": null,
            "overflow": null,
            "overflow_x": null,
            "overflow_y": null,
            "padding": null,
            "right": null,
            "top": null,
            "visibility": null,
            "width": null
          }
        },
        "a0eb869da18e4c67979cc22787899752": {
          "model_module": "@jupyter-widgets/base",
          "model_name": "LayoutModel",
          "model_module_version": "1.2.0",
          "state": {
            "_model_module": "@jupyter-widgets/base",
            "_model_module_version": "1.2.0",
            "_model_name": "LayoutModel",
            "_view_count": null,
            "_view_module": "@jupyter-widgets/base",
            "_view_module_version": "1.2.0",
            "_view_name": "LayoutView",
            "align_content": null,
            "align_items": null,
            "align_self": null,
            "border": null,
            "bottom": null,
            "display": null,
            "flex": null,
            "flex_flow": null,
            "grid_area": null,
            "grid_auto_columns": null,
            "grid_auto_flow": null,
            "grid_auto_rows": null,
            "grid_column": null,
            "grid_gap": null,
            "grid_row": null,
            "grid_template_areas": null,
            "grid_template_columns": null,
            "grid_template_rows": null,
            "height": null,
            "justify_content": null,
            "justify_items": null,
            "left": null,
            "margin": null,
            "max_height": null,
            "max_width": null,
            "min_height": null,
            "min_width": null,
            "object_fit": null,
            "object_position": null,
            "order": null,
            "overflow": null,
            "overflow_x": null,
            "overflow_y": null,
            "padding": null,
            "right": null,
            "top": null,
            "visibility": null,
            "width": null
          }
        },
        "937a9ce37d9b475186405d7e0f19676d": {
          "model_module": "@jupyter-widgets/controls",
          "model_name": "DescriptionStyleModel",
          "model_module_version": "1.5.0",
          "state": {
            "_model_module": "@jupyter-widgets/controls",
            "_model_module_version": "1.5.0",
            "_model_name": "DescriptionStyleModel",
            "_view_count": null,
            "_view_module": "@jupyter-widgets/base",
            "_view_module_version": "1.2.0",
            "_view_name": "StyleView",
            "description_width": ""
          }
        },
        "f978fe15e77f47e2a077b02883c54a7b": {
          "model_module": "@jupyter-widgets/base",
          "model_name": "LayoutModel",
          "model_module_version": "1.2.0",
          "state": {
            "_model_module": "@jupyter-widgets/base",
            "_model_module_version": "1.2.0",
            "_model_name": "LayoutModel",
            "_view_count": null,
            "_view_module": "@jupyter-widgets/base",
            "_view_module_version": "1.2.0",
            "_view_name": "LayoutView",
            "align_content": null,
            "align_items": null,
            "align_self": null,
            "border": null,
            "bottom": null,
            "display": null,
            "flex": null,
            "flex_flow": null,
            "grid_area": null,
            "grid_auto_columns": null,
            "grid_auto_flow": null,
            "grid_auto_rows": null,
            "grid_column": null,
            "grid_gap": null,
            "grid_row": null,
            "grid_template_areas": null,
            "grid_template_columns": null,
            "grid_template_rows": null,
            "height": null,
            "justify_content": null,
            "justify_items": null,
            "left": null,
            "margin": null,
            "max_height": null,
            "max_width": null,
            "min_height": null,
            "min_width": null,
            "object_fit": null,
            "object_position": null,
            "order": null,
            "overflow": null,
            "overflow_x": null,
            "overflow_y": null,
            "padding": null,
            "right": null,
            "top": null,
            "visibility": null,
            "width": null
          }
        }
      }
    }
  },
  "nbformat": 4,
  "nbformat_minor": 0
}